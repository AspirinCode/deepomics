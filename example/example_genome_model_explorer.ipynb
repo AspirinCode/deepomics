{
 "cells": [
  {
   "cell_type": "code",
   "execution_count": null,
   "metadata": {
    "collapsed": false,
    "deletable": true,
    "editable": true
   },
   "outputs": [],
   "source": [
    "from __future__ import print_function \n",
    "import os, sys, h5py\n",
    "import numpy as np\n",
    "from six.moves import cPickle\n",
    "from collections import OrderedDict\n",
    "\n",
    "import tensorflow as tf\n",
    "sys.path.append('..')\n",
    "from tfomics import neuralnetwork as nn\n",
    "from tfomics import neuralbuild as nb\n",
    "from tfomics import utils, learn, explore"
   ]
  },
  {
   "cell_type": "code",
   "execution_count": null,
   "metadata": {
    "collapsed": false,
    "deletable": true,
    "editable": true
   },
   "outputs": [],
   "source": [
    "def load_data(data_path):\n",
    "    dataset = h5py.File(data_path,'r')\n",
    "\n",
    "    print(\"loading training data\")\n",
    "    X_train = np.expand_dims(dataset['X_train'], axis=3).transpose([0,2,3,1])\n",
    "    y_train = np.array(dataset['Y_train'])\n",
    "    index = np.where(y_train[:,0]==0)[0]\n",
    "    y = np.zeros((y_train.shape[0],1))\n",
    "    y[index] = 1\n",
    "    y_train = np.hstack([y_train, y])\n",
    "    \n",
    "    print(\"loading validation data\")  \n",
    "    X_valid = np.expand_dims(dataset['X_valid'], axis=3).transpose([0,2,3,1])\n",
    "    y_valid = np.array(dataset['Y_valid'])\n",
    "    index = np.where(y_valid[:,0]==0)[0]\n",
    "    y = np.zeros((y_valid.shape[0],1))\n",
    "    y[index] = 1\n",
    "    y_valid = np.hstack([y_valid, y])\n",
    "\n",
    "    print(\"loading test data\")\n",
    "    X_test = np.expand_dims(dataset['X_test'], axis=3).transpose([0,2,3,1])\n",
    "    y_test = np.array(dataset['Y_test'])\n",
    "    index = np.where(y_test[:,0]==0)[0]\n",
    "    y = np.zeros((y_test.shape[0],1))\n",
    "    y[index] = 1\n",
    "    y_test = np.hstack([y_test, y])\n",
    "\n",
    "    return X_train, y_train, X_valid, y_valid, X_test, y_test \n",
    "\n",
    "\n",
    "data_path = '/home/peter/harvard/genome/data'\n",
    "file_name = 'K562_CEBPB_200_genome.h5'\n",
    "X_train, y_train, X_valid, y_valid, X_test, y_test = load_data(os.path.join(data_path, file_name))"
   ]
  },
  {
   "cell_type": "code",
   "execution_count": null,
   "metadata": {
    "collapsed": false
   },
   "outputs": [],
   "source": [
    "\n",
    "def model(input_shape, num_labels):\n",
    "\n",
    "\n",
    "    # create model\n",
    "    layer1 = {  'layer': 'input',\n",
    "                'input_shape': input_shape,\n",
    "                }\n",
    "    layer2 = {  'layer': 'conv1d', \n",
    "                'num_filters': {'start': 32, 'bounds': [1, 200], 'scale': 25, 'multiples': 4},\n",
    "                'filter_size': {'start': 7, 'bounds': [5, 32], 'scale': 5, 'odd': True, 'multiples': 2},\n",
    "                'norm': 'batch',\n",
    "                'padding': 'SAME',\n",
    "                'activation': 'relu',\n",
    "                'dropout': {'start': 0.2, 'bounds': [0., 0.6], 'scale': 0.1},\n",
    "                'name': 'conv1'\n",
    "                }\n",
    "    layer3 = {  'layer': 'conv1d', \n",
    "                'num_filters': {'start': 64, 'bounds': [1, 200], 'scale': 25, 'multiples': 4},\n",
    "                'filter_size': {'start': 7, 'bounds': [5, 32], 'scale': 5, 'odd': True, 'multiples': 2},\n",
    "                'norm': 'batch',\n",
    "                'padding': 'SAME',\n",
    "                'activation': 'relu',\n",
    "                'dropout': {'start': 0.2, 'bounds': [0., 0.6], 'scale': 0.1},\n",
    "                'name': 'conv2'\n",
    "                }\n",
    "    layer4 = {  'layer': 'dense', \n",
    "                'num_units': {'start': 256, 'bounds': [16, 1000], 'scale': 50, 'multiples': 4},\n",
    "                #'norm': 'batch',\n",
    "                'activation': 'relu',\n",
    "                'dropout': {'start': 0.4, 'bounds': [0., 0.8], 'scale': 0.2},\n",
    "                'name': 'dense1'\n",
    "                }            \n",
    "    layer5 = {  'layer': 'dense', \n",
    "                'num_units': num_labels,\n",
    "                'activation': 'softmax',\n",
    "                }\n",
    "\n",
    "    #from tfomics import build_network\n",
    "    model_layers = [layer1, layer2, layer3, layer4, layer5]\n",
    "\n",
    "    # optimization parameters\n",
    "    optimization = {\"objective\": \"categorical\",\n",
    "                    \"optimizer\": \"adam\",\n",
    "                    \"learning_rate\": 0.001,\n",
    "                    \"l2\": 1e-6\n",
    "                    #\"learning_rate\": {'start': -3, 'bounds': [-4, -1], 'scale': 1.5, 'transform': 'log'},      \n",
    "                    #\"l2\": {'start': -6, 'bounds': [-8, -2], 'scale': 3, 'transform': 'log'},\n",
    "                    # \"l1\": 0, \n",
    "                    }\n",
    "    return model_layers, optimization\n",
    "\n",
    "# build network\n",
    "input_shape = list(X_train.shape)\n",
    "input_shape[0] = None\n",
    "num_labels = y_train.shape[1]\n",
    "model_layers, optimization = model(input_shape, num_labels)\n",
    "\n",
    "# build neural opti\n",
    "optimizer = explore.NeuralOptimizer(model_layers, optimization)\n"
   ]
  },
  {
   "cell_type": "code",
   "execution_count": null,
   "metadata": {
    "collapsed": false,
    "deletable": true,
    "editable": true
   },
   "outputs": [],
   "source": [
    "optimizer.sample_network()"
   ]
  },
  {
   "cell_type": "code",
   "execution_count": null,
   "metadata": {
    "collapsed": false,
    "deletable": true,
    "editable": true,
    "scrolled": false
   },
   "outputs": [],
   "source": [
    "# optimize model parameters\n",
    "train = {'inputs': [X_train], 'targets': y_train}\n",
    "valid = {'inputs': [X_valid], 'targets': y_valid}        \n",
    "optimizer.optimize(train, valid, num_trials=100, num_epochs=20, batch_size=128, verbose=0)"
   ]
  },
  {
   "cell_type": "code",
   "execution_count": null,
   "metadata": {
    "collapsed": false,
    "deletable": true,
    "editable": true
   },
   "outputs": [],
   "source": [
    "# save optimal model\n",
    "optimizer.print_optimal_model()"
   ]
  },
  {
   "cell_type": "code",
   "execution_count": null,
   "metadata": {
    "collapsed": true,
    "deletable": true,
    "editable": true
   },
   "outputs": [],
   "source": []
  }
 ],
 "metadata": {
  "anaconda-cloud": {},
  "kernelspec": {
   "display_name": "Python 2",
   "language": "python",
   "name": "python2"
  },
  "language_info": {
   "codemirror_mode": {
    "name": "ipython",
    "version": 2
   },
   "file_extension": ".py",
   "mimetype": "text/x-python",
   "name": "python",
   "nbconvert_exporter": "python",
   "pygments_lexer": "ipython2",
   "version": "2.7.13"
  }
 },
 "nbformat": 4,
 "nbformat_minor": 0
}
