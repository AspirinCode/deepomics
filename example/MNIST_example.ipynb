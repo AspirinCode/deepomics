{
 "cells": [
  {
   "cell_type": "code",
   "execution_count": 1,
   "metadata": {
    "collapsed": false
   },
   "outputs": [],
   "source": [
    "from __future__ import print_function \n",
    "import os, sys\n",
    "import numpy as np\n",
    "from six.moves import cPickle\n",
    "from collections import OrderedDict\n",
    "\n",
    "import tensorflow as tf\n",
    "\n",
    "sys.path.append(os.path.join('..','..'))\n",
    "from tfomics import layers, utils, init, learn\n",
    "from tfomics import neuralnetwork as nn"
   ]
  },
  {
   "cell_type": "markdown",
   "metadata": {},
   "source": [
    "# load data"
   ]
  },
  {
   "cell_type": "code",
   "execution_count": 2,
   "metadata": {
    "collapsed": false
   },
   "outputs": [
    {
     "name": "stdout",
     "output_type": "stream",
     "text": [
      "Extracting MNIST_data/train-images-idx3-ubyte.gz\n",
      "Extracting MNIST_data/train-labels-idx1-ubyte.gz\n",
      "Extracting MNIST_data/t10k-images-idx3-ubyte.gz\n",
      "Extracting MNIST_data/t10k-labels-idx1-ubyte.gz\n"
     ]
    }
   ],
   "source": [
    "from tensorflow.examples.tutorials.mnist import input_data\n",
    "mnist = input_data.read_data_sets('MNIST_data', one_hot=True)\n",
    "\n",
    "X_train = mnist.train.images\n",
    "X_train = np.reshape(X_train, (X_train.shape[0], 28, 28, 1))\n",
    "y_train = mnist.train.labels\n",
    "\n",
    "X_valid = mnist.validation.images\n",
    "X_valid = np.reshape(X_valid, (X_valid.shape[0], 28, 28, 1))\n",
    "y_valid = mnist.validation.labels\n",
    "\n",
    "X_test = mnist.test.images\n",
    "X_test = np.reshape(X_test, (X_test.shape[0], 28, 28, 1))\n",
    "y_test = mnist.test.labels\n",
    "\n",
    "# get shapes\n",
    "num_data, height, widht, dim = X_train.shape\n",
    "input_shape=[None, height, widht, dim]\n",
    "num_labels = y_train.shape[1]   # number of labels (output units)"
   ]
  },
  {
   "cell_type": "markdown",
   "metadata": {},
   "source": [
    "# build network"
   ]
  },
  {
   "cell_type": "code",
   "execution_count": 3,
   "metadata": {
    "collapsed": false
   },
   "outputs": [],
   "source": [
    "# design a neural network model\n",
    "input_vars = utils.placeholder(shape=input_shape, name='input')\n",
    "target_vars = utils.placeholder(shape=(None,num_labels), name='output')\n",
    "is_training = tf.placeholder(tf.bool, name='is_training')   # variable to specify training or testing\n",
    "keep_prob = tf.placeholder(tf.float32, name='keep_prob')   # dropout probability\n",
    "placeholders = [input_vars, target_vars, is_training, keep_prob] \n",
    "\n",
    "net = OrderedDict()\n",
    "net['inputs'] = layers.InputLayer(input_vars)\n",
    "net['conv1'] = layers.Conv2DLayer(net['inputs'], filter_size=(5,5), num_filters=32, padding='SAME')\n",
    "net['conv1_norm'] = layers.BatchNormLayer(net['conv1'], is_training)\n",
    "net['conv1_active'] = layers.ActivationLayer(net['conv1_norm'], function='relu')\n",
    "net['conv1_pool'] = layers.MaxPool2DLayer(net['conv1_active'], pool_size=(2,2))\n",
    "\n",
    "net['conv2'] = layers.Conv2DLayer(net['conv1_pool'], filter_size=(5,5), num_filters=64, \n",
    "                                  strides=(2,2), padding='VALID')\n",
    "net['conv2_norm'] = layers.BatchNormLayer(net['conv2'], is_training)\n",
    "net['conv2_active'] = layers.ActivationLayer(net['conv2_norm'], function='relu')\n",
    "net['conv2_dropout'] = layers.DropoutLayer(net['conv2_active'], keep_prob=keep_prob)\n",
    "\n",
    "net['dense1'] = layers.DenseLayer(net['conv2_dropout'], num_units=512, W=init.HeNormal(), b=None)\n",
    "net['dense1_norm'] = layers.BatchNormLayer(net['dense1'], is_training)\n",
    "net['dense1_active'] = layers.ActivationLayer(net['dense1_norm'], function='relu')\n",
    "net['dense1_dropout'] = layers.DropoutLayer(net['dense1_active'], keep_prob=keep_prob)\n",
    "\n",
    "net['dense2'] = layers.DenseLayer(net['dense1_dropout'], num_units=num_labels, \n",
    "                                  W=init.HeNormal(), b=init.Constant(0.05))\n",
    "net['output'] = layers.ActivationLayer(net['dense2'], function='sigmoid')\n",
    "\n",
    "optimization = {\"objective\": \"categorical\",  # (binary, categorical, squared_error)\n",
    "                \"optimizer\": \"adam\",    \n",
    "                \"learning_rate\": 0.001, # learning rate\n",
    "                \"clip_value\": True,     # clip prediction values (True for classification)\n",
    "                \"l2\": .00001            # l-2 weight decay\n",
    "                }"
   ]
  },
  {
   "cell_type": "code",
   "execution_count": 4,
   "metadata": {
    "collapsed": false
   },
   "outputs": [
    {
     "name": "stdout",
     "output_type": "stream",
     "text": [
      "----------------------------------------------------------------------------\n",
      "Network architecture:\n",
      "----------------------------------------------------------------------------\n",
      "layer1: inputs\n",
      "(?, 28, 28, 1)\n",
      "layer2: conv1\n",
      "(?, 28, 28, 32)\n",
      "layer3: conv1_norm\n",
      "(?, 28, 28, 32)\n",
      "layer4: conv1_active\n",
      "(?, 28, 28, 32)\n",
      "layer5: conv1_pool\n",
      "(?, 14, 14, 32)\n",
      "layer6: conv2\n",
      "(?, 5, 5, 64)\n",
      "layer7: conv2_norm\n",
      "(?, 5, 5, 64)\n",
      "layer8: conv2_active\n",
      "(?, 5, 5, 64)\n",
      "layer9: conv2_dropout\n",
      "(?, 5, 5, 64)\n",
      "layer10: dense1\n",
      "(?, 512)\n",
      "layer11: dense1_norm\n",
      "(?, 512)\n",
      "layer12: dense1_active\n",
      "(?, 512)\n",
      "layer13: dense1_dropout\n",
      "(?, 512)\n",
      "layer14: dense2\n",
      "(?, 10)\n",
      "layer15: output\n",
      "(?, 10)\n",
      "----------------------------------------------------------------------------\n"
     ]
    }
   ],
   "source": [
    "# build neural network class\n",
    "nnmodel = nn.NeuralNet(net, [input_vars])\n",
    "nnmodel.inspect_layers()\n",
    "\n",
    "# compile neural trainer\n",
    "save_path = 'results'\n",
    "if not os.path.isdir(save_path):\n",
    "    os.mkdir(save_path)\n",
    "filename = 'test'\n",
    "filepath = os.path.join(save_path, filename)\n",
    "nntrainer = nn.NeuralTrainer(nnmodel, target_vars, placeholders, optimization, \n",
    "                             save='best', filepath=filepath)"
   ]
  },
  {
   "cell_type": "code",
   "execution_count": 5,
   "metadata": {
    "collapsed": true
   },
   "outputs": [],
   "source": [
    "# run session\n",
    "sess = tf.Session()\n",
    "\n",
    "# initialize variables\n",
    "sess.run(tf.initialize_all_variables())"
   ]
  },
  {
   "cell_type": "code",
   "execution_count": 6,
   "metadata": {
    "collapsed": false
   },
   "outputs": [
    {
     "name": "stdout",
     "output_type": "stream",
     "text": [
      "\r",
      "Epoch 1 out of 500 \n"
     ]
    },
    {
     "ename": "ResourceExhaustedError",
     "evalue": "OOM when allocating tensor with shape[128,28,28,32]\n\t [[Node: Conv2D = Conv2D[T=DT_FLOAT, data_format=\"NHWC\", padding=\"SAME\", strides=[1, 1, 1, 1], use_cudnn_on_gpu=true, _device=\"/job:localhost/replica:0/task:0/gpu:0\"](_recv_input_0/_5, Variable/read)]]\n\t [[Node: moments_1/sufficient_statistics/Shape/_13 = _Recv[client_terminated=false, recv_device=\"/job:localhost/replica:0/task:0/cpu:0\", send_device=\"/job:localhost/replica:0/task:0/gpu:0\", send_device_incarnation=1, tensor_name=\"edge_906_moments_1/sufficient_statistics/Shape\", tensor_type=DT_INT32, _device=\"/job:localhost/replica:0/task:0/cpu:0\"]()]]\nCaused by op u'Conv2D', defined at:\n  File \"/home/peter/anaconda2/lib/python2.7/runpy.py\", line 174, in _run_module_as_main\n    \"__main__\", fname, loader, pkg_name)\n  File \"/home/peter/anaconda2/lib/python2.7/runpy.py\", line 72, in _run_code\n    exec code in run_globals\n  File \"/home/peter/anaconda2/lib/python2.7/site-packages/ipykernel/__main__.py\", line 3, in <module>\n    app.launch_new_instance()\n  File \"/home/peter/anaconda2/lib/python2.7/site-packages/traitlets/config/application.py\", line 589, in launch_instance\n    app.start()\n  File \"/home/peter/anaconda2/lib/python2.7/site-packages/ipykernel/kernelapp.py\", line 442, in start\n    ioloop.IOLoop.instance().start()\n  File \"/home/peter/anaconda2/lib/python2.7/site-packages/zmq/eventloop/ioloop.py\", line 162, in start\n    super(ZMQIOLoop, self).start()\n  File \"/home/peter/anaconda2/lib/python2.7/site-packages/tornado/ioloop.py\", line 883, in start\n    handler_func(fd_obj, events)\n  File \"/home/peter/anaconda2/lib/python2.7/site-packages/tornado/stack_context.py\", line 275, in null_wrapper\n    return fn(*args, **kwargs)\n  File \"/home/peter/anaconda2/lib/python2.7/site-packages/zmq/eventloop/zmqstream.py\", line 440, in _handle_events\n    self._handle_recv()\n  File \"/home/peter/anaconda2/lib/python2.7/site-packages/zmq/eventloop/zmqstream.py\", line 472, in _handle_recv\n    self._run_callback(callback, msg)\n  File \"/home/peter/anaconda2/lib/python2.7/site-packages/zmq/eventloop/zmqstream.py\", line 414, in _run_callback\n    callback(*args, **kwargs)\n  File \"/home/peter/anaconda2/lib/python2.7/site-packages/tornado/stack_context.py\", line 275, in null_wrapper\n    return fn(*args, **kwargs)\n  File \"/home/peter/anaconda2/lib/python2.7/site-packages/ipykernel/kernelbase.py\", line 276, in dispatcher\n    return self.dispatch_shell(stream, msg)\n  File \"/home/peter/anaconda2/lib/python2.7/site-packages/ipykernel/kernelbase.py\", line 228, in dispatch_shell\n    handler(stream, idents, msg)\n  File \"/home/peter/anaconda2/lib/python2.7/site-packages/ipykernel/kernelbase.py\", line 391, in execute_request\n    user_expressions, allow_stdin)\n  File \"/home/peter/anaconda2/lib/python2.7/site-packages/ipykernel/ipkernel.py\", line 199, in do_execute\n    shell.run_cell(code, store_history=store_history, silent=silent)\n  File \"/home/peter/anaconda2/lib/python2.7/site-packages/IPython/core/interactiveshell.py\", line 2723, in run_cell\n    interactivity=interactivity, compiler=compiler, result=result)\n  File \"/home/peter/anaconda2/lib/python2.7/site-packages/IPython/core/interactiveshell.py\", line 2825, in run_ast_nodes\n    if self.run_code(code, result):\n  File \"/home/peter/anaconda2/lib/python2.7/site-packages/IPython/core/interactiveshell.py\", line 2885, in run_code\n    exec(code_obj, self.user_global_ns, self.user_ns)\n  File \"<ipython-input-3-5a93ee15fd9a>\", line 10, in <module>\n    net['conv1'] = layers.Conv2DLayer(net['inputs'], filter_size=(5,5), num_filters=32, padding='SAME')\n  File \"../../tfomics/layers/conv.py\", line 124, in __init__\n    **kwargs)\n  File \"/home/peter/anaconda2/lib/python2.7/site-packages/tensorflow/python/ops/gen_nn_ops.py\", line 394, in conv2d\n    data_format=data_format, name=name)\n  File \"/home/peter/anaconda2/lib/python2.7/site-packages/tensorflow/python/framework/op_def_library.py\", line 703, in apply_op\n    op_def=op_def)\n  File \"/home/peter/anaconda2/lib/python2.7/site-packages/tensorflow/python/framework/ops.py\", line 2317, in create_op\n    original_op=self._default_original_op, op_def=op_def)\n  File \"/home/peter/anaconda2/lib/python2.7/site-packages/tensorflow/python/framework/ops.py\", line 1239, in __init__\n    self._traceback = _extract_stack()\n",
     "output_type": "error",
     "traceback": [
      "\u001b[1;31m---------------------------------------------------------------------------\u001b[0m",
      "\u001b[1;31mResourceExhaustedError\u001b[0m                    Traceback (most recent call last)",
      "\u001b[1;32m<ipython-input-6-bf8f3999367b>\u001b[0m in \u001b[0;36m<module>\u001b[1;34m()\u001b[0m\n\u001b[0;32m      2\u001b[0m \u001b[0mdata\u001b[0m \u001b[1;33m=\u001b[0m \u001b[1;33m{\u001b[0m\u001b[1;34m'train'\u001b[0m\u001b[1;33m:\u001b[0m  \u001b[1;33m[\u001b[0m\u001b[0mX_train\u001b[0m\u001b[1;33m,\u001b[0m \u001b[0my_train\u001b[0m\u001b[1;33m,\u001b[0m \u001b[0mTrue\u001b[0m\u001b[1;33m,\u001b[0m \u001b[1;36m0.7\u001b[0m\u001b[1;33m]\u001b[0m\u001b[1;33m,\u001b[0m \u001b[1;34m'valid'\u001b[0m\u001b[1;33m:\u001b[0m \u001b[1;33m[\u001b[0m\u001b[0mX_valid\u001b[0m\u001b[1;33m,\u001b[0m \u001b[0my_valid\u001b[0m\u001b[1;33m,\u001b[0m \u001b[0mFalse\u001b[0m\u001b[1;33m,\u001b[0m \u001b[1;36m1\u001b[0m\u001b[1;33m]\u001b[0m\u001b[1;33m}\u001b[0m\u001b[1;33m\u001b[0m\u001b[0m\n\u001b[0;32m      3\u001b[0m learn.train_minibatch(sess, nntrainer, data, batch_size=128, num_epochs=500, \n\u001b[1;32m----> 4\u001b[1;33m                       patience=10, verbose=1, shuffle=True)\n\u001b[0m",
      "\u001b[1;32m/home/peter/Code/tensorflow/tfomics/learn.pyc\u001b[0m in \u001b[0;36mtrain_minibatch\u001b[1;34m(sess, nntrainer, data, batch_size, num_epochs, patience, verbose, shuffle)\u001b[0m\n\u001b[0;32m     24\u001b[0m                                                                                         \u001b[0mbatch_size\u001b[0m\u001b[1;33m=\u001b[0m\u001b[0mbatch_size\u001b[0m\u001b[1;33m,\u001b[0m\u001b[1;33m\u001b[0m\u001b[0m\n\u001b[0;32m     25\u001b[0m                                                                                         \u001b[0mverbose\u001b[0m\u001b[1;33m=\u001b[0m\u001b[0mverbose\u001b[0m\u001b[1;33m,\u001b[0m\u001b[1;33m\u001b[0m\u001b[0m\n\u001b[1;32m---> 26\u001b[1;33m \t\t\t\t\t\t\t\t\t\t\tshuffle=shuffle)\n\u001b[0m\u001b[0;32m     27\u001b[0m                 \u001b[0mnntrainer\u001b[0m\u001b[1;33m.\u001b[0m\u001b[0madd_loss\u001b[0m\u001b[1;33m(\u001b[0m\u001b[0mtrain_loss\u001b[0m\u001b[1;33m,\u001b[0m \u001b[1;34m'train'\u001b[0m\u001b[1;33m)\u001b[0m\u001b[1;33m\u001b[0m\u001b[0m\n\u001b[0;32m     28\u001b[0m \u001b[1;33m\u001b[0m\u001b[0m\n",
      "\u001b[1;32m/home/peter/Code/tensorflow/tfomics/neuralnetwork.pyc\u001b[0m in \u001b[0;36mtrain_epoch\u001b[1;34m(self, sess, X, batch_size, verbose, shuffle)\u001b[0m\n\u001b[0;32m    140\u001b[0m                 \u001b[1;32mfor\u001b[0m \u001b[0mi\u001b[0m \u001b[1;32min\u001b[0m \u001b[0mrange\u001b[0m\u001b[1;33m(\u001b[0m\u001b[0mnum_batches\u001b[0m\u001b[1;33m)\u001b[0m\u001b[1;33m:\u001b[0m\u001b[1;33m\u001b[0m\u001b[0m\n\u001b[0;32m    141\u001b[0m                         \u001b[0mfeed_dict\u001b[0m \u001b[1;33m=\u001b[0m \u001b[0mdata_slice\u001b[0m\u001b[1;33m(\u001b[0m\u001b[0mself\u001b[0m\u001b[1;33m.\u001b[0m\u001b[0mplaceholders\u001b[0m\u001b[1;33m,\u001b[0m \u001b[0mX\u001b[0m\u001b[1;33m,\u001b[0m \u001b[0mindices\u001b[0m\u001b[1;33m,\u001b[0m \u001b[0mbatch_size\u001b[0m\u001b[1;33m,\u001b[0m \u001b[0mi\u001b[0m\u001b[1;33m)\u001b[0m\u001b[1;33m\u001b[0m\u001b[0m\n\u001b[1;32m--> 142\u001b[1;33m                         \u001b[0mresults\u001b[0m \u001b[1;33m=\u001b[0m \u001b[0msess\u001b[0m\u001b[1;33m.\u001b[0m\u001b[0mrun\u001b[0m\u001b[1;33m(\u001b[0m\u001b[1;33m[\u001b[0m\u001b[0mself\u001b[0m\u001b[1;33m.\u001b[0m\u001b[0mtrain_step\u001b[0m\u001b[1;33m,\u001b[0m \u001b[0mself\u001b[0m\u001b[1;33m.\u001b[0m\u001b[0mloss\u001b[0m\u001b[1;33m,\u001b[0m \u001b[0mself\u001b[0m\u001b[1;33m.\u001b[0m\u001b[0mpredictions\u001b[0m\u001b[1;33m]\u001b[0m\u001b[1;33m,\u001b[0m \u001b[0mfeed_dict\u001b[0m\u001b[1;33m=\u001b[0m\u001b[0mfeed_dict\u001b[0m\u001b[1;33m)\u001b[0m\u001b[1;33m\u001b[0m\u001b[0m\n\u001b[0m\u001b[0;32m    143\u001b[0m                         \u001b[0mvalue\u001b[0m \u001b[1;33m+=\u001b[0m \u001b[0mself\u001b[0m\u001b[1;33m.\u001b[0m\u001b[0mtrain_metric\u001b[0m\u001b[1;33m(\u001b[0m\u001b[0mresults\u001b[0m\u001b[1;33m[\u001b[0m\u001b[1;36m2\u001b[0m\u001b[1;33m]\u001b[0m\u001b[1;33m,\u001b[0m \u001b[0mfeed_dict\u001b[0m\u001b[1;33m[\u001b[0m\u001b[0mself\u001b[0m\u001b[1;33m.\u001b[0m\u001b[0mtarget_vars\u001b[0m\u001b[1;33m]\u001b[0m\u001b[1;33m)\u001b[0m\u001b[1;33m\u001b[0m\u001b[0m\n\u001b[0;32m    144\u001b[0m                         \u001b[0mperformance\u001b[0m\u001b[1;33m.\u001b[0m\u001b[0madd_loss\u001b[0m\u001b[1;33m(\u001b[0m\u001b[0mresults\u001b[0m\u001b[1;33m[\u001b[0m\u001b[1;36m1\u001b[0m\u001b[1;33m]\u001b[0m\u001b[1;33m)\u001b[0m\u001b[1;33m\u001b[0m\u001b[0m\n",
      "\u001b[1;32m/home/peter/anaconda2/lib/python2.7/site-packages/tensorflow/python/client/session.pyc\u001b[0m in \u001b[0;36mrun\u001b[1;34m(self, fetches, feed_dict, options, run_metadata)\u001b[0m\n\u001b[0;32m    708\u001b[0m     \u001b[1;32mtry\u001b[0m\u001b[1;33m:\u001b[0m\u001b[1;33m\u001b[0m\u001b[0m\n\u001b[0;32m    709\u001b[0m       result = self._run(None, fetches, feed_dict, options_ptr,\n\u001b[1;32m--> 710\u001b[1;33m                          run_metadata_ptr)\n\u001b[0m\u001b[0;32m    711\u001b[0m       \u001b[1;32mif\u001b[0m \u001b[0mrun_metadata\u001b[0m\u001b[1;33m:\u001b[0m\u001b[1;33m\u001b[0m\u001b[0m\n\u001b[0;32m    712\u001b[0m         \u001b[0mproto_data\u001b[0m \u001b[1;33m=\u001b[0m \u001b[0mtf_session\u001b[0m\u001b[1;33m.\u001b[0m\u001b[0mTF_GetBuffer\u001b[0m\u001b[1;33m(\u001b[0m\u001b[0mrun_metadata_ptr\u001b[0m\u001b[1;33m)\u001b[0m\u001b[1;33m\u001b[0m\u001b[0m\n",
      "\u001b[1;32m/home/peter/anaconda2/lib/python2.7/site-packages/tensorflow/python/client/session.pyc\u001b[0m in \u001b[0;36m_run\u001b[1;34m(self, handle, fetches, feed_dict, options, run_metadata)\u001b[0m\n\u001b[0;32m    906\u001b[0m     \u001b[1;32mif\u001b[0m \u001b[0mfinal_fetches\u001b[0m \u001b[1;32mor\u001b[0m \u001b[0mfinal_targets\u001b[0m\u001b[1;33m:\u001b[0m\u001b[1;33m\u001b[0m\u001b[0m\n\u001b[0;32m    907\u001b[0m       results = self._do_run(handle, final_targets, final_fetches,\n\u001b[1;32m--> 908\u001b[1;33m                              feed_dict_string, options, run_metadata)\n\u001b[0m\u001b[0;32m    909\u001b[0m     \u001b[1;32melse\u001b[0m\u001b[1;33m:\u001b[0m\u001b[1;33m\u001b[0m\u001b[0m\n\u001b[0;32m    910\u001b[0m       \u001b[0mresults\u001b[0m \u001b[1;33m=\u001b[0m \u001b[1;33m[\u001b[0m\u001b[1;33m]\u001b[0m\u001b[1;33m\u001b[0m\u001b[0m\n",
      "\u001b[1;32m/home/peter/anaconda2/lib/python2.7/site-packages/tensorflow/python/client/session.pyc\u001b[0m in \u001b[0;36m_do_run\u001b[1;34m(self, handle, target_list, fetch_list, feed_dict, options, run_metadata)\u001b[0m\n\u001b[0;32m    956\u001b[0m     \u001b[1;32mif\u001b[0m \u001b[0mhandle\u001b[0m \u001b[1;32mis\u001b[0m \u001b[0mNone\u001b[0m\u001b[1;33m:\u001b[0m\u001b[1;33m\u001b[0m\u001b[0m\n\u001b[0;32m    957\u001b[0m       return self._do_call(_run_fn, self._session, feed_dict, fetch_list,\n\u001b[1;32m--> 958\u001b[1;33m                            target_list, options, run_metadata)\n\u001b[0m\u001b[0;32m    959\u001b[0m     \u001b[1;32melse\u001b[0m\u001b[1;33m:\u001b[0m\u001b[1;33m\u001b[0m\u001b[0m\n\u001b[0;32m    960\u001b[0m       return self._do_call(_prun_fn, self._session, handle, feed_dict,\n",
      "\u001b[1;32m/home/peter/anaconda2/lib/python2.7/site-packages/tensorflow/python/client/session.pyc\u001b[0m in \u001b[0;36m_do_call\u001b[1;34m(self, fn, *args)\u001b[0m\n\u001b[0;32m    976\u001b[0m         \u001b[1;32mexcept\u001b[0m \u001b[0mKeyError\u001b[0m\u001b[1;33m:\u001b[0m\u001b[1;33m\u001b[0m\u001b[0m\n\u001b[0;32m    977\u001b[0m           \u001b[1;32mpass\u001b[0m\u001b[1;33m\u001b[0m\u001b[0m\n\u001b[1;32m--> 978\u001b[1;33m       \u001b[1;32mraise\u001b[0m \u001b[0mtype\u001b[0m\u001b[1;33m(\u001b[0m\u001b[0me\u001b[0m\u001b[1;33m)\u001b[0m\u001b[1;33m(\u001b[0m\u001b[0mnode_def\u001b[0m\u001b[1;33m,\u001b[0m \u001b[0mop\u001b[0m\u001b[1;33m,\u001b[0m \u001b[0mmessage\u001b[0m\u001b[1;33m)\u001b[0m\u001b[1;33m\u001b[0m\u001b[0m\n\u001b[0m\u001b[0;32m    979\u001b[0m \u001b[1;33m\u001b[0m\u001b[0m\n\u001b[0;32m    980\u001b[0m   \u001b[1;32mdef\u001b[0m \u001b[0m_extend_graph\u001b[0m\u001b[1;33m(\u001b[0m\u001b[0mself\u001b[0m\u001b[1;33m)\u001b[0m\u001b[1;33m:\u001b[0m\u001b[1;33m\u001b[0m\u001b[0m\n",
      "\u001b[1;31mResourceExhaustedError\u001b[0m: OOM when allocating tensor with shape[128,28,28,32]\n\t [[Node: Conv2D = Conv2D[T=DT_FLOAT, data_format=\"NHWC\", padding=\"SAME\", strides=[1, 1, 1, 1], use_cudnn_on_gpu=true, _device=\"/job:localhost/replica:0/task:0/gpu:0\"](_recv_input_0/_5, Variable/read)]]\n\t [[Node: moments_1/sufficient_statistics/Shape/_13 = _Recv[client_terminated=false, recv_device=\"/job:localhost/replica:0/task:0/cpu:0\", send_device=\"/job:localhost/replica:0/task:0/gpu:0\", send_device_incarnation=1, tensor_name=\"edge_906_moments_1/sufficient_statistics/Shape\", tensor_type=DT_INT32, _device=\"/job:localhost/replica:0/task:0/cpu:0\"]()]]\nCaused by op u'Conv2D', defined at:\n  File \"/home/peter/anaconda2/lib/python2.7/runpy.py\", line 174, in _run_module_as_main\n    \"__main__\", fname, loader, pkg_name)\n  File \"/home/peter/anaconda2/lib/python2.7/runpy.py\", line 72, in _run_code\n    exec code in run_globals\n  File \"/home/peter/anaconda2/lib/python2.7/site-packages/ipykernel/__main__.py\", line 3, in <module>\n    app.launch_new_instance()\n  File \"/home/peter/anaconda2/lib/python2.7/site-packages/traitlets/config/application.py\", line 589, in launch_instance\n    app.start()\n  File \"/home/peter/anaconda2/lib/python2.7/site-packages/ipykernel/kernelapp.py\", line 442, in start\n    ioloop.IOLoop.instance().start()\n  File \"/home/peter/anaconda2/lib/python2.7/site-packages/zmq/eventloop/ioloop.py\", line 162, in start\n    super(ZMQIOLoop, self).start()\n  File \"/home/peter/anaconda2/lib/python2.7/site-packages/tornado/ioloop.py\", line 883, in start\n    handler_func(fd_obj, events)\n  File \"/home/peter/anaconda2/lib/python2.7/site-packages/tornado/stack_context.py\", line 275, in null_wrapper\n    return fn(*args, **kwargs)\n  File \"/home/peter/anaconda2/lib/python2.7/site-packages/zmq/eventloop/zmqstream.py\", line 440, in _handle_events\n    self._handle_recv()\n  File \"/home/peter/anaconda2/lib/python2.7/site-packages/zmq/eventloop/zmqstream.py\", line 472, in _handle_recv\n    self._run_callback(callback, msg)\n  File \"/home/peter/anaconda2/lib/python2.7/site-packages/zmq/eventloop/zmqstream.py\", line 414, in _run_callback\n    callback(*args, **kwargs)\n  File \"/home/peter/anaconda2/lib/python2.7/site-packages/tornado/stack_context.py\", line 275, in null_wrapper\n    return fn(*args, **kwargs)\n  File \"/home/peter/anaconda2/lib/python2.7/site-packages/ipykernel/kernelbase.py\", line 276, in dispatcher\n    return self.dispatch_shell(stream, msg)\n  File \"/home/peter/anaconda2/lib/python2.7/site-packages/ipykernel/kernelbase.py\", line 228, in dispatch_shell\n    handler(stream, idents, msg)\n  File \"/home/peter/anaconda2/lib/python2.7/site-packages/ipykernel/kernelbase.py\", line 391, in execute_request\n    user_expressions, allow_stdin)\n  File \"/home/peter/anaconda2/lib/python2.7/site-packages/ipykernel/ipkernel.py\", line 199, in do_execute\n    shell.run_cell(code, store_history=store_history, silent=silent)\n  File \"/home/peter/anaconda2/lib/python2.7/site-packages/IPython/core/interactiveshell.py\", line 2723, in run_cell\n    interactivity=interactivity, compiler=compiler, result=result)\n  File \"/home/peter/anaconda2/lib/python2.7/site-packages/IPython/core/interactiveshell.py\", line 2825, in run_ast_nodes\n    if self.run_code(code, result):\n  File \"/home/peter/anaconda2/lib/python2.7/site-packages/IPython/core/interactiveshell.py\", line 2885, in run_code\n    exec(code_obj, self.user_global_ns, self.user_ns)\n  File \"<ipython-input-3-5a93ee15fd9a>\", line 10, in <module>\n    net['conv1'] = layers.Conv2DLayer(net['inputs'], filter_size=(5,5), num_filters=32, padding='SAME')\n  File \"../../tfomics/layers/conv.py\", line 124, in __init__\n    **kwargs)\n  File \"/home/peter/anaconda2/lib/python2.7/site-packages/tensorflow/python/ops/gen_nn_ops.py\", line 394, in conv2d\n    data_format=data_format, name=name)\n  File \"/home/peter/anaconda2/lib/python2.7/site-packages/tensorflow/python/framework/op_def_library.py\", line 703, in apply_op\n    op_def=op_def)\n  File \"/home/peter/anaconda2/lib/python2.7/site-packages/tensorflow/python/framework/ops.py\", line 2317, in create_op\n    original_op=self._default_original_op, op_def=op_def)\n  File \"/home/peter/anaconda2/lib/python2.7/site-packages/tensorflow/python/framework/ops.py\", line 1239, in __init__\n    self._traceback = _extract_stack()\n"
     ]
    }
   ],
   "source": [
    "# organize dataset to be just like placeholders list\n",
    "data = {'train':  [X_train, y_train, True, 0.7], 'valid': [X_valid, y_valid, False, 1]}\n",
    "learn.train_minibatch(sess, nntrainer, data, batch_size=128, num_epochs=500, \n",
    "                      patience=10, verbose=1, shuffle=True)"
   ]
  },
  {
   "cell_type": "code",
   "execution_count": null,
   "metadata": {
    "collapsed": false
   },
   "outputs": [],
   "source": [
    "# load best model\n",
    "nnmodel.load_model_parameters(sess, filepath+'_best.ckpt')\n",
    "\n",
    "test = [X_test, y_test, False, 1]\n",
    "test_loss = nntrainer.test_model(sess, test, batch_size=512)"
   ]
  },
  {
   "cell_type": "markdown",
   "metadata": {
    "collapsed": true
   },
   "source": [
    "# Residual blocks"
   ]
  },
  {
   "cell_type": "code",
   "execution_count": null,
   "metadata": {
    "collapsed": false
   },
   "outputs": [],
   "source": [
    "# design a neural network model\n",
    "input_vars = utils.placeholder(shape=input_shape, name='input')\n",
    "target_vars = utils.placeholder(shape=(None,num_labels), name='output')\n",
    "is_training = tf.placeholder(tf.bool, name='is_training')   # variable to specify training or testing\n",
    "keep_prob = tf.placeholder(tf.float32, name='keep_prob')   # dropout probability\n",
    "placeholders = [input_vars, target_vars, is_training, keep_prob] \n",
    "\n",
    "net = OrderedDict()\n",
    "net['inputs'] = layers.InputLayer(input_vars)\n",
    "\n",
    "# 1st convolution layer\n",
    "net['conv1'] = layers.Conv2DLayer(net['inputs'], filter_size=(5,5), num_filters=32, padding='SAME')\n",
    "net['conv1_norm'] = layers.BatchNormLayer(net['conv1'], is_training)\n",
    "net['conv1_active'] = layers.ActivationLayer(net['conv1_norm'], function='relu')\n",
    "\n",
    "# residual block 1\n",
    "num_filters = 32\n",
    "filter_size = (5,5)\n",
    "last_layer = 'conv1_active'\n",
    "name = 'conv1_2'\n",
    "net[name+'_1resid'] = layers.Conv2DLayer(net[last_layer], filter_size=filter_size, num_filters=num_filters, padding='SAME')\n",
    "net[name+'_1resid_norm'] = layers.BatchNormLayer(net[name+'_1resid'], is_training)\n",
    "net[name+'_1resid_active'] = layers.ActivationLayer(net[name+'_1resid_norm'], function='relu')\n",
    "net[name+'_1resid_dropout'] = layers.DropoutLayer(net[name+'_1resid_active'], keep_prob=keep_prob)\n",
    "net[name+'_2resid'] = layers.Conv2DLayer(net[name+'_1resid_dropout'], filter_size=filter_size, num_filters=num_filters, padding='SAME')\n",
    "net[name+'_2resid_norm'] = layers.BatchNormLayer(net[name+'_2resid'], is_training)\n",
    "net[name+'_residual'] = layers.ElementwiseSumLayer([net[last_layer], net[name+'_2resid_norm']])\n",
    "net[name+'_resid'] = layers.ActivationLayer(net[name+'_residual'], function='relu')\n",
    "\n",
    "net['conv1_pool'] = layers.MaxPool2DLayer(net['conv1_2_resid'], pool_size=(2,2))\n",
    "net['conv1_dropout'] = layers.DropoutLayer(net['conv1_pool'], keep_prob=keep_prob)\n",
    "\n",
    "# 2nd convolution layer\n",
    "net['conv2'] = layers.Conv2DLayer(net['conv1_dropout'], filter_size=(5,5), num_filters=64, \n",
    "                                  strides=(1,1), padding='VALID')\n",
    "net['conv2_norm'] = layers.BatchNormLayer(net['conv2'], is_training)\n",
    "net['conv2_active'] = layers.ActivationLayer(net['conv2_norm'], function='relu')\n",
    "\n",
    "# residual block 2\n",
    "num_filters = 64\n",
    "filter_size = (5,5)\n",
    "last_layer = 'conv2_active'\n",
    "name = 'conv2_2'\n",
    "net[name+'_1resid'] = layers.Conv2DLayer(net[last_layer], filter_size=filter_size, num_filters=num_filters, padding='SAME')\n",
    "net[name+'_1resid_norm'] = layers.BatchNormLayer(net[name+'_1resid'], is_training)\n",
    "net[name+'_1resid_active'] = layers.ActivationLayer(net[name+'_1resid_norm'], function='relu')\n",
    "net[name+'_1resid_dropout'] = layers.DropoutLayer(net[name+'_1resid_active'], keep_prob=keep_prob)\n",
    "net[name+'_2resid'] = layers.Conv2DLayer(net[name+'_1resid_dropout'], filter_size=filter_size, num_filters=num_filters, padding='SAME')\n",
    "net[name+'_2resid_norm'] = layers.BatchNormLayer(net[name+'_2resid'], is_training)\n",
    "net[name+'_residual'] = layers.ElementwiseSumLayer([net[last_layer], net[name+'_2resid_norm']])\n",
    "net[name+'_resid'] = layers.ActivationLayer(net[name+'_residual'], function='relu')\n",
    "\n",
    "net['conv2_pool'] = layers.MaxPool2DLayer(net['conv2_2_resid'], pool_size=(2,2))\n",
    "net['conv2_dropout'] = layers.DropoutLayer(net['conv2_pool'], keep_prob=keep_prob)\n",
    "\n",
    "# dense layer 1\n",
    "net['dense1'] = layers.DenseLayer(net['conv2_dropout'], num_units=128, \n",
    "                                  W=init.HeNormal(), b=init.Constant(0.05))\n",
    "net['dense1_norm'] = layers.BatchNormLayer(net['dense1'], is_training)\n",
    "net['dense1_active'] = layers.ActivationLayer(net['dense1_norm'], function='relu')\n",
    "net['dense1_dropout'] = layers.DropoutLayer(net['dense1_active'], keep_prob=keep_prob)\n",
    "\n",
    "# dense layer 2\n",
    "net['dense2'] = layers.DenseLayer(net['dense1_dropout'], num_units=num_labels, \n",
    "                                  W=init.HeNormal(), b=init.Constant(0.05))\n",
    "net['output'] = layers.ActivationLayer(net['dense2'], function='sigmoid')\n",
    "\n",
    "\n",
    "optimization = {\"objective\": \"categorical\",  # (binary, categorical, squared_error)\n",
    "                \"optimizer\": \"adam\",    \n",
    "                \"learning_rate\": 0.001, # learning rate\n",
    "                \"clip_value\": True,     # clip prediction values (True for classification)\n",
    "                \"l2\": .00001            # l-2 weight decay\n",
    "                }\n"
   ]
  },
  {
   "cell_type": "code",
   "execution_count": null,
   "metadata": {
    "collapsed": false
   },
   "outputs": [],
   "source": [
    "# build neural network class\n",
    "nnmodel = nn.NeuralNet(net, [input_vars])\n",
    "nnmodel.inspect_layers()\n",
    "\n",
    "# compile neural trainer\n",
    "nntrainer = nn.NeuralTrainer(nnmodel, target_vars, placeholders, optimization, \n",
    "                             save='best', filepath='.')"
   ]
  },
  {
   "cell_type": "code",
   "execution_count": null,
   "metadata": {
    "collapsed": false
   },
   "outputs": [],
   "source": [
    "# run session\n",
    "sess = tf.Session()\n",
    "\n",
    "# initialize variables\n",
    "sess.run(tf.global_variables_initializer())\n",
    "\n",
    "# organize dataset to be just like placeholders list\n",
    "data = {'train':  [X_train, y_train, True, 0.3], 'valid': [X_valid, y_valid, False, 1]}\n",
    "learn.train_minibatch(sess, nntrainer, data, batch_size=128, num_epochs=500, \n",
    "                      patience=10, verbose=1, shuffle=True)"
   ]
  },
  {
   "cell_type": "code",
   "execution_count": null,
   "metadata": {
    "collapsed": true
   },
   "outputs": [],
   "source": [
    "test = [X_test, y_test, False, 1]\n",
    "test_loss = nntrainer.test_model(sess, test, batch_size=512)"
   ]
  }
 ],
 "metadata": {
  "anaconda-cloud": {},
  "kernelspec": {
   "display_name": "Python 2",
   "language": "python",
   "name": "python2"
  },
  "language_info": {
   "codemirror_mode": {
    "name": "ipython",
    "version": 2
   },
   "file_extension": ".py",
   "mimetype": "text/x-python",
   "name": "python",
   "nbconvert_exporter": "python",
   "pygments_lexer": "ipython2",
   "version": "2.7.12"
  }
 },
 "nbformat": 4,
 "nbformat_minor": 0
}
