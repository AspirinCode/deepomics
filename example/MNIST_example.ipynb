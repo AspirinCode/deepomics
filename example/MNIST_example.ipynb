{
 "cells": [
  {
   "cell_type": "code",
   "execution_count": 1,
   "metadata": {
    "collapsed": false
   },
   "outputs": [],
   "source": [
    "from __future__ import print_function \n",
    "import os, sys\n",
    "import numpy as np\n",
    "from six.moves import cPickle\n",
    "from collections import OrderedDict\n",
    "\n",
    "import tensorflow as tf\n",
    "\n",
    "sys.path.append(os.path.join('..','..'))\n",
    "from tfomics import layers, utils, init, learn\n",
    "from tfomics import neuralnetwork as nn"
   ]
  },
  {
   "cell_type": "markdown",
   "metadata": {},
   "source": [
    "# load data"
   ]
  },
  {
   "cell_type": "code",
   "execution_count": 2,
   "metadata": {
    "collapsed": false
   },
   "outputs": [
    {
     "name": "stdout",
     "output_type": "stream",
     "text": [
      "Successfully downloaded train-images-idx3-ubyte.gz 9912422 bytes.\n",
      "Extracting MNIST_data/train-images-idx3-ubyte.gz\n",
      "Successfully downloaded train-labels-idx1-ubyte.gz 28881 bytes.\n",
      "Extracting MNIST_data/train-labels-idx1-ubyte.gz\n",
      "Successfully downloaded t10k-images-idx3-ubyte.gz 1648877 bytes.\n",
      "Extracting MNIST_data/t10k-images-idx3-ubyte.gz\n",
      "Successfully downloaded t10k-labels-idx1-ubyte.gz 4542 bytes.\n",
      "Extracting MNIST_data/t10k-labels-idx1-ubyte.gz\n"
     ]
    }
   ],
   "source": [
    "from tensorflow.examples.tutorials.mnist import input_data\n",
    "mnist = input_data.read_data_sets('MNIST_data', one_hot=True)\n",
    "\n",
    "X_train = mnist.train.images\n",
    "X_train = np.reshape(X_train, (X_train.shape[0], 28, 28, 1))\n",
    "y_train = mnist.train.labels\n",
    "\n",
    "X_valid = mnist.validation.images\n",
    "X_valid = np.reshape(X_valid, (X_valid.shape[0], 28, 28, 1))\n",
    "y_valid = mnist.validation.labels\n",
    "\n",
    "X_test = mnist.test.images\n",
    "X_test = np.reshape(X_test, (X_test.shape[0], 28, 28, 1))\n",
    "y_test = mnist.test.labels\n",
    "\n",
    "# get shapes\n",
    "num_data, height, widht, dim = X_train.shape\n",
    "input_shape=[None, height, widht, dim]\n",
    "num_labels = y_train.shape[1]   # number of labels (output units)"
   ]
  },
  {
   "cell_type": "markdown",
   "metadata": {},
   "source": [
    "# build network"
   ]
  },
  {
   "cell_type": "code",
   "execution_count": 3,
   "metadata": {
    "collapsed": false
   },
   "outputs": [],
   "source": [
    "# design a neural network model\n",
    "input_vars = utils.placeholder(shape=input_shape, name='input')\n",
    "target_vars = utils.placeholder(shape=(None,num_labels), name='output')\n",
    "is_training = tf.placeholder(tf.bool, name='is_training')   # variable to specify training or testing\n",
    "keep_prob = tf.placeholder(tf.float32, name='keep_prob')   # dropout probability\n",
    "placeholders = [input_vars, target_vars, is_training, keep_prob] \n",
    "\n",
    "net = OrderedDict()\n",
    "net['inputs'] = layers.InputLayer(input_vars)\n",
    "net['conv1'] = layers.Conv2DLayer(net['inputs'], filter_size=(5,5), num_filters=32, padding='SAME')\n",
    "net['conv1_norm'] = layers.BatchNormLayer(net['conv1'], is_training)\n",
    "net['conv1_active'] = layers.ActivationLayer(net['conv1_norm'], function='relu')\n",
    "net['conv1_pool'] = layers.MaxPool2DLayer(net['conv1_active'], pool_size=(2,2))\n",
    "net['conv1_dropout'] = layers.DropoutLayer(net['conv1_pool'], keep_prob=keep_prob)\n",
    "\n",
    "net['conv2'] = layers.Conv2DLayer(net['conv1_dropout'], filter_size=(5,5), num_filters=64, \n",
    "                                  strides=(2,2), padding='VALID')\n",
    "net['conv2_norm'] = layers.BatchNormLayer(net['conv2'], is_training)\n",
    "net['conv2_active'] = layers.ActivationLayer(net['conv2_norm'], function='relu')\n",
    "net['conv2_dropout'] = layers.DropoutLayer(net['conv2_active'], keep_prob=keep_prob)\n",
    "\n",
    "net['dense1'] = layers.DenseLayer(net['conv2_dropout'], num_units=1024, W=init.HeNormal(), b=None)\n",
    "net['dense1_norm'] = layers.BatchNormLayer(net['dense1'], is_training)\n",
    "net['dense1_active'] = layers.ActivationLayer(net['dense1_norm'], function='relu')\n",
    "net['dense1_dropout'] = layers.DropoutLayer(net['dense1_active'], keep_prob=keep_prob)\n",
    "\n",
    "net['dense2'] = layers.DenseLayer(net['dense1_dropout'], num_units=num_labels, \n",
    "                                  W=init.HeNormal(), b=init.Constant(0.05))\n",
    "net['output'] = layers.ActivationLayer(net['dense2'], function='sigmoid')\n",
    "\n",
    "optimization = {\"objective\": \"categorical\",  # (binary, categorical, squared_error)\n",
    "                \"optimizer\": \"adam\",    \n",
    "                \"learning_rate\": 0.001, # learning rate\n",
    "                \"clip_value\": True,     # clip prediction values (True for classification)\n",
    "                \"l2\": .00001            # l-2 weight decay\n",
    "                }"
   ]
  },
  {
   "cell_type": "code",
   "execution_count": 4,
   "metadata": {
    "collapsed": false
   },
   "outputs": [
    {
     "name": "stdout",
     "output_type": "stream",
     "text": [
      "----------------------------------------------------------------------------\n",
      "Network architecture:\n",
      "----------------------------------------------------------------------------\n",
      "layer1: inputs\n",
      "(?, 28, 28, 1)\n",
      "layer2: conv1\n",
      "(?, 28, 28, 32)\n",
      "layer3: conv1_norm\n",
      "(?, 28, 28, 32)\n",
      "layer4: conv1_active\n",
      "(?, 28, 28, 32)\n",
      "layer5: conv1_pool\n",
      "(?, 14, 14, 32)\n",
      "layer6: conv1_dropout\n",
      "(?, 14, 14, 32)\n",
      "layer7: conv2\n",
      "(?, 5, 5, 64)\n",
      "layer8: conv2_norm\n",
      "(?, 5, 5, 64)\n",
      "layer9: conv2_active\n",
      "(?, 5, 5, 64)\n",
      "layer10: conv2_dropout\n",
      "(?, 5, 5, 64)\n",
      "layer11: dense1\n",
      "(?, 1024)\n",
      "layer12: dense1_norm\n",
      "(?, 1024)\n",
      "layer13: dense1_active\n",
      "(?, 1024)\n",
      "layer14: dense1_dropout\n",
      "(?, 1024)\n",
      "layer15: dense2\n",
      "(?, 10)\n",
      "layer16: output\n",
      "(?, 10)\n",
      "----------------------------------------------------------------------------\n"
     ]
    }
   ],
   "source": [
    "# build neural network class\n",
    "nnmodel = nn.NeuralNet(net, [input_vars])\n",
    "nnmodel.inspect_layers()\n",
    "\n",
    "# compile neural trainer\n",
    "save_path = 'results'\n",
    "if not os.path.isdir(save_path):\n",
    "    save_path = os.mkdir(save_path)\n",
    "filename = 'test'\n",
    "filepath = os.path.join(save_path, filename)\n",
    "nntrainer = nn.NeuralTrainer(nnmodel, target_vars, placeholders, optimization, \n",
    "                             save='best', filepath=filepath)"
   ]
  },
  {
   "cell_type": "code",
   "execution_count": null,
   "metadata": {
    "collapsed": false
   },
   "outputs": [
    {
     "name": "stdout",
     "output_type": "stream",
     "text": [
      "Epoch 1 out of 500 \n",
      "[==                            ] 6.1% -- time=89s -- loss=2.30470 -- accuracy=18.69%  "
     ]
    }
   ],
   "source": [
    "# run session\n",
    "sess = tf.Session()\n",
    "\n",
    "# initialize variables\n",
    "sess.run(tf.global_variables_initializer())\n",
    "\n",
    "# organize dataset to be just like placeholders list\n",
    "data = {'train':  [X_train, y_train, True, 0.3], 'valid': [X_valid, y_valid, False, 1]}\n",
    "learn.train_minibatch(sess, nntrainer, data, batch_size=128, num_epochs=500, \n",
    "                      patience=10, verbose=1, shuffle=True)"
   ]
  },
  {
   "cell_type": "code",
   "execution_count": null,
   "metadata": {
    "collapsed": false
   },
   "outputs": [],
   "source": [
    "# load best model\n",
    "nnmodel.load_model_parameters(sess, filepath+'_best.ckpt')\n",
    "\n",
    "test = [X_test, y_test, False, 1]\n",
    "test_loss = nntrainer.test_model(sess, test, batch_size=512)"
   ]
  },
  {
   "cell_type": "markdown",
   "metadata": {
    "collapsed": true
   },
   "source": [
    "# Residual blocks"
   ]
  },
  {
   "cell_type": "code",
   "execution_count": null,
   "metadata": {
    "collapsed": false
   },
   "outputs": [],
   "source": [
    "# design a neural network model\n",
    "input_vars = utils.placeholder(shape=input_shape, name='input')\n",
    "target_vars = utils.placeholder(shape=(None,num_labels), name='output')\n",
    "is_training = tf.placeholder(tf.bool, name='is_training')   # variable to specify training or testing\n",
    "keep_prob = tf.placeholder(tf.float32, name='keep_prob')   # dropout probability\n",
    "placeholders = [input_vars, target_vars, is_training, keep_prob] \n",
    "\n",
    "net = OrderedDict()\n",
    "net['inputs'] = layers.InputLayer(input_vars)\n",
    "\n",
    "# 1st convolution layer\n",
    "net['conv1'] = layers.Conv2DLayer(net['inputs'], filter_size=(5,5), num_filters=32, padding='SAME')\n",
    "net['conv1_norm'] = layers.BatchNormLayer(net['conv1'], is_training)\n",
    "net['conv1_active'] = layers.ActivationLayer(net['conv1_norm'], function='relu')\n",
    "\n",
    "# residual block 1\n",
    "num_filters = 32\n",
    "filter_size = (5,5)\n",
    "last_layer = 'conv1_active'\n",
    "name = 'conv1_2'\n",
    "net[name+'_1resid'] = layers.Conv2DLayer(net[last_layer], filter_size=filter_size, num_filters=num_filters, padding='SAME')\n",
    "net[name+'_1resid_norm'] = layers.BatchNormLayer(net[name+'_1resid'], is_training)\n",
    "net[name+'_1resid_active'] = layers.ActivationLayer(net[name+'_1resid_norm'], function='relu')\n",
    "net[name+'_1resid_dropout'] = layers.DropoutLayer(net[name+'_1resid_active'], keep_prob=keep_prob)\n",
    "net[name+'_2resid'] = layers.Conv2DLayer(net[name+'_1resid_dropout'], filter_size=filter_size, num_filters=num_filters, padding='SAME')\n",
    "net[name+'_2resid_norm'] = layers.BatchNormLayer(net[name+'_2resid'], is_training)\n",
    "net[name+'_residual'] = layers.ElementwiseSumLayer([net[last_layer], net[name+'_2resid_norm']])\n",
    "net[name+'_resid'] = layers.ActivationLayer(net[name+'_residual'], function='relu')\n",
    "\n",
    "net['conv1_pool'] = layers.MaxPool2DLayer(net['conv1_2_resid'], pool_size=(2,2))\n",
    "net['conv1_dropout'] = layers.DropoutLayer(net['conv1_pool'], keep_prob=keep_prob)\n",
    "\n",
    "# 2nd convolution layer\n",
    "net['conv2'] = layers.Conv2DLayer(net['conv1_dropout'], filter_size=(5,5), num_filters=64, \n",
    "                                  strides=(1,1), padding='VALID')\n",
    "net['conv2_norm'] = layers.BatchNormLayer(net['conv2'], is_training)\n",
    "net['conv2_active'] = layers.ActivationLayer(net['conv2_norm'], function='relu')\n",
    "\n",
    "# residual block 2\n",
    "num_filters = 64\n",
    "filter_size = (5,5)\n",
    "last_layer = 'conv2_active'\n",
    "name = 'conv2_2'\n",
    "net[name+'_1resid'] = layers.Conv2DLayer(net[last_layer], filter_size=filter_size, num_filters=num_filters, padding='SAME')\n",
    "net[name+'_1resid_norm'] = layers.BatchNormLayer(net[name+'_1resid'], is_training)\n",
    "net[name+'_1resid_active'] = layers.ActivationLayer(net[name+'_1resid_norm'], function='relu')\n",
    "net[name+'_1resid_dropout'] = layers.DropoutLayer(net[name+'_1resid_active'], keep_prob=keep_prob)\n",
    "net[name+'_2resid'] = layers.Conv2DLayer(net[name+'_1resid_dropout'], filter_size=filter_size, num_filters=num_filters, padding='SAME')\n",
    "net[name+'_2resid_norm'] = layers.BatchNormLayer(net[name+'_2resid'], is_training)\n",
    "net[name+'_residual'] = layers.ElementwiseSumLayer([net[last_layer], net[name+'_2resid_norm']])\n",
    "net[name+'_resid'] = layers.ActivationLayer(net[name+'_residual'], function='relu')\n",
    "\n",
    "net['conv2_pool'] = layers.MaxPool2DLayer(net['conv2_2_resid'], pool_size=(2,2))\n",
    "net['conv2_dropout'] = layers.DropoutLayer(net['conv2_pool'], keep_prob=keep_prob)\n",
    "\n",
    "# dense layer 1\n",
    "net['dense1'] = layers.DenseLayer(net['conv2_dropout'], num_units=128, \n",
    "                                  W=init.HeNormal(), b=init.Constant(0.05))\n",
    "net['dense1_norm'] = layers.BatchNormLayer(net['dense1'], is_training)\n",
    "net['dense1_active'] = layers.ActivationLayer(net['dense1_norm'], function='relu')\n",
    "net['dense1_dropout'] = layers.DropoutLayer(net['dense1_active'], keep_prob=keep_prob)\n",
    "\n",
    "# dense layer 2\n",
    "net['dense2'] = layers.DenseLayer(net['dense1_dropout'], num_units=num_labels, \n",
    "                                  W=init.HeNormal(), b=init.Constant(0.05))\n",
    "net['output'] = layers.ActivationLayer(net['dense2'], function='sigmoid')\n",
    "\n",
    "\n",
    "optimization = {\"objective\": \"categorical\",  # (binary, categorical, squared_error)\n",
    "                \"optimizer\": \"adam\",    \n",
    "                \"learning_rate\": 0.001, # learning rate\n",
    "                \"clip_value\": True,     # clip prediction values (True for classification)\n",
    "                \"l2\": .00001            # l-2 weight decay\n",
    "                }\n"
   ]
  },
  {
   "cell_type": "code",
   "execution_count": null,
   "metadata": {
    "collapsed": false
   },
   "outputs": [],
   "source": [
    "# build neural network class\n",
    "nnmodel = nn.NeuralNet(net, [input_vars])\n",
    "nnmodel.inspect_layers()\n",
    "\n",
    "# compile neural trainer\n",
    "nntrainer = nn.NeuralTrainer(nnmodel, target_vars, placeholders, optimization, \n",
    "                             save='best', filepath='.')"
   ]
  },
  {
   "cell_type": "code",
   "execution_count": null,
   "metadata": {
    "collapsed": false
   },
   "outputs": [],
   "source": [
    "# run session\n",
    "sess = tf.Session()\n",
    "\n",
    "# initialize variables\n",
    "sess.run(tf.global_variables_initializer())\n",
    "\n",
    "# organize dataset to be just like placeholders list\n",
    "data = {'train':  [X_train, y_train, True, 0.3], 'valid': [X_valid, y_valid, False, 1]}\n",
    "learn.train_minibatch(sess, nntrainer, data, batch_size=128, num_epochs=500, \n",
    "                      patience=10, verbose=1, shuffle=True)"
   ]
  },
  {
   "cell_type": "code",
   "execution_count": null,
   "metadata": {
    "collapsed": true
   },
   "outputs": [],
   "source": [
    "test = [X_test, y_test, False, 1]\n",
    "test_loss = nntrainer.test_model(sess, test, batch_size=512)"
   ]
  }
 ],
 "metadata": {
  "anaconda-cloud": {},
  "kernelspec": {
   "display_name": "Python [Root]",
   "language": "python",
   "name": "Python [Root]"
  },
  "language_info": {
   "codemirror_mode": {
    "name": "ipython",
    "version": 3
   },
   "file_extension": ".py",
   "mimetype": "text/x-python",
   "name": "python",
   "nbconvert_exporter": "python",
   "pygments_lexer": "ipython3",
   "version": "3.5.2"
  }
 },
 "nbformat": 4,
 "nbformat_minor": 0
}
