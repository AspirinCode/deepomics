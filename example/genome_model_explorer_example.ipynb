{
 "cells": [
  {
   "cell_type": "code",
   "execution_count": 1,
   "metadata": {
    "collapsed": false,
    "deletable": true,
    "editable": true
   },
   "outputs": [],
   "source": [
    "from __future__ import print_function \n",
    "import os, sys, h5py\n",
    "import numpy as np\n",
    "from six.moves import cPickle\n",
    "from collections import OrderedDict\n",
    "\n",
    "import tensorflow as tf\n",
    "sys.path.append('..')\n",
    "from tfomics import neuralnetwork as nn\n",
    "from tfomics import neuralbuild as nb\n",
    "from tfomics import utils, fit, explore"
   ]
  },
  {
   "cell_type": "code",
   "execution_count": 2,
   "metadata": {
    "collapsed": false,
    "deletable": true,
    "editable": true
   },
   "outputs": [
    {
     "name": "stdout",
     "output_type": "stream",
     "text": [
      "loading training data\n",
      "loading cross-validation data\n",
      "loading test data\n"
     ]
    }
   ],
   "source": [
    "def load_simulation(filepath):\n",
    "    # setup paths for file handling\n",
    "\n",
    "    trainmat = h5py.File(filepath, 'r')\n",
    "\n",
    "    print(\"loading training data\")\n",
    "    X_train = np.array(trainmat['X_train']).astype(np.float32)\n",
    "    y_train = np.array(trainmat['Y_train']).astype(np.float32)\n",
    "\n",
    "    print(\"loading cross-validation data\")\n",
    "    X_valid = np.array(trainmat['X_valid']).astype(np.float32)\n",
    "    y_valid = np.array(trainmat['Y_valid']).astype(np.int32)\n",
    "\n",
    "    print(\"loading test data\")\n",
    "    X_test = np.array(trainmat['X_test']).astype(np.float32)\n",
    "    y_test = np.array(trainmat['Y_test']).astype(np.int32)\n",
    "\n",
    "\n",
    "    X_train = np.expand_dims(X_train, axis=3).transpose([0,2,3,1])\n",
    "    X_valid = np.expand_dims(X_valid, axis=3).transpose([0,2,3,1])\n",
    "    X_test = np.expand_dims(X_test, axis=3).transpose([0,2,3,1])\n",
    "\n",
    "    return X_train, y_train, X_valid, y_valid, X_test, y_test\n",
    "\n",
    "\n",
    "# load data\n",
    "filename = 'Synthetic_TF_dataset_20000.h5'\n",
    "data_path = '/Users/juliankimura/Desktop/representation learning/data/synthetic_TF_dataset'\n",
    "filepath = os.path.join(data_path, filename)\n",
    "X_train, y_train, X_valid, y_valid, X_test, y_test = load_simulation(filepath)"
   ]
  },
  {
   "cell_type": "code",
   "execution_count": 3,
   "metadata": {
    "collapsed": false
   },
   "outputs": [],
   "source": [
    "\n",
    "def model(input_shape, num_labels):\n",
    "\n",
    "\n",
    "    # create model\n",
    "    layer1 = {  'layer': 'input',\n",
    "                'input_shape': input_shape,\n",
    "                }\n",
    "    layer2 = {  'layer': 'conv1d', \n",
    "                'num_filters': {'start': 32, 'bounds': [1, 200], 'scale': 25, 'multiples': 4},\n",
    "                'filter_size': {'start': 7, 'bounds': [5, 32], 'scale': 5, 'odd': True, 'multiples': 2},\n",
    "                'norm': 'batch',\n",
    "                'padding': 'SAME',\n",
    "                'activation': 'relu',\n",
    "                'dropout': {'start': 0.2, 'bounds': [0., 0.6], 'scale': 0.1},\n",
    "                'name': 'conv1'\n",
    "                }\n",
    "    layer3 = {  'layer': 'conv1d', \n",
    "                'num_filters': {'start': 64, 'bounds': [1, 200], 'scale': 25, 'multiples': 4},\n",
    "                'filter_size': {'start': 7, 'bounds': [5, 32], 'scale': 5, 'odd': True, 'multiples': 2},\n",
    "                'norm': 'batch',\n",
    "                'padding': 'SAME',\n",
    "                'activation': 'relu',\n",
    "                'dropout': {'start': 0.2, 'bounds': [0., 0.6], 'scale': 0.1},\n",
    "                'name': 'conv2'\n",
    "                }\n",
    "    layer4 = {  'layer': 'dense', \n",
    "                'num_units': {'start': 256, 'bounds': [16, 1000], 'scale': 50, 'multiples': 4},\n",
    "                #'norm': 'batch',\n",
    "                'activation': 'relu',\n",
    "                'dropout': {'start': 0.4, 'bounds': [0., 0.8], 'scale': 0.2},\n",
    "                'name': 'dense1'\n",
    "                }            \n",
    "    layer5 = {  'layer': 'dense', \n",
    "                'num_units': num_labels,\n",
    "                'activation': 'softmax',\n",
    "                }\n",
    "\n",
    "    #from tfomics import build_network\n",
    "    model_layers = [layer1, layer2, layer3, layer4, layer5]\n",
    "\n",
    "    # optimization parameters\n",
    "    optimization = {\"objective\": \"categorical\",\n",
    "                    \"optimizer\": \"adam\",\n",
    "                    \"learning_rate\": 0.001,\n",
    "                    \"l2\": 1e-6\n",
    "                    #\"learning_rate\": {'start': -3, 'bounds': [-4, -1], 'scale': 1.5, 'transform': 'log'},      \n",
    "                    #\"l2\": {'start': -6, 'bounds': [-8, -2], 'scale': 3, 'transform': 'log'},\n",
    "                    # \"l1\": 0, \n",
    "                    }\n",
    "    return model_layers, optimization\n",
    "\n",
    "# build network\n",
    "input_shape = list(X_train.shape)\n",
    "input_shape[0] = None\n",
    "num_labels = y_train.shape[1]\n",
    "model_layers, optimization = model(input_shape, num_labels)\n",
    "\n",
    "# build neural opti\n",
    "optimizer = explore.NeuralOptimizer(model_layers, optimization)\n"
   ]
  },
  {
   "cell_type": "code",
   "execution_count": 4,
   "metadata": {
    "collapsed": false,
    "deletable": true,
    "editable": true
   },
   "outputs": [
    {
     "data": {
      "text/plain": [
       "[{'input_shape': [None, 200, 1, 4], 'layer': 'input'},\n",
       " {'activation': 'relu',\n",
       "  'dropout': 0.2303066842769604,\n",
       "  'filter_size': 9,\n",
       "  'layer': 'conv1d',\n",
       "  'name': 'conv1',\n",
       "  'norm': 'batch',\n",
       "  'num_filters': 40,\n",
       "  'padding': 'SAME'},\n",
       " {'activation': 'relu',\n",
       "  'dropout': 0.1958008122739223,\n",
       "  'filter_size': 9,\n",
       "  'layer': 'conv1d',\n",
       "  'name': 'conv2',\n",
       "  'norm': 'batch',\n",
       "  'num_filters': 76,\n",
       "  'padding': 'SAME'},\n",
       " {'activation': 'relu',\n",
       "  'dropout': 0.2902731420912835,\n",
       "  'layer': 'dense',\n",
       "  'name': 'dense1',\n",
       "  'num_units': 164},\n",
       " {'activation': 'softmax', 'layer': 'dense', 'num_units': 1}]"
      ]
     },
     "execution_count": 4,
     "metadata": {},
     "output_type": "execute_result"
    }
   ],
   "source": [
    "optimizer.sample_network()"
   ]
  },
  {
   "cell_type": "code",
   "execution_count": null,
   "metadata": {
    "collapsed": false,
    "deletable": true,
    "editable": true,
    "scrolled": false
   },
   "outputs": [
    {
     "name": "stdout",
     "output_type": "stream",
     "text": [
      "---------------------------------------------------------\n",
      "Running baseline model\n",
      "\n",
      "Model layers:\n",
      "num_filters: 32\n",
      "name: conv1\n",
      "filter_size: 7\n",
      "dropout: 0.2\n",
      "num_filters: 64\n",
      "name: conv2\n",
      "filter_size: 7\n",
      "dropout: 0.2\n",
      "dropout: 0.4\n",
      "num_units: 256\n",
      "name: dense1\n",
      "num_units: 1\n",
      "\n",
      "Optimization:\n",
      "learning_rate: 0.001\n",
      "l2: 1e-06\n",
      "\n",
      "Epoch 1 out of 20 \n"
     ]
    }
   ],
   "source": [
    "# optimize model parameters\n",
    "train = {'inputs': X_train, 'targets': y_train}\n",
    "valid = {'inputs': X_valid, 'targets': y_valid}        \n",
    "optimizer.optimize(train, valid, num_trials=100, num_epochs=20, batch_size=128, verbose=0)"
   ]
  },
  {
   "cell_type": "code",
   "execution_count": null,
   "metadata": {
    "collapsed": false,
    "deletable": true,
    "editable": true
   },
   "outputs": [],
   "source": [
    "# save optimal model\n",
    "optimizer.print_optimal_model()"
   ]
  },
  {
   "cell_type": "code",
   "execution_count": null,
   "metadata": {
    "collapsed": true,
    "deletable": true,
    "editable": true
   },
   "outputs": [],
   "source": []
  }
 ],
 "metadata": {
  "anaconda-cloud": {},
  "kernelspec": {
   "display_name": "Python 2",
   "language": "python",
   "name": "python2"
  },
  "language_info": {
   "codemirror_mode": {
    "name": "ipython",
    "version": 2
   },
   "file_extension": ".py",
   "mimetype": "text/x-python",
   "name": "python",
   "nbconvert_exporter": "python",
   "pygments_lexer": "ipython2",
   "version": "2.7.13"
  }
 },
 "nbformat": 4,
 "nbformat_minor": 0
}
