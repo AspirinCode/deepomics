{
 "cells": [
  {
   "cell_type": "code",
   "execution_count": 1,
   "metadata": {
    "collapsed": true,
    "deletable": true,
    "editable": true
   },
   "outputs": [],
   "source": [
    "from __future__ import print_function \n",
    "import os, sys, h5py\n",
    "import pandas as pd\n",
    "import numpy as np\n",
    "from six.moves import cPickle\n",
    "from collections import OrderedDict\n",
    "import tensorflow as tf\n",
    "sys.path.append('..')\n",
    "from tfomics import neuralnetwork as nn\n",
    "from tfomics import utils, fit, init, visualize, saliency\n",
    "import matplotlib.pyplot as plt\n",
    "%matplotlib inline"
   ]
  },
  {
   "cell_type": "markdown",
   "metadata": {
    "deletable": true,
    "editable": true
   },
   "source": [
    "### Trying to work on SRSF1 protein to build a best model that will be tested on other proteins"
   ]
  },
  {
   "cell_type": "code",
   "execution_count": 10,
   "metadata": {
    "collapsed": false,
    "deletable": true,
    "editable": true
   },
   "outputs": [
    {
     "data": {
      "text/plain": [
       "175"
      ]
     },
     "execution_count": 10,
     "metadata": {},
     "output_type": "execute_result"
    }
   ],
   "source": [
    "# load targets\n",
    "#SRSF1 ids = RNCMPT00106,RNCMPT00107,RNCMPT00108,RNCMPT00109,RNCMPT00110,RNCMPT00163\n",
    "filepath = '/Users/praveenanand/Documents/LabNoteBook/Peter_DeepNeural_RNABinding/Datasets/DeepBind/nbt3300-code/data/rnac'\n",
    "df = pd.read_csv(os.path.join(filepath,'targets.tsv'), sep='\\t')\n",
    "names = list(df.columns.values)\n"
   ]
  },
  {
   "cell_type": "code",
   "execution_count": 11,
   "metadata": {
    "collapsed": false,
    "deletable": true,
    "editable": true
   },
   "outputs": [
    {
     "data": {
      "text/plain": [
       "188"
      ]
     },
     "execution_count": 11,
     "metadata": {},
     "output_type": "execute_result"
    }
   ],
   "source": [
    "names.index(\"RNCMPT00047\")"
   ]
  },
  {
   "cell_type": "markdown",
   "metadata": {
    "deletable": true,
    "editable": true
   },
   "source": [
    "##### Will be using index X that stands for RNCMPT00106 for exploring the model parameters. The Pearson correlation for the intensities in the deepbind model is around 0.376. "
   ]
  },
  {
   "cell_type": "code",
   "execution_count": 2,
   "metadata": {
    "collapsed": false,
    "deletable": true,
    "editable": true
   },
   "outputs": [
    {
     "name": "stdout",
     "output_type": "stream",
     "text": [
      "loading training data\n",
      "loading test data\n"
     ]
    }
   ],
   "source": [
    "def load_simulation(filepath):\n",
    "    # setup paths for file handling\n",
    "\n",
    "    trainmat = h5py.File(filepath, 'r')\n",
    "\n",
    "    print(\"loading training data\")\n",
    "    X_train = np.array(trainmat['setA_seq']).astype(np.float32)\n",
    "    y_train = np.array(trainmat['setA_targets']).astype(np.float32)\n",
    "\n",
    "    print(\"loading test data\")\n",
    "    X_test = np.array(trainmat['setB_seq']).astype(np.float32)\n",
    "    y_test = np.array(trainmat['setB_targets']).astype(np.float32)\n",
    "\n",
    "\n",
    "    X_train = np.expand_dims(X_train, axis=3).transpose([0,2,3,1])\n",
    "    X_test = np.expand_dims(X_test, axis=3).transpose([0,2,3,1])\n",
    "\n",
    "    return (X_train, y_train), (X_test, y_test)\n",
    "\n",
    "\n",
    "# load data\n",
    "filename = 'rnac_SetAB_with_nan.hdf5'\n",
    "data_path = '/Users/praveenanand/Documents/LabNoteBook/Peter_DeepNeural_RNABinding/Datasets/DeepBind/nbt3300-code/data/rnac'\n",
    "filepath = os.path.join(data_path, filename)\n",
    "raw_train, raw_test = load_simulation(filepath)\n"
   ]
  },
  {
   "cell_type": "markdown",
   "metadata": {
    "deletable": true,
    "editable": true
   },
   "source": [
    "##### Will be loading in the test and the train dataset for RNCMPT00106 that has an index of 6. Common function to generate the log normalized test and train data for given protein"
   ]
  },
  {
   "cell_type": "code",
   "execution_count": null,
   "metadata": {
    "collapsed": true,
    "deletable": true,
    "editable": true
   },
   "outputs": [],
   "source": []
  }
 ],
 "metadata": {
  "kernelspec": {
   "display_name": "Python 2",
   "language": "python",
   "name": "python2"
  },
  "language_info": {
   "codemirror_mode": {
    "name": "ipython",
    "version": 2
   },
   "file_extension": ".py",
   "mimetype": "text/x-python",
   "name": "python",
   "nbconvert_exporter": "python",
   "pygments_lexer": "ipython2",
   "version": "2.7.13"
  }
 },
 "nbformat": 4,
 "nbformat_minor": 2
}
