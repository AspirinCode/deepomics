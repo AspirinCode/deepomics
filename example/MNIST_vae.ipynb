{
 "cells": [
  {
   "cell_type": "code",
   "execution_count": 2,
   "metadata": {
    "collapsed": true
   },
   "outputs": [],
   "source": [
    "from __future__ import print_function \n",
    "import os, sys\n",
    "import numpy as np\n",
    "from six.moves import cPickle\n",
    "from collections import OrderedDict\n",
    "\n",
    "import tensorflow as tf\n",
    "sys.path.append('..')\n",
    "from tfomics import layers, utils, init, learn\n",
    "from tfomics import neuralnetwork as nn"
   ]
  },
  {
   "cell_type": "code",
   "execution_count": 4,
   "metadata": {
    "collapsed": false
   },
   "outputs": [],
   "source": [
    "def load_dataset(data_path):\n",
    "    import gzip\n",
    "    def load_mnist_images(filename):\n",
    "        with gzip.open(filename, 'rb') as f:\n",
    "            data = np.frombuffer(f.read(), np.uint8, offset=16)\n",
    "        data = data.reshape(-1, 28*28)\n",
    "        return data / np.float32(256)\n",
    "\n",
    "    def load_mnist_labels(filename):\n",
    "        with gzip.open(filename, 'rb') as f:\n",
    "            data = np.frombuffer(f.read(), np.uint8, offset=8)\n",
    "        return data\n",
    "\n",
    "    # We can now download and read the training and test set images and labels.\n",
    "    X_train = load_mnist_images(os.path.join(data_path,'train-images-idx3-ubyte.gz'))\n",
    "    y_train = load_mnist_labels(os.path.join(data_path,'train-labels-idx1-ubyte.gz'))\n",
    "    X_test = load_mnist_images(os.path.join(data_path,'t10k-images-idx3-ubyte.gz'))\n",
    "    y_test = load_mnist_labels(os.path.join(data_path,'t10k-labels-idx1-ubyte.gz'))\n",
    "\n",
    "    # We reserve the last 10000 training examples for validation.\n",
    "    X_train, X_val = X_train[:-10000], X_train[-10000:]\n",
    "    y_train, y_val = y_train[:-10000], y_train[-10000:]\n",
    "\n",
    "    # We just return all the arrays in order, as expected in main().\n",
    "    # (It doesn't matter how we do this as long as we can read them again.)\n",
    "    return X_train, y_train, X_val, y_val, X_test, y_test\n",
    "\n",
    "\n",
    "data_path = '/Users/juliankimura/Desktop/data/MNIST'\n",
    "X_train, y_train, X_val, y_val, X_test, y_test = load_dataset(data_path)"
   ]
  },
  {
   "cell_type": "code",
   "execution_count": null,
   "metadata": {
    "collapsed": true
   },
   "outputs": [],
   "source": [
    "\n",
    "\n",
    "def model(input_shape, num_labels=None):\n",
    "\n",
    "    # create model\n",
    "    layer1 = {'layer': 'input',\n",
    "            'input_shape': input_shape,\n",
    "            'name': 'input'\n",
    "            }\n",
    "    layer2 = {'layer': 'dense', \n",
    "            'num_units': 512,\n",
    "            'activation': 'relu'\n",
    "            }\n",
    "    layer3 = {'layer': 'dense', \n",
    "            'num_units': 64,\n",
    "            'activation': 'relu'\n",
    "            }\n",
    "    layer4 = {'layer': 'conv2d', \n",
    "            'num_filters': 128,\n",
    "            'filter_size': (1,1),\n",
    "            'b': init.Constant(0.01),\n",
    "            'activation': 'relu',\n",
    "            'dropout': 0.2,\n",
    "            'name': 'conv3'\n",
    "            }\n",
    "    layer7 = {'layer': 'dense', \n",
    "            'num_units': 256,\n",
    "            'activation': 'relu',\n",
    "            'dropout': 0.5,\n",
    "            'name': 'dense1'\n",
    "            }  \n",
    "    layer9 = {'layer': 'dense', \n",
    "            'num_units': num_labels,\n",
    "            'activation': 'softmax',\n",
    "            'name': 'dense2'\n",
    "            }\n",
    "\n",
    "    #from tfomics import build_network\n",
    "    model_layers = [layer1, layer2, layer4, layer6, layer7, layer9]\n",
    "\n",
    "    # optimization parameters\n",
    "    optimization = {\"objective\": \"categorical\",\n",
    "                  \"optimizer\": \"adam\",\n",
    "                  \"learning_rate\": 0.001,      \n",
    "                  \"l2\": 1e-6,\n",
    "                  # \"l1\": 0, \n",
    "                  }\n",
    "\n",
    "    return model_layers, optimization\n",
    "\n",
    "\n",
    "input_shape = list(X_train.shape)\n",
    "input_shape[0] = None\n",
    "\n",
    "network, placeholders, optimization = vae_MNIST_model.model(input_shape)"
   ]
  },
  {
   "cell_type": "code",
   "execution_count": null,
   "metadata": {
    "collapsed": true
   },
   "outputs": [],
   "source": []
  },
  {
   "cell_type": "code",
   "execution_count": null,
   "metadata": {
    "collapsed": true
   },
   "outputs": [],
   "source": []
  },
  {
   "cell_type": "code",
   "execution_count": null,
   "metadata": {
    "collapsed": true
   },
   "outputs": [],
   "source": []
  },
  {
   "cell_type": "code",
   "execution_count": null,
   "metadata": {
    "collapsed": true
   },
   "outputs": [],
   "source": []
  },
  {
   "cell_type": "code",
   "execution_count": null,
   "metadata": {
    "collapsed": true
   },
   "outputs": [],
   "source": []
  },
  {
   "cell_type": "code",
   "execution_count": null,
   "metadata": {
    "collapsed": true
   },
   "outputs": [],
   "source": []
  },
  {
   "cell_type": "code",
   "execution_count": null,
   "metadata": {
    "collapsed": true
   },
   "outputs": [],
   "source": []
  },
  {
   "cell_type": "code",
   "execution_count": null,
   "metadata": {
    "collapsed": true
   },
   "outputs": [],
   "source": []
  },
  {
   "cell_type": "code",
   "execution_count": null,
   "metadata": {
    "collapsed": true
   },
   "outputs": [],
   "source": []
  }
 ],
 "metadata": {
  "anaconda-cloud": {},
  "kernelspec": {
   "display_name": "Python [Root]",
   "language": "python",
   "name": "Python [Root]"
  },
  "language_info": {
   "codemirror_mode": {
    "name": "ipython",
    "version": 3
   },
   "file_extension": ".py",
   "mimetype": "text/x-python",
   "name": "python",
   "nbconvert_exporter": "python",
   "pygments_lexer": "ipython3",
   "version": "3.5.2"
  }
 },
 "nbformat": 4,
 "nbformat_minor": 0
}
