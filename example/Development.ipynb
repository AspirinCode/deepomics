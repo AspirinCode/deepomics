{
 "cells": [
  {
   "cell_type": "code",
   "execution_count": 1,
   "metadata": {
    "collapsed": false,
    "deletable": true,
    "editable": true
   },
   "outputs": [],
   "source": [
    "from __future__ import print_function \n",
    "import os, sys, h5py\n",
    "import numpy as np\n",
    "from six.moves import cPickle\n",
    "from collections import OrderedDict\n",
    "\n",
    "import tensorflow as tf\n",
    "sys.path.append('..')\n",
    "from tfomics import neuralnetwork_dev as nn\n",
    "from tfomics import neuralbuild as nb\n",
    "from tfomics import utils, learn\n",
    "\n",
    "# import models\n",
    "from model_zoo import test_model"
   ]
  },
  {
   "cell_type": "code",
   "execution_count": 2,
   "metadata": {
    "collapsed": false,
    "deletable": true,
    "editable": true
   },
   "outputs": [
    {
     "name": "stdout",
     "output_type": "stream",
     "text": [
      "CPU times: user 1.02 s, sys: 3.31 s, total: 4.34 s\n",
      "Wall time: 4.46 s\n"
     ]
    }
   ],
   "source": [
    "filename = 'processed_dataset.hdf5'\n",
    "#data_path = 'D:/Dropbox/TFconnect'\n",
    "data_path = '/Users/juliankimura/Desktop/tensorflow/data'\n",
    "filepath = os.path.join(data_path,filename)\n",
    "\n",
    "group_name = ['processed_data']\n",
    "dataset = h5py.File(filepath,'r')\n",
    "%time dtf = np.array(dataset['/'+group_name[0]+'/dtf'])\n",
    "ltf = np.array(dataset['/'+group_name[0]+'/ltf'])\n",
    "dtf_crossval = np.array(dataset['/'+group_name[0]+'/dtf_crossval'])\n",
    "ltf_crossval = np.array(dataset['/'+group_name[0]+'/ltf_crossval'])\n",
    "\n",
    "X_train = dtf[:80000,:,:,:]\n",
    "y_train = ltf[:80000,:]\n",
    "X_valid = dtf_crossval[:1000,:,:,:]\n",
    "y_valid = ltf_crossval[:1000,:]"
   ]
  },
  {
   "cell_type": "code",
   "execution_count": 3,
   "metadata": {
    "collapsed": false,
    "deletable": true,
    "editable": true
   },
   "outputs": [],
   "source": [
    "# get shapes\n",
    "num_data, height, width, dim = X_train.shape\n",
    "input_shape=[None, height, width, dim]\n",
    "num_labels = y_train.shape[1]  "
   ]
  },
  {
   "cell_type": "code",
   "execution_count": 4,
   "metadata": {
    "collapsed": false,
    "deletable": true,
    "editable": true,
    "scrolled": false
   },
   "outputs": [
    {
     "name": "stdout",
     "output_type": "stream",
     "text": [
      "----------------------------------------------------------------------------\n",
      "Network architecture:\n",
      "----------------------------------------------------------------------------\n",
      "layer1: input\n",
      "(?, 3, 330, 1)\n",
      "layer2: conv1\n",
      "(?, 2, 326, 32)\n",
      "layer3: conv1_bias\n",
      "(?, 2, 326, 32)\n",
      "layer4: conv1_active\n",
      "(?, 2, 326, 32)\n",
      "layer5: conv1_dropout\n",
      "(?, 2, 326, 32)\n",
      "layer6: conv2\n",
      "(?, 1, 322, 64)\n",
      "layer7: conv2_bias\n",
      "(?, 1, 322, 64)\n",
      "layer8: conv2_active\n",
      "(?, 1, 322, 64)\n",
      "layer9: conv2_dropout\n",
      "(?, 1, 322, 64)\n",
      "layer10: conv3\n",
      "(?, 1, 322, 128)\n",
      "layer11: conv3_bias\n",
      "(?, 1, 322, 128)\n",
      "layer12: conv3_active\n",
      "(?, 1, 322, 128)\n",
      "layer13: conv3_dropout\n",
      "(?, 1, 322, 128)\n",
      "layer14: dense1\n",
      "(?, 256)\n",
      "layer15: dense1_bias\n",
      "(?, 256)\n",
      "layer16: dense1_active\n",
      "(?, 256)\n",
      "layer17: dense1_dropout\n",
      "(?, 256)\n",
      "layer18: dense2\n",
      "(?, 2)\n",
      "layer19: dense2_bias\n",
      "(?, 2)\n",
      "layer20: dense2_active\n",
      "(?, 2)\n",
      "layer21: output\n",
      "(?, 2)\n",
      "----------------------------------------------------------------------------\n"
     ]
    }
   ],
   "source": [
    "model_layers, optimization = test_model.model(input_shape, num_labels)\n",
    "nnbuild = nb.NeuralBuild(model_layers)\n",
    "network, placeholders, hidden_feed_dict = nnbuild.get_network_build()\n",
    "\n",
    "# build neural network class\n",
    "nnmodel = nn.NeuralNet(network, placeholders, hidden_feed_dict)\n",
    "nnmodel.inspect_layers()\n",
    "\n",
    "# set output file paths\n",
    "\n",
    "results_path = utils.make_directory(data_path, 'results')\n",
    "results_path = utils.make_directory(results_path, 'tfomics')\n",
    "output_name = 'test'\n",
    "filepath = os.path.join(results_path, output_name)\n",
    "\n",
    "# compile neural trainer\n",
    "nntrainer = nn.NeuralTrainer(nnmodel, optimization, save='best', filepath=filepath)"
   ]
  },
  {
   "cell_type": "code",
   "execution_count": null,
   "metadata": {
    "collapsed": false,
    "deletable": true,
    "editable": true,
    "scrolled": true
   },
   "outputs": [
    {
     "name": "stdout",
     "output_type": "stream",
     "text": [
      "Epoch 1 out of 50 \n",
      "[==                            ] 8.0% -- time=307s -- loss=8.00858 -- accuracy=50.14%  "
     ]
    }
   ],
   "source": [
    "train = {'inputs': [X_train], 'targets': y_train}\n",
    "valid = {'inputs': [X_valid], 'targets': y_valid}\n",
    "data = {'train': train, 'valid': valid}\n",
    "learn.train_minibatch(nntrainer, data, batch_size=200, num_epochs=50, \n",
    "                    patience=10, verbose=2, shuffle=True)"
   ]
  },
  {
   "cell_type": "code",
   "execution_count": null,
   "metadata": {
    "collapsed": false,
    "deletable": true,
    "editable": true
   },
   "outputs": [],
   "source": []
  },
  {
   "cell_type": "code",
   "execution_count": null,
   "metadata": {
    "collapsed": false,
    "deletable": true,
    "editable": true
   },
   "outputs": [],
   "source": [
    "\n",
    "batch_mean, batch_var = tf.nn.moments(, [0])"
   ]
  },
  {
   "cell_type": "code",
   "execution_count": null,
   "metadata": {
    "collapsed": false,
    "deletable": true,
    "editable": true
   },
   "outputs": [],
   "source": [
    "x = tf.identity([1., 2.])"
   ]
  },
  {
   "cell_type": "code",
   "execution_count": null,
   "metadata": {
    "collapsed": false,
    "deletable": true,
    "editable": true
   },
   "outputs": [],
   "source": [
    "ema_op = ema.apply(x)"
   ]
  },
  {
   "cell_type": "code",
   "execution_count": null,
   "metadata": {
    "collapsed": false,
    "deletable": true,
    "editable": true
   },
   "outputs": [],
   "source": [
    "sess = tf.Session()\n",
    "sess.run(ema)"
   ]
  },
  {
   "cell_type": "code",
   "execution_count": null,
   "metadata": {
    "collapsed": true,
    "deletable": true,
    "editable": true
   },
   "outputs": [],
   "source": []
  }
 ],
 "metadata": {
  "anaconda-cloud": {},
  "kernelspec": {
   "display_name": "Python [Root]",
   "language": "python",
   "name": "Python [Root]"
  },
  "language_info": {
   "codemirror_mode": {
    "name": "ipython",
    "version": 3
   },
   "file_extension": ".py",
   "mimetype": "text/x-python",
   "name": "python",
   "nbconvert_exporter": "python",
   "pygments_lexer": "ipython3",
   "version": "3.5.2"
  }
 },
 "nbformat": 4,
 "nbformat_minor": 1
}
