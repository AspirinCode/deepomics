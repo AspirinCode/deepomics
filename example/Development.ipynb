{
 "cells": [
  {
   "cell_type": "code",
   "execution_count": 1,
   "metadata": {
    "collapsed": false,
    "deletable": true,
    "editable": true
   },
   "outputs": [],
   "source": [
    "from __future__ import print_function \n",
    "import os, sys, h5py\n",
    "import numpy as np\n",
    "from six.moves import cPickle\n",
    "from collections import OrderedDict\n",
    "\n",
    "import tensorflow as tf\n",
    "sys.path.append('..')\n",
    "from tfomics import neuralnetwork_dev as nn\n",
    "from tfomics import neuralbuild as nb\n",
    "from tfomics import utils, learn\n",
    "\n",
    "# import models\n",
    "from model_zoo import test_model"
   ]
  },
  {
   "cell_type": "code",
   "execution_count": 2,
   "metadata": {
    "collapsed": false,
    "deletable": true,
    "editable": true
   },
   "outputs": [
    {
     "name": "stdout",
     "output_type": "stream",
     "text": [
      "CPU times: user 444 ms, sys: 1.02 s, total: 1.46 s\n",
      "Wall time: 1.46 s\n"
     ]
    }
   ],
   "source": [
    "filename = 'processed_dataset.hdf5'\n",
    "#data_path = 'D:/Dropbox/TFconnect'\n",
    "data_path = '/home/peter/Code/tensorflow/data'\n",
    "filepath = os.path.join(data_path,filename)\n",
    "\n",
    "group_name = ['processed_data']\n",
    "dataset = h5py.File(filepath,'r')\n",
    "%time dtf = np.array(dataset['/'+group_name[0]+'/dtf'])\n",
    "ltf = np.array(dataset['/'+group_name[0]+'/ltf'])\n",
    "dtf_crossval = np.array(dataset['/'+group_name[0]+'/dtf_crossval'])\n",
    "ltf_crossval = np.array(dataset['/'+group_name[0]+'/ltf_crossval'])\n",
    "\n",
    "X_train = dtf[:,:,:,:]\n",
    "y_train = ltf[:,:]\n",
    "X_valid = dtf_crossval[:,:,:,:]\n",
    "y_valid = ltf_crossval[:,:]"
   ]
  },
  {
   "cell_type": "code",
   "execution_count": 3,
   "metadata": {
    "collapsed": false,
    "deletable": true,
    "editable": true
   },
   "outputs": [],
   "source": [
    "# get shapes\n",
    "num_data, height, width, dim = X_train.shape\n",
    "input_shape=[None, height, width, dim]\n",
    "num_labels = y_train.shape[1]  "
   ]
  },
  {
   "cell_type": "code",
   "execution_count": 4,
   "metadata": {
    "collapsed": false,
    "deletable": true,
    "editable": true
   },
   "outputs": [
    {
     "name": "stdout",
     "output_type": "stream",
     "text": [
      "----------------------------------------------------------------------------\n",
      "Network architecture:\n",
      "----------------------------------------------------------------------------\n",
      "layer1: input\n",
      "(?, 3, 330, 1)\n",
      "layer2: conv1\n",
      "(?, 2, 326, 32)\n",
      "layer3: conv1_active\n",
      "(?, 2, 326, 32)\n",
      "layer4: conv1_dropout\n",
      "(?, 2, 326, 32)\n",
      "layer5: resid1_1resid\n",
      "(?, 2, 326, 32)\n",
      "layer6: resid1_1resid_norm\n",
      "(?, 2, 326, 32)\n",
      "layer7: resid1_1resid_active\n",
      "(?, 2, 326, 32)\n",
      "layer8: resid1_dropout1\n",
      "(?, 2, 326, 32)\n",
      "layer9: resid1_2resid\n",
      "(?, 2, 326, 32)\n",
      "layer10: resid1_2resid_norm\n",
      "(?, 2, 326, 32)\n",
      "layer11: resid1_resid_sum\n",
      "(?, 2, 326, 32)\n",
      "layer12: resid1_resid\n",
      "(?, 2, 326, 32)\n",
      "layer13: resid1_batch\n",
      "(?, 2, 326, 32)\n",
      "layer14: resid1_dropout\n",
      "(?, 2, 326, 32)\n",
      "layer15: conv2\n",
      "(?, 1, 322, 64)\n",
      "layer16: conv2_batch\n",
      "(?, 1, 322, 64)\n",
      "layer17: conv2_active\n",
      "(?, 1, 322, 64)\n",
      "layer18: conv2_dropout\n",
      "(?, 1, 322, 64)\n",
      "layer19: resid2_1resid\n",
      "(?, 1, 322, 64)\n",
      "layer20: resid2_1resid_norm\n",
      "(?, 1, 322, 64)\n",
      "layer21: resid2_1resid_active\n",
      "(?, 1, 322, 64)\n",
      "layer22: resid2_dropout1\n",
      "(?, 1, 322, 64)\n",
      "layer23: resid2_2resid\n",
      "(?, 1, 322, 64)\n",
      "layer24: resid2_2resid_norm\n",
      "(?, 1, 322, 64)\n",
      "layer25: resid2_resid_sum\n",
      "(?, 1, 322, 64)\n",
      "layer26: resid2_resid\n",
      "(?, 1, 322, 64)\n",
      "layer27: resid2_pool\n",
      "(?, 1, 32, 64)\n",
      "layer28: resid2_dropout\n",
      "(?, 1, 32, 64)\n",
      "layer29: conv3\n",
      "(?, 1, 32, 128)\n",
      "layer30: conv3_batch\n",
      "(?, 1, 32, 128)\n",
      "layer31: conv3_active\n",
      "(?, 1, 32, 128)\n",
      "layer32: conv3_dropout\n",
      "(?, 1, 32, 128)\n",
      "layer33: dense1\n",
      "(?, 256)\n",
      "layer34: dense1_bias\n",
      "(?, 256)\n",
      "layer35: dense1_active\n",
      "(?, 256)\n",
      "layer36: dense1_dropout\n",
      "(?, 256)\n",
      "layer37: resid3_1resid\n",
      "(?, 256)\n",
      "layer38: resid3_1resid_norm\n",
      "(?, 256)\n",
      "layer39: resid3_1resid_active\n",
      "(?, 256)\n",
      "layer40: resid3_dropout1\n",
      "(?, 256)\n",
      "layer41: resid3_2resid\n",
      "(?, 256)\n",
      "layer42: resid3_2resid_norm\n",
      "(?, 256)\n",
      "layer43: resid3_resid_sum\n",
      "(?, 256)\n",
      "layer44: resid3_resid\n",
      "(?, 256)\n",
      "layer45: resid3_dropout\n",
      "(?, 256)\n",
      "layer46: dense2\n",
      "(?, 2)\n",
      "layer47: dense2_bias\n",
      "(?, 2)\n",
      "layer48: dense2_active\n",
      "(?, 2)\n",
      "layer49: output\n",
      "(?, 2)\n",
      "----------------------------------------------------------------------------\n"
     ]
    }
   ],
   "source": [
    "model_layers, optimization = test_model.model(input_shape, num_labels)\n",
    "nnbuild = nb.NeuralBuild(model_layers)\n",
    "network, placeholders, hidden_feed_dict = nnbuild.get_network_build()\n",
    "\n",
    "# build neural network class\n",
    "nnmodel = nn.NeuralNet(network, placeholders, hidden_feed_dict)\n",
    "nnmodel.inspect_layers()\n",
    "\n",
    "# set output file paths\n",
    "\n",
    "results_path = utils.make_directory(data_path, 'results')\n",
    "results_path = utils.make_directory(results_path, 'tfomics')\n",
    "output_name = 'test'\n",
    "filepath = os.path.join(results_path, output_name)\n",
    "\n",
    "# compile neural trainer\n",
    "nntrainer = nn.NeuralTrainer(nnmodel, optimization, save='best', filepath=filepath)"
   ]
  },
  {
   "cell_type": "code",
   "execution_count": 5,
   "metadata": {
    "collapsed": false,
    "deletable": true,
    "editable": true,
    "scrolled": true
   },
   "outputs": [
    {
     "name": "stdout",
     "output_type": "stream",
     "text": [
      "Epoch 1 out of 50 \n",
      "[==============================] 100.0% -- time=0s -- loss=0.75856 -- accuracy=50.04%    \n",
      "  valid loss:\t\t0.69561\n",
      "  valid accuracy:\t0.49846+/-0.00000\n",
      "  valid auc-roc:\t0.49901+/-0.00000\n",
      "  valid auc-pr:\t\t0.49908+/-0.00116\n",
      "  lower cross-validation found\n",
      "  saving model to:  /home/peter/Code/tensorflow/data/results/tfomics/test_best.ckpt\n",
      "Epoch 2 out of 50 \n",
      "[==============================] 100.0% -- time=0s -- loss=0.69684 -- accuracy=50.01%    \n",
      "  valid loss:\t\t0.69787\n",
      "  valid accuracy:\t0.50095+/-0.00000\n",
      "  valid auc-roc:\t0.50283+/-0.00000\n",
      "  valid auc-pr:\t\t0.50230+/-0.00103\n",
      "Epoch 3 out of 50 \n",
      "[==============================] 100.0% -- time=0s -- loss=0.69736 -- accuracy=50.02%    \n",
      "  valid loss:\t\t0.69685\n",
      "  valid accuracy:\t0.50082+/-0.00000\n",
      "  valid auc-roc:\t0.49904+/-0.00000\n",
      "  valid auc-pr:\t\t0.49942+/-0.00142\n",
      "Epoch 4 out of 50 \n",
      "[==============================] 100.0% -- time=0s -- loss=0.58706 -- accuracy=66.39%    \n",
      "  valid loss:\t\t0.46456\n",
      "  valid accuracy:\t0.81678+/-0.00000\n",
      "  valid auc-roc:\t0.86030+/-0.00000\n",
      "  valid auc-pr:\t\t0.83907+/-0.02033\n",
      "  lower cross-validation found\n",
      "  saving model to:  /home/peter/Code/tensorflow/data/results/tfomics/test_best.ckpt\n",
      "Epoch 5 out of 50 \n",
      "[==============================] 100.0% -- time=0s -- loss=0.46024 -- accuracy=82.05%    \n",
      "  valid loss:\t\t0.45073\n",
      "  valid accuracy:\t0.82836+/-0.00000\n",
      "  valid auc-roc:\t0.86888+/-0.00000\n",
      "  valid auc-pr:\t\t0.84839+/-0.02056\n",
      "  lower cross-validation found\n",
      "  saving model to:  /home/peter/Code/tensorflow/data/results/tfomics/test_best.ckpt\n",
      "Epoch 6 out of 50 \n",
      "[==============================] 100.0% -- time=0s -- loss=0.44931 -- accuracy=82.75%    \n",
      "  valid loss:\t\t0.45364\n",
      "  valid accuracy:\t0.82517+/-0.00000\n",
      "  valid auc-roc:\t0.87061+/-0.00000\n",
      "  valid auc-pr:\t\t0.85034+/-0.02115\n",
      "Epoch 7 out of 50 \n",
      "[==============================] 100.0% -- time=0s -- loss=0.44358 -- accuracy=82.99%    \n",
      "  valid loss:\t\t0.43878\n",
      "  valid accuracy:\t0.83143+/-0.00000\n",
      "  valid auc-roc:\t0.87255+/-0.00000\n",
      "  valid auc-pr:\t\t0.85238+/-0.02081\n",
      "  lower cross-validation found\n",
      "  saving model to:  /home/peter/Code/tensorflow/data/results/tfomics/test_best.ckpt\n",
      "Epoch 8 out of 50 \n",
      "[==============================] 100.0% -- time=0s -- loss=0.43947 -- accuracy=83.14%    \n",
      "  valid loss:\t\t0.43452\n",
      "  valid accuracy:\t0.83380+/-0.00000\n",
      "  valid auc-roc:\t0.87287+/-0.00000\n",
      "  valid auc-pr:\t\t0.85365+/-0.02003\n",
      "  lower cross-validation found\n",
      "  saving model to:  /home/peter/Code/tensorflow/data/results/tfomics/test_best.ckpt\n",
      "Epoch 9 out of 50 \n",
      "[==============================] 100.0% -- time=0s -- loss=0.43708 -- accuracy=83.22%    \n",
      "  valid loss:\t\t0.43251\n",
      "  valid accuracy:\t0.83497+/-0.00000\n",
      "  valid auc-roc:\t0.87376+/-0.00000\n",
      "  valid auc-pr:\t\t0.85405+/-0.02077\n",
      "  lower cross-validation found\n",
      "  saving model to:  /home/peter/Code/tensorflow/data/results/tfomics/test_best.ckpt\n",
      "Epoch 10 out of 50 \n",
      "[==============================] 100.0% -- time=0s -- loss=0.43538 -- accuracy=83.33%    \n",
      "  valid loss:\t\t0.43218\n",
      "  valid accuracy:\t0.83599+/-0.00000\n",
      "  valid auc-roc:\t0.87378+/-0.00000\n",
      "  valid auc-pr:\t\t0.85363+/-0.02084\n",
      "  lower cross-validation found\n",
      "  saving model to:  /home/peter/Code/tensorflow/data/results/tfomics/test_best.ckpt\n",
      "Epoch 11 out of 50 \n",
      "[==============================] 100.0% -- time=0s -- loss=0.43435 -- accuracy=83.42%    \n",
      "  valid loss:\t\t0.43260\n",
      "  valid accuracy:\t0.83574+/-0.00000\n",
      "  valid auc-roc:\t0.87427+/-0.00000\n",
      "  valid auc-pr:\t\t0.85442+/-0.02083\n",
      "Epoch 12 out of 50 \n",
      "[==============================] 100.0% -- time=0s -- loss=0.43467 -- accuracy=83.36%    \n",
      "  valid loss:\t\t0.43284\n",
      "  valid accuracy:\t0.83570+/-0.00000\n",
      "  valid auc-roc:\t0.87442+/-0.00000\n",
      "  valid auc-pr:\t\t0.85477+/-0.02124\n",
      "Epoch 13 out of 50 \n",
      "[==============================] 100.0% -- time=0s -- loss=0.43361 -- accuracy=83.42%    \n",
      "  valid loss:\t\t0.43146\n",
      "  valid accuracy:\t0.83558+/-0.00000\n",
      "  valid auc-roc:\t0.87466+/-0.00000\n",
      "  valid auc-pr:\t\t0.85535+/-0.02043\n",
      "  lower cross-validation found\n",
      "  saving model to:  /home/peter/Code/tensorflow/data/results/tfomics/test_best.ckpt\n",
      "Epoch 14 out of 50 \n",
      "[======                        ] 21.4% -- time=102s -- loss=0.43399 -- accuracy=83.48%  "
     ]
    },
    {
     "ename": "KeyboardInterrupt",
     "evalue": "",
     "output_type": "error",
     "traceback": [
      "\u001b[0;31m---------------------------------------------------------------------------\u001b[0m",
      "\u001b[0;31mKeyboardInterrupt\u001b[0m                         Traceback (most recent call last)",
      "\u001b[0;32m<ipython-input-5-4783b3b0fefa>\u001b[0m in \u001b[0;36m<module>\u001b[0;34m()\u001b[0m\n\u001b[1;32m      3\u001b[0m \u001b[0mdata\u001b[0m \u001b[0;34m=\u001b[0m \u001b[0;34m{\u001b[0m\u001b[0;34m'train'\u001b[0m\u001b[0;34m:\u001b[0m \u001b[0mtrain\u001b[0m\u001b[0;34m,\u001b[0m \u001b[0;34m'valid'\u001b[0m\u001b[0;34m:\u001b[0m \u001b[0mvalid\u001b[0m\u001b[0;34m}\u001b[0m\u001b[0;34m\u001b[0m\u001b[0m\n\u001b[1;32m      4\u001b[0m learn.train_minibatch(nntrainer, data, batch_size=100, num_epochs=50, \n\u001b[0;32m----> 5\u001b[0;31m                     patience=10, verbose=2, shuffle=True)\n\u001b[0m",
      "\u001b[0;32m/home/peter/Code/tensorflow/tfomics/tfomics/learn.pyc\u001b[0m in \u001b[0;36mtrain_minibatch\u001b[0;34m(nntrainer, data, batch_size, num_epochs, patience, verbose, shuffle)\u001b[0m\n\u001b[1;32m     27\u001b[0m                                                                                         \u001b[0mbatch_size\u001b[0m\u001b[0;34m=\u001b[0m\u001b[0mbatch_size\u001b[0m\u001b[0;34m,\u001b[0m\u001b[0;34m\u001b[0m\u001b[0m\n\u001b[1;32m     28\u001b[0m                                                                                         \u001b[0mverbose\u001b[0m\u001b[0;34m=\u001b[0m\u001b[0mverbose\u001b[0m\u001b[0;34m,\u001b[0m\u001b[0;34m\u001b[0m\u001b[0m\n\u001b[0;32m---> 29\u001b[0;31m \t\t\t\t\t\t\t\t\t\t\tshuffle=shuffle)\n\u001b[0m\u001b[1;32m     30\u001b[0m \u001b[0;34m\u001b[0m\u001b[0m\n\u001b[1;32m     31\u001b[0m                 \u001b[0;31m# test current model with cross-validation data and store results\u001b[0m\u001b[0;34m\u001b[0m\u001b[0;34m\u001b[0m\u001b[0m\n",
      "\u001b[0;32m/home/peter/Code/tensorflow/tfomics/tfomics/neuralnetwork_dev.pyc\u001b[0m in \u001b[0;36mtrain_epoch\u001b[0;34m(self, feed_X, batch_size, verbose, shuffle)\u001b[0m\n\u001b[1;32m    202\u001b[0m                 \u001b[0;32mfor\u001b[0m \u001b[0mi\u001b[0m \u001b[0;32min\u001b[0m \u001b[0mrange\u001b[0m\u001b[0;34m(\u001b[0m\u001b[0mnum_batches\u001b[0m\u001b[0;34m)\u001b[0m\u001b[0;34m:\u001b[0m\u001b[0;34m\u001b[0m\u001b[0m\n\u001b[1;32m    203\u001b[0m                         \u001b[0mself\u001b[0m\u001b[0;34m.\u001b[0m\u001b[0mtrain_feed\u001b[0m\u001b[0;34m.\u001b[0m\u001b[0mupdate\u001b[0m\u001b[0;34m(\u001b[0m\u001b[0mbatch_generator\u001b[0m\u001b[0;34m.\u001b[0m\u001b[0mnext_minibatch\u001b[0m\u001b[0;34m(\u001b[0m\u001b[0mfeed_X\u001b[0m\u001b[0;34m)\u001b[0m\u001b[0;34m)\u001b[0m\u001b[0;34m\u001b[0m\u001b[0m\n\u001b[0;32m--> 204\u001b[0;31m                         \u001b[0mresults\u001b[0m \u001b[0;34m=\u001b[0m \u001b[0mself\u001b[0m\u001b[0;34m.\u001b[0m\u001b[0msess\u001b[0m\u001b[0;34m.\u001b[0m\u001b[0mrun\u001b[0m\u001b[0;34m(\u001b[0m\u001b[0;34m[\u001b[0m\u001b[0mself\u001b[0m\u001b[0;34m.\u001b[0m\u001b[0mtrain_step\u001b[0m\u001b[0;34m,\u001b[0m \u001b[0mself\u001b[0m\u001b[0;34m.\u001b[0m\u001b[0mloss\u001b[0m\u001b[0;34m,\u001b[0m \u001b[0mself\u001b[0m\u001b[0;34m.\u001b[0m\u001b[0mpredictions\u001b[0m\u001b[0;34m]\u001b[0m\u001b[0;34m,\u001b[0m \u001b[0mfeed_dict\u001b[0m\u001b[0;34m=\u001b[0m\u001b[0mself\u001b[0m\u001b[0;34m.\u001b[0m\u001b[0mtrain_feed\u001b[0m\u001b[0;34m)\u001b[0m\u001b[0;34m\u001b[0m\u001b[0m\n\u001b[0m\u001b[1;32m    205\u001b[0m                         \u001b[0mvalue\u001b[0m \u001b[0;34m+=\u001b[0m \u001b[0mself\u001b[0m\u001b[0;34m.\u001b[0m\u001b[0mtrain_metric\u001b[0m\u001b[0;34m(\u001b[0m\u001b[0mresults\u001b[0m\u001b[0;34m[\u001b[0m\u001b[0;36m2\u001b[0m\u001b[0;34m]\u001b[0m\u001b[0;34m,\u001b[0m \u001b[0mself\u001b[0m\u001b[0;34m.\u001b[0m\u001b[0mtrain_feed\u001b[0m\u001b[0;34m[\u001b[0m\u001b[0mself\u001b[0m\u001b[0;34m.\u001b[0m\u001b[0mtargets\u001b[0m\u001b[0;34m]\u001b[0m\u001b[0;34m)\u001b[0m\u001b[0;34m\u001b[0m\u001b[0m\n\u001b[1;32m    206\u001b[0m                         \u001b[0mperformance\u001b[0m\u001b[0;34m.\u001b[0m\u001b[0madd_loss\u001b[0m\u001b[0;34m(\u001b[0m\u001b[0mresults\u001b[0m\u001b[0;34m[\u001b[0m\u001b[0;36m1\u001b[0m\u001b[0;34m]\u001b[0m\u001b[0;34m)\u001b[0m\u001b[0;34m\u001b[0m\u001b[0m\n",
      "\u001b[0;32m/home/peter/anaconda2/envs/tensorflow/lib/python2.7/site-packages/tensorflow/python/client/session.pyc\u001b[0m in \u001b[0;36mrun\u001b[0;34m(self, fetches, feed_dict, options, run_metadata)\u001b[0m\n\u001b[1;32m    765\u001b[0m     \u001b[0;32mtry\u001b[0m\u001b[0;34m:\u001b[0m\u001b[0;34m\u001b[0m\u001b[0m\n\u001b[1;32m    766\u001b[0m       result = self._run(None, fetches, feed_dict, options_ptr,\n\u001b[0;32m--> 767\u001b[0;31m                          run_metadata_ptr)\n\u001b[0m\u001b[1;32m    768\u001b[0m       \u001b[0;32mif\u001b[0m \u001b[0mrun_metadata\u001b[0m\u001b[0;34m:\u001b[0m\u001b[0;34m\u001b[0m\u001b[0m\n\u001b[1;32m    769\u001b[0m         \u001b[0mproto_data\u001b[0m \u001b[0;34m=\u001b[0m \u001b[0mtf_session\u001b[0m\u001b[0;34m.\u001b[0m\u001b[0mTF_GetBuffer\u001b[0m\u001b[0;34m(\u001b[0m\u001b[0mrun_metadata_ptr\u001b[0m\u001b[0;34m)\u001b[0m\u001b[0;34m\u001b[0m\u001b[0m\n",
      "\u001b[0;32m/home/peter/anaconda2/envs/tensorflow/lib/python2.7/site-packages/tensorflow/python/client/session.pyc\u001b[0m in \u001b[0;36m_run\u001b[0;34m(self, handle, fetches, feed_dict, options, run_metadata)\u001b[0m\n\u001b[1;32m    963\u001b[0m     \u001b[0;32mif\u001b[0m \u001b[0mfinal_fetches\u001b[0m \u001b[0;32mor\u001b[0m \u001b[0mfinal_targets\u001b[0m\u001b[0;34m:\u001b[0m\u001b[0;34m\u001b[0m\u001b[0m\n\u001b[1;32m    964\u001b[0m       results = self._do_run(handle, final_targets, final_fetches,\n\u001b[0;32m--> 965\u001b[0;31m                              feed_dict_string, options, run_metadata)\n\u001b[0m\u001b[1;32m    966\u001b[0m     \u001b[0;32melse\u001b[0m\u001b[0;34m:\u001b[0m\u001b[0;34m\u001b[0m\u001b[0m\n\u001b[1;32m    967\u001b[0m       \u001b[0mresults\u001b[0m \u001b[0;34m=\u001b[0m \u001b[0;34m[\u001b[0m\u001b[0;34m]\u001b[0m\u001b[0;34m\u001b[0m\u001b[0m\n",
      "\u001b[0;32m/home/peter/anaconda2/envs/tensorflow/lib/python2.7/site-packages/tensorflow/python/client/session.pyc\u001b[0m in \u001b[0;36m_do_run\u001b[0;34m(self, handle, target_list, fetch_list, feed_dict, options, run_metadata)\u001b[0m\n\u001b[1;32m   1013\u001b[0m     \u001b[0;32mif\u001b[0m \u001b[0mhandle\u001b[0m \u001b[0;32mis\u001b[0m \u001b[0mNone\u001b[0m\u001b[0;34m:\u001b[0m\u001b[0;34m\u001b[0m\u001b[0m\n\u001b[1;32m   1014\u001b[0m       return self._do_call(_run_fn, self._session, feed_dict, fetch_list,\n\u001b[0;32m-> 1015\u001b[0;31m                            target_list, options, run_metadata)\n\u001b[0m\u001b[1;32m   1016\u001b[0m     \u001b[0;32melse\u001b[0m\u001b[0;34m:\u001b[0m\u001b[0;34m\u001b[0m\u001b[0m\n\u001b[1;32m   1017\u001b[0m       return self._do_call(_prun_fn, self._session, handle, feed_dict,\n",
      "\u001b[0;32m/home/peter/anaconda2/envs/tensorflow/lib/python2.7/site-packages/tensorflow/python/client/session.pyc\u001b[0m in \u001b[0;36m_do_call\u001b[0;34m(self, fn, *args)\u001b[0m\n\u001b[1;32m   1020\u001b[0m   \u001b[0;32mdef\u001b[0m \u001b[0m_do_call\u001b[0m\u001b[0;34m(\u001b[0m\u001b[0mself\u001b[0m\u001b[0;34m,\u001b[0m \u001b[0mfn\u001b[0m\u001b[0;34m,\u001b[0m \u001b[0;34m*\u001b[0m\u001b[0margs\u001b[0m\u001b[0;34m)\u001b[0m\u001b[0;34m:\u001b[0m\u001b[0;34m\u001b[0m\u001b[0m\n\u001b[1;32m   1021\u001b[0m     \u001b[0;32mtry\u001b[0m\u001b[0;34m:\u001b[0m\u001b[0;34m\u001b[0m\u001b[0m\n\u001b[0;32m-> 1022\u001b[0;31m       \u001b[0;32mreturn\u001b[0m \u001b[0mfn\u001b[0m\u001b[0;34m(\u001b[0m\u001b[0;34m*\u001b[0m\u001b[0margs\u001b[0m\u001b[0;34m)\u001b[0m\u001b[0;34m\u001b[0m\u001b[0m\n\u001b[0m\u001b[1;32m   1023\u001b[0m     \u001b[0;32mexcept\u001b[0m \u001b[0merrors\u001b[0m\u001b[0;34m.\u001b[0m\u001b[0mOpError\u001b[0m \u001b[0;32mas\u001b[0m \u001b[0me\u001b[0m\u001b[0;34m:\u001b[0m\u001b[0;34m\u001b[0m\u001b[0m\n\u001b[1;32m   1024\u001b[0m       \u001b[0mmessage\u001b[0m \u001b[0;34m=\u001b[0m \u001b[0mcompat\u001b[0m\u001b[0;34m.\u001b[0m\u001b[0mas_text\u001b[0m\u001b[0;34m(\u001b[0m\u001b[0me\u001b[0m\u001b[0;34m.\u001b[0m\u001b[0mmessage\u001b[0m\u001b[0;34m)\u001b[0m\u001b[0;34m\u001b[0m\u001b[0m\n",
      "\u001b[0;32m/home/peter/anaconda2/envs/tensorflow/lib/python2.7/site-packages/tensorflow/python/client/session.pyc\u001b[0m in \u001b[0;36m_run_fn\u001b[0;34m(session, feed_dict, fetch_list, target_list, options, run_metadata)\u001b[0m\n\u001b[1;32m   1002\u001b[0m         return tf_session.TF_Run(session, options,\n\u001b[1;32m   1003\u001b[0m                                  \u001b[0mfeed_dict\u001b[0m\u001b[0;34m,\u001b[0m \u001b[0mfetch_list\u001b[0m\u001b[0;34m,\u001b[0m \u001b[0mtarget_list\u001b[0m\u001b[0;34m,\u001b[0m\u001b[0;34m\u001b[0m\u001b[0m\n\u001b[0;32m-> 1004\u001b[0;31m                                  status, run_metadata)\n\u001b[0m\u001b[1;32m   1005\u001b[0m \u001b[0;34m\u001b[0m\u001b[0m\n\u001b[1;32m   1006\u001b[0m     \u001b[0;32mdef\u001b[0m \u001b[0m_prun_fn\u001b[0m\u001b[0;34m(\u001b[0m\u001b[0msession\u001b[0m\u001b[0;34m,\u001b[0m \u001b[0mhandle\u001b[0m\u001b[0;34m,\u001b[0m \u001b[0mfeed_dict\u001b[0m\u001b[0;34m,\u001b[0m \u001b[0mfetch_list\u001b[0m\u001b[0;34m)\u001b[0m\u001b[0;34m:\u001b[0m\u001b[0;34m\u001b[0m\u001b[0m\n",
      "\u001b[0;31mKeyboardInterrupt\u001b[0m: "
     ]
    }
   ],
   "source": [
    "train = {'inputs': [X_train], 'targets': y_train}\n",
    "valid = {'inputs': [X_valid], 'targets': y_valid}\n",
    "data = {'train': train, 'valid': valid}\n",
    "learn.train_minibatch(nntrainer, data, batch_size=100, num_epochs=50, \n",
    "                    patience=10, verbose=2, shuffle=True)"
   ]
  },
  {
   "cell_type": "code",
   "execution_count": null,
   "metadata": {
    "collapsed": false,
    "deletable": true,
    "editable": true
   },
   "outputs": [],
   "source": []
  },
  {
   "cell_type": "code",
   "execution_count": null,
   "metadata": {
    "collapsed": false,
    "deletable": true,
    "editable": true
   },
   "outputs": [],
   "source": [
    "\n",
    "batch_mean, batch_var = tf.nn.moments(, [0])"
   ]
  },
  {
   "cell_type": "code",
   "execution_count": null,
   "metadata": {
    "collapsed": false,
    "deletable": true,
    "editable": true
   },
   "outputs": [],
   "source": [
    "x = tf.identity([1., 2.])"
   ]
  },
  {
   "cell_type": "code",
   "execution_count": null,
   "metadata": {
    "collapsed": false,
    "deletable": true,
    "editable": true
   },
   "outputs": [],
   "source": [
    "ema_op = ema.apply(x)"
   ]
  },
  {
   "cell_type": "code",
   "execution_count": null,
   "metadata": {
    "collapsed": false,
    "deletable": true,
    "editable": true
   },
   "outputs": [],
   "source": [
    "sess = tf.Session()\n",
    "sess.run(ema)"
   ]
  },
  {
   "cell_type": "code",
   "execution_count": null,
   "metadata": {
    "collapsed": true,
    "deletable": true,
    "editable": true
   },
   "outputs": [],
   "source": []
  }
 ],
 "metadata": {
  "anaconda-cloud": {},
  "kernelspec": {
   "display_name": "Python 2",
   "language": "python",
   "name": "python2"
  },
  "language_info": {
   "codemirror_mode": {
    "name": "ipython",
    "version": 2
   },
   "file_extension": ".py",
   "mimetype": "text/x-python",
   "name": "python",
   "nbconvert_exporter": "python",
   "pygments_lexer": "ipython2",
   "version": "2.7.13"
  }
 },
 "nbformat": 4,
 "nbformat_minor": 1
}
