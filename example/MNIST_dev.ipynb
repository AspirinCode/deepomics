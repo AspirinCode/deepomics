{
 "cells": [
  {
   "cell_type": "code",
   "execution_count": 1,
   "metadata": {
    "collapsed": true
   },
   "outputs": [],
   "source": [
    "from __future__ import print_function \n",
    "import os, sys\n",
    "import numpy as np\n",
    "from six.moves import cPickle\n",
    "from collections import OrderedDict\n",
    "\n",
    "import tensorflow as tf\n",
    "sys.path.append('..')\n",
    "from tfomics import neuralnetwork_dev as nn\n",
    "from tfomics import neuralbuild as nb\n",
    "from tfomics import utils, learn"
   ]
  },
  {
   "cell_type": "code",
   "execution_count": 2,
   "metadata": {
    "collapsed": false
   },
   "outputs": [
    {
     "name": "stdout",
     "output_type": "stream",
     "text": [
      "Extracting MNIST_data/train-images-idx3-ubyte.gz\n",
      "Extracting MNIST_data/train-labels-idx1-ubyte.gz\n",
      "Extracting MNIST_data/t10k-images-idx3-ubyte.gz\n",
      "Extracting MNIST_data/t10k-labels-idx1-ubyte.gz\n"
     ]
    }
   ],
   "source": [
    "from tensorflow.examples.tutorials.mnist import input_data\n",
    "mnist = input_data.read_data_sets('MNIST_data', one_hot=True)\n",
    "\n",
    "X_train = mnist.train.images\n",
    "X_train = np.reshape(X_train, (X_train.shape[0], 28, 28, 1))\n",
    "y_train = mnist.train.labels\n",
    "\n",
    "X_valid = mnist.validation.images\n",
    "X_valid = np.reshape(X_valid, (X_valid.shape[0], 28, 28, 1))\n",
    "y_valid = mnist.validation.labels\n",
    "\n",
    "X_test = mnist.test.images\n",
    "X_test = np.reshape(X_test, (X_test.shape[0], 28, 28, 1))\n",
    "y_test = mnist.test.labels\n",
    "\n",
    "# get shapes\n",
    "num_data, height, widht, dim = X_train.shape\n",
    "input_shape=[None, height, widht, dim]\n",
    "num_labels = y_train.shape[1]   # number of labels (output units)"
   ]
  },
  {
   "cell_type": "code",
   "execution_count": 3,
   "metadata": {
    "collapsed": true
   },
   "outputs": [],
   "source": [
    "\n",
    "# create model\n",
    "layer1 = {'layer': 'input',\n",
    "        'input_shape': input_shape,\n",
    "        'name': 'input'\n",
    "        }\n",
    "layer2 = {'layer': 'conv2d', \n",
    "        'num_filters': 32,\n",
    "        'filter_size': (5, 5),\n",
    "        #'norm': 'batch',\n",
    "        'activation': 'prelu',\n",
    "        'dropout': 0.1,\n",
    "        'name': 'conv1'\n",
    "        }\n",
    "layer3 = {'layer': 'conv2d', \n",
    "        'num_filters': 64,\n",
    "        'filter_size': (5, 5),\n",
    "        #'norm': 'batch',\n",
    "        'activation': 'prelu',\n",
    "        'dropout': 0.1,\n",
    "        'name': 'conv2'\n",
    "        }\n",
    "layer4 = {'layer': 'dense', \n",
    "        'num_units': 512,\n",
    "        'activation': 'prelu',\n",
    "        'dropout': 0.5,\n",
    "        'name': 'dense1'\n",
    "        }  \n",
    "layer5 = {'layer': 'dense', \n",
    "        'num_units': num_labels,\n",
    "        'activation': 'softmax',\n",
    "        'name': 'dense2'\n",
    "        }\n",
    "\n",
    "#from tfomics import build_network\n",
    "model_layers = [layer1, layer2, layer3, layer4, layer5]\n",
    "\n",
    "# optimization parameters\n",
    "optimization = {\"objective\": \"categorical\",\n",
    "              \"optimizer\": \"adam\",\n",
    "              \"learning_rate\": 0.001,      \n",
    "              \"l2\": 1e-6,\n",
    "              }"
   ]
  },
  {
   "cell_type": "code",
   "execution_count": 4,
   "metadata": {
    "collapsed": false
   },
   "outputs": [],
   "source": [
    "nnbuild = nb.NeuralBuild(model_layers)\n",
    "network, placeholders, hidden_feed_dict = nnbuild.get_network_build()"
   ]
  },
  {
   "cell_type": "code",
   "execution_count": 5,
   "metadata": {
    "collapsed": false
   },
   "outputs": [
    {
     "name": "stdout",
     "output_type": "stream",
     "text": [
      "----------------------------------------------------------------------------\n",
      "Network architecture:\n",
      "----------------------------------------------------------------------------\n",
      "layer1: input\n",
      "(?, 28, 28, 1)\n",
      "layer2: conv1\n",
      "(?, 24, 24, 32)\n",
      "layer3: conv1_active\n",
      "(?, 24, 24, 32)\n",
      "layer4: conv1_dropout\n",
      "(?, 24, 24, 32)\n",
      "layer5: conv2\n",
      "(?, 20, 20, 64)\n",
      "layer6: conv2_active\n",
      "(?, 20, 20, 64)\n",
      "layer7: conv2_dropout\n",
      "(?, 20, 20, 64)\n",
      "layer8: dense1\n",
      "(?, 512)\n",
      "layer9: dense1_bias\n",
      "(?, 512)\n",
      "layer10: dense1_active\n",
      "(?, 512)\n",
      "layer11: dense1_dropout\n",
      "(?, 512)\n",
      "layer12: dense2\n",
      "(?, 10)\n",
      "layer13: dense2_bias\n",
      "(?, 10)\n",
      "layer14: dense2_active\n",
      "(?, 10)\n",
      "layer15: output\n",
      "(?, 10)\n",
      "----------------------------------------------------------------------------\n"
     ]
    }
   ],
   "source": [
    "# build neural network class\n",
    "nnmodel = nn.NeuralNet(network, placeholders, hidden_feed_dict)\n",
    "nnmodel.inspect_layers()"
   ]
  },
  {
   "cell_type": "code",
   "execution_count": 6,
   "metadata": {
    "collapsed": false
   },
   "outputs": [],
   "source": [
    "# set output file paths\n",
    "data_path = '/home/peter/Code/tensorflow/data'\n",
    "filename = 'MNIST'\n",
    "save_path = utils.make_directory(data_path, filename)\n",
    "filepath = os.path.join(save_path, filename)\n",
    "\n",
    "# compile neural trainer\n",
    "nntrainer = nn.NeuralTrainer(nnmodel, optimization, save='best', filepath=filepath)"
   ]
  },
  {
   "cell_type": "code",
   "execution_count": null,
   "metadata": {
    "collapsed": true
   },
   "outputs": [],
   "source": [
    "train = {'inputs': [X_train], 'targets': y_train}\n",
    "valid = {'inputs': [X_valid], 'targets': y_valid}\n",
    "data = {'train': train, 'valid': valid}\n",
    "learn.train_minibatch(nntrainer, data, batch_size=100, num_epochs=50, \n",
    "                    patience=10, verbose=2, shuffle=True)"
   ]
  }
 ],
 "metadata": {
  "kernelspec": {
   "display_name": "Python 2",
   "language": "python",
   "name": "python2"
  },
  "language_info": {
   "codemirror_mode": {
    "name": "ipython",
    "version": 2
   },
   "file_extension": ".py",
   "mimetype": "text/x-python",
   "name": "python",
   "nbconvert_exporter": "python",
   "pygments_lexer": "ipython2",
   "version": "2.7.13"
  }
 },
 "nbformat": 4,
 "nbformat_minor": 2
}
