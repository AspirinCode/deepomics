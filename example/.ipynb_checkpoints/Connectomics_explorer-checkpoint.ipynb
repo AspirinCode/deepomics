{
 "cells": [
  {
   "cell_type": "code",
   "execution_count": 1,
   "metadata": {
    "collapsed": false,
    "deletable": true,
    "editable": true
   },
   "outputs": [],
   "source": [
    "from __future__ import print_function \n",
    "import os, sys, h5py\n",
    "import numpy as np\n",
    "from six.moves import cPickle\n",
    "from collections import OrderedDict\n",
    "\n",
    "import tensorflow as tf\n",
    "sys.path.append('..')\n",
    "from tfomics import neuralnetwork as nn\n",
    "from tfomics import neuralbuild as nb\n",
    "from tfomics import utils, learn, explore\n"
   ]
  },
  {
   "cell_type": "code",
   "execution_count": 2,
   "metadata": {
    "collapsed": false,
    "deletable": true,
    "editable": true
   },
   "outputs": [
    {
     "name": "stdout",
     "output_type": "stream",
     "text": [
      "CPU times: user 440 ms, sys: 1.06 s, total: 1.5 s\n",
      "Wall time: 1.5 s\n"
     ]
    }
   ],
   "source": [
    "filename = 'processed_dataset.hdf5'\n",
    "#data_path = 'D:/Dropbox/TFconnect'\n",
    "data_path = '/home/peter/Code/tensorflow/data'\n",
    "filepath = os.path.join(data_path,filename)\n",
    "\n",
    "group_name = ['processed_data']\n",
    "dataset = h5py.File(filepath,'r')\n",
    "%time dtf = np.array(dataset['/'+group_name[0]+'/dtf'])\n",
    "ltf = np.array(dataset['/'+group_name[0]+'/ltf'])\n",
    "dtf_crossval = np.array(dataset['/'+group_name[0]+'/dtf_crossval'])\n",
    "ltf_crossval = np.array(dataset['/'+group_name[0]+'/ltf_crossval'])\n",
    "\n",
    "X_train = dtf.transpose([0,2,3,1]) #[:10000,:,:,:]\n",
    "y_train = ltf#[:10000,:]\n",
    "X_valid = dtf_crossval.transpose([0,2,3,1]) #[:5000,:,:,:]\n",
    "y_valid = ltf_crossval#[:5000,:]"
   ]
  },
  {
   "cell_type": "code",
   "execution_count": 3,
   "metadata": {
    "collapsed": false,
    "deletable": true,
    "editable": true
   },
   "outputs": [],
   "source": [
    "\n",
    "def model(input_shape, num_labels):\n",
    "\n",
    "\n",
    "    # create model\n",
    "    layer1 = {  'layer': 'input',\n",
    "                'input_shape': input_shape,\n",
    "              }\n",
    "    layer2 = {  'layer': 'conv1d', \n",
    "                'num_filters': {'start': 32, 'bounds': [1, 200], 'scale': 25, 'multiples': 4},\n",
    "                'filter_size': {'start': 7, 'bounds': [5, 32], 'scale': 5, 'odd': True, 'multiples': 2},\n",
    "                'norm': 'batch',\n",
    "                'padding': 'SAME',\n",
    "                'activation': 'relu',\n",
    "                'dropout': {'start': 0.2, 'bounds': [0., 0.6], 'scale': 0.1},\n",
    "                'name': 'conv1'\n",
    "             }\n",
    "    layer3 = {  'layer': 'conv1d_residual', \n",
    "                'filter_size': {'start': 5, 'bounds': [3, 9], 'scale': 4, 'odd': True},\n",
    "                'activation': 'relu',\n",
    "                'pool_size': {'start': 10, 'bounds': [1, 200], 'scale': 30, 'multiples': 2},\n",
    "                'dropout': {'start': .2, 'bounds': [0., .6], 'scale': .1},\n",
    "                'name': 'conv1_resid'\n",
    "              }\n",
    "    layer4 = {  'layer': 'conv1d', \n",
    "                'num_filters': {'start': 64, 'bounds': [1, 200], 'scale': 25, 'multiples': 4},\n",
    "                'filter_size': {'start': 7, 'bounds': [5, 32], 'scale': 5, 'odd': True, 'multiples': 2},\n",
    "                'norm': 'batch',\n",
    "                'padding': 'SAME',\n",
    "                'activation': 'relu',\n",
    "                'dropout': {'start': 0.2, 'bounds': [0., 0.6], 'scale': 0.1},\n",
    "                'name': 'conv2'\n",
    "             }\n",
    "    layer5 = {  'layer': 'conv1d_residual', \n",
    "                'filter_size': {'start': 5, 'bounds': [3, 9], 'scale': 4, 'odd': True},\n",
    "                'activation': 'relu',\n",
    "                'pool_size': {'start': 10, 'bounds': [1, 200], 'scale': 30, 'multiples': 2},\n",
    "                'dropout': {'start': .2, 'bounds': [0., .6], 'scale': .1},\n",
    "                'name': 'conv2_resid'\n",
    "              }              \n",
    "    layer6 = {  'layer': 'dense', \n",
    "                'num_units': {'start': 256, 'bounds': [16, 1000], 'scale': 50, 'multiples': 4},\n",
    "                #'norm': 'batch',\n",
    "                'activation': 'relu',\n",
    "                'dropout': {'start': 0.4, 'bounds': [0., 0.8], 'scale': 0.2},\n",
    "                'name': 'dense1'\n",
    "              }            \n",
    "    layer7 = {  'layer': 'dense', \n",
    "                'num_units': num_labels,\n",
    "                'activation': 'softmax',\n",
    "              }\n",
    "\n",
    "    #from tfomics import build_network\n",
    "    model_layers = [layer1, layer2, layer3, layer4, layer5, layer6, layer7]\n",
    "\n",
    "    # optimization parameters\n",
    "    optimization = {\"objective\": \"categorical\",\n",
    "                    \"optimizer\": \"adam\",\n",
    "                    \"learning_rate\": 0.001,\n",
    "                    \"l2\": 1e-6\n",
    "                    #\"learning_rate\": {'start': -3, 'bounds': [-4, -1], 'scale': 1.5, 'transform': 'log'},      \n",
    "                    #\"l2\": {'start': -6, 'bounds': [-8, -2], 'scale': 3, 'transform': 'log'},\n",
    "                    # \"l1\": 0, \n",
    "                    }\n",
    "    return model_layers, optimization\n",
    "\n",
    "# build network\n",
    "input_shape = list(X_train.shape)\n",
    "input_shape[0] = None\n",
    "num_labels = y_train.shape[1]\n",
    "model_layers, optimization = model(input_shape, num_labels)\n",
    "\n",
    "# build neural opti\n",
    "optimizer = explore.NeuralOptimizer(model_layers, optimization)\n"
   ]
  },
  {
   "cell_type": "code",
   "execution_count": null,
   "metadata": {
    "collapsed": false,
    "deletable": true,
    "editable": true
   },
   "outputs": [
    {
     "data": {
      "text/plain": [
       "[{'input_shape': [None, 330, 1, 3], 'layer': 'input'},\n",
       " {'activation': 'relu',\n",
       "  'dropout': 0.23291182036441585,\n",
       "  'filter_size': 9,\n",
       "  'layer': 'conv1d',\n",
       "  'name': 'conv1',\n",
       "  'norm': 'batch',\n",
       "  'num_filters': 72,\n",
       "  'padding': 'SAME'},\n",
       " {'activation': 'relu',\n",
       "  'dropout': 0.3334532694303734,\n",
       "  'filter_size': 5,\n",
       "  'layer': 'conv1d_residual',\n",
       "  'name': 'conv1_resid',\n",
       "  'pool_size': 34},\n",
       " {'activation': 'relu',\n",
       "  'dropout': 0.3482890601427887,\n",
       "  'filter_size': 5,\n",
       "  'layer': 'conv1d',\n",
       "  'name': 'conv2',\n",
       "  'norm': 'batch',\n",
       "  'num_filters': 24,\n",
       "  'padding': 'SAME'},\n",
       " {'activation': 'relu',\n",
       "  'dropout': 0.16019423256229898,\n",
       "  'filter_size': 7,\n",
       "  'layer': 'conv1d_residual',\n",
       "  'name': 'conv2_resid',\n",
       "  'pool_size': 12},\n",
       " {'activation': 'relu',\n",
       "  'dropout': 0.2921285704615663,\n",
       "  'layer': 'dense',\n",
       "  'name': 'dense1',\n",
       "  'num_units': 232},\n",
       " {'activation': 'softmax', 'layer': 'dense', 'num_units': 2}]"
      ]
     },
     "execution_count": 4,
     "metadata": {},
     "output_type": "execute_result"
    }
   ],
   "source": [
    "optimizer.sample_network()"
   ]
  },
  {
   "cell_type": "code",
   "execution_count": null,
   "metadata": {
    "collapsed": false,
    "deletable": true,
    "editable": true,
    "scrolled": false
   },
   "outputs": [
    {
     "name": "stdout",
     "output_type": "stream",
     "text": [
      "---------------------------------------------------------\n",
      "Running baseline model\n",
      "\n",
      "Model layers:\n",
      "name: conv1\n",
      "filter_size: 7\n",
      "num_filters: 32\n",
      "dropout: 0.2\n",
      "name: conv1_resid\n",
      "pool_size: 10\n",
      "filter_size: 5\n",
      "dropout: 0.2\n",
      "name: conv2\n",
      "filter_size: 7\n",
      "num_filters: 64\n",
      "dropout: 0.2\n",
      "name: conv2_resid\n",
      "pool_size: 10\n",
      "filter_size: 5\n",
      "dropout: 0.2\n",
      "dropout: 0.4\n",
      "name: dense1\n",
      "num_units: 256\n",
      "num_units: 2\n",
      "\n",
      "Optimization:\n",
      "learning_rate: 0.001\n",
      "l2: 1e-06\n",
      "\n",
      "Epoch 1 out of 20 \n"
     ]
    }
   ],
   "source": [
    "# optimize model parameters\n",
    "train = {'inputs': [X_train], 'targets': y_train}\n",
    "valid = {'inputs': [X_valid], 'targets': y_valid}        \n",
    "optimizer.optimize(train, valid, num_trials=100, num_epochs=20, batch_size=128, verbose=0)\n"
   ]
  },
  {
   "cell_type": "code",
   "execution_count": null,
   "metadata": {
    "collapsed": true,
    "deletable": true,
    "editable": true
   },
   "outputs": [],
   "source": [
    "# save optimal model\n",
    "optimizer.print_optimal_model()"
   ]
  },
  {
   "cell_type": "code",
   "execution_count": null,
   "metadata": {
    "collapsed": true,
    "deletable": true,
    "editable": true
   },
   "outputs": [],
   "source": []
  },
  {
   "cell_type": "code",
   "execution_count": null,
   "metadata": {
    "collapsed": true,
    "deletable": true,
    "editable": true
   },
   "outputs": [],
   "source": []
  }
 ],
 "metadata": {
  "anaconda-cloud": {},
  "kernelspec": {
   "display_name": "Python 2",
   "language": "python",
   "name": "python2"
  },
  "language_info": {
   "codemirror_mode": {
    "name": "ipython",
    "version": 2
   },
   "file_extension": ".py",
   "mimetype": "text/x-python",
   "name": "python",
   "nbconvert_exporter": "python",
   "pygments_lexer": "ipython2",
   "version": "2.7.13"
  }
 },
 "nbformat": 4,
 "nbformat_minor": 1
}
