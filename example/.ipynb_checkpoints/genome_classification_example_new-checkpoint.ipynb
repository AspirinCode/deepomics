{
 "cells": [
  {
   "cell_type": "code",
   "execution_count": 1,
   "metadata": {
    "collapsed": false,
    "deletable": true,
    "editable": true
   },
   "outputs": [],
   "source": [
    "from __future__ import print_function \n",
    "import os, sys, h5py\n",
    "import numpy as np\n",
    "from six.moves import cPickle\n",
    "from collections import OrderedDict\n",
    "\n",
    "import tensorflow as tf\n",
    "sys.path.append('/Users/praveenanand/Documents/LabNoteBook/Peter_DeepNeural_RNABinding/tfomics')\n",
    "from tfomics import neuralnetwork as nn\n",
    "from tfomics import utils, fit, init, visualize, saliency\n",
    "import matplotlib.pyplot as plt\n",
    "%matplotlib inline"
   ]
  },
  {
   "cell_type": "code",
   "execution_count": 2,
   "metadata": {
    "collapsed": false,
    "deletable": true,
    "editable": true
   },
   "outputs": [
    {
     "name": "stdout",
     "output_type": "stream",
     "text": [
      "loading training data\n",
      "loading test data\n"
     ]
    }
   ],
   "source": [
    "def load_simulation(filepath):\n",
    "    # setup paths for file handling\n",
    "\n",
    "    trainmat = h5py.File(filepath, 'r')\n",
    "\n",
    "    print(\"loading training data\")\n",
    "    X_train = np.array(trainmat['setA_seq']).astype(np.float32)\n",
    "    y_train = np.array(trainmat['setA_targets']).astype(np.float32)\n",
    "\n",
    "    print(\"loading test data\")\n",
    "    X_test = np.array(trainmat['setB_seq']).astype(np.float32)\n",
    "    y_test = np.array(trainmat['setB_targets']).astype(np.float32)\n",
    "\n",
    "\n",
    "    X_train = np.expand_dims(X_train, axis=3).transpose([0,2,3,1])\n",
    "    X_test = np.expand_dims(X_test, axis=3).transpose([0,2,3,1])\n",
    "\n",
    "    return (X_train, y_train), (X_test, y_test)\n",
    "\n",
    "\n",
    "# load data\n",
    "filename = 'rnac_SetAB_with_nan.hdf5'\n",
    "data_path = '/Users/praveenanand/Documents/LabNoteBook/Peter_DeepNeural_RNABinding/Datasets/DeepBind/nbt3300-code/data/rnac'\n",
    "filepath = os.path.join(data_path, filename)\n",
    "raw_train, raw_test = load_simulation(filepath)\n"
   ]
  },
  {
   "cell_type": "code",
   "execution_count": 3,
   "metadata": {
    "collapsed": true
   },
   "outputs": [],
   "source": [
    "rbp_index = 0\n",
    "\n",
    "targets = raw_train[1][:,rbp_index]\n",
    "nan_index = np.where(np.isnan(targets)==False)[0]\n",
    "targets = np.expand_dims(targets[nan_index],axis=1)\n",
    "sequence = raw_train[0][nan_index]\n",
    "\n",
    "# log transform\n",
    "log_targets = np.log(targets-np.min(targets)+1)\n",
    "mu = np.mean(log_targets)\n",
    "sigma = np.std(log_targets)\n",
    "norm_targets = (log_targets-mu)/sigma"
   ]
  },
  {
   "cell_type": "code",
   "execution_count": 4,
   "metadata": {
    "collapsed": false
   },
   "outputs": [
    {
     "name": "stdout",
     "output_type": "stream",
     "text": [
      "(120252, 1) (120939, 1)\n"
     ]
    }
   ],
   "source": [
    "test_targets = raw_test[1][:,rbp_index]\n",
    "nan_index = np.where(np.isnan(test_targets)==False)[0]\n",
    "test_targets = np.expand_dims(test_targets[nan_index], axis=1)\n",
    "test_sequence = raw_test[0][nan_index]\n",
    "\n",
    "# log transform on test\n",
    "log_targets = np.log(test_targets-np.min(test_targets)+1)\n",
    "mu = np.mean(log_targets)\n",
    "sigma = np.std(log_targets)\n",
    "norm_test_targets = (log_targets-mu)/sigma\n",
    "\n",
    "print(norm_targets.shape,norm_test_targets.shape)"
   ]
  },
  {
   "cell_type": "code",
   "execution_count": null,
   "metadata": {
    "collapsed": true
   },
   "outputs": [],
   "source": [
    "log_test_targets = np.log(test_targets-np.min(test_targets)+1)\n",
    "mu = np.mean(log_test_targets)\n",
    "sigma = np.std(log_test_targets)\n",
    "norm_test_targets = (log_test_targets-mu)/sigma\n",
    "\n",
    "#Clip transform\n",
    "threshold = np.mean(targets) + np.std(targets)*4\n",
    "targets[targets > threshold] = threshold\n",
    "mu = np.mean(targets)\n",
    "sigma = np.std(targets)\n",
    "norm_targets = (targets-mu)/sigma\n",
    "plt.figure()\n",
    "plt.hist(norm_targets, bins=50);\n",
    "\n",
    "\n",
    "test_targets[test_targets > threshold] = threshold\n",
    "mu = np.mean(test_targets)\n",
    "sigma = np.std(test_targets)\n",
    "norm_test_targets = (test_targets-mu)/sigma\n"
   ]
  },
  {
   "cell_type": "code",
   "execution_count": 5,
   "metadata": {
    "collapsed": false
   },
   "outputs": [
    {
     "name": "stdout",
     "output_type": "stream",
     "text": [
      "----------------------------------------------------------------------------\n",
      "Network architecture:\n",
      "----------------------------------------------------------------------------\n",
      "layer1: inputs\n",
      "(?, 41, 1, 4)\n",
      "layer2: conv1d_0\n",
      "(?, 18, 1, 16)\n",
      "layer3: conv1d_0_bias\n",
      "(?, 18, 1, 16)\n",
      "layer4: conv1d_0_active\n",
      "(?, 18, 1, 16)\n",
      "layer5: dense_0\n",
      "(?, 32)\n",
      "layer6: dense_0_bias\n",
      "(?, 32)\n",
      "layer7: dense_0_active\n",
      "(?, 32)\n",
      "layer8: dense_0_dropout\n",
      "(?, 32)\n",
      "layer9: dense_1\n",
      "(?, 1)\n",
      "layer10: dense_1_bias\n",
      "(?, 1)\n",
      "layer11: output\n",
      "(?, 1)\n",
      "----------------------------------------------------------------------------\n"
     ]
    }
   ],
   "source": [
    "def model(input_shape, output_shape):\n",
    "\n",
    "    # create model\n",
    "    layer1 = {'layer': 'input',\n",
    "            'input_shape': input_shape\n",
    "            }\n",
    "    layer2 = {'layer': 'conv1d', \n",
    "            'num_filters': 16,\n",
    "            'filter_size': 24,\n",
    "            #'norm': 'batch',\n",
    "            'activation': 'relu',\n",
    "            #'dropout': 0.1,\n",
    "            'padding': 'VALID',\n",
    "            'meanpool_size': 18,\n",
    "            }\n",
    "    layer3 = {'layer': 'dense', \n",
    "            'num_units': 32,\n",
    "            #'norm': 'batch',\n",
    "            'activation': 'relu',\n",
    "            'dropout': 0.5\n",
    "            }  \n",
    "    layer4 = {'layer': 'dense', \n",
    "            'num_units': output_shape[1],\n",
    "            'activation': 'linear'\n",
    "            }\n",
    "\n",
    "    #from tfomics import build_network\n",
    "    model_layers = [layer1, layer2, layer3, layer4]\n",
    "    \n",
    "    # optimization parameters\n",
    "    optimization = {\"objective\": \"squared_error\",\n",
    "                  \"optimizer\": \"momentum\",\n",
    "                  \"learning_rate\": 0.001, \n",
    "                  \"l1\": 1e-6,\n",
    "                  \"momentum\": 0.95\n",
    "                  #\"l1\": 0.1, \n",
    "                  }\n",
    "    return model_layers, optimization\n",
    "\n",
    "\n",
    "# get shapes\n",
    "num_data, height, width, dim = sequence.shape\n",
    "input_shape=[None, height, width, dim]\n",
    "output_shape = norm_targets.shape\n",
    "\n",
    "model_layers, optimization = model(input_shape, output_shape)\n",
    "\n",
    "# build neural network class\n",
    "nnmodel = nn.NeuralNet()\n",
    "nnmodel.build_layers(model_layers, optimization)\n",
    "nnmodel.inspect_layers()\n"
   ]
  },
  {
   "cell_type": "code",
   "execution_count": 76,
   "metadata": {
    "collapsed": true
   },
   "outputs": [],
   "source": [
    "def model(input_shape, output_shape):\n",
    "\n",
    "    # create model\n",
    "    layer1 = {'layer': 'input', #41\n",
    "            'input_shape': input_shape\n",
    "            }\n",
    "    layer2 = {'layer': 'conv1d', \n",
    "            'num_filters': 32, \n",
    "            'filter_size': 21, # 21\n",
    "            'norm': 'batch',\n",
    "            'activation': 'leaky_relu',\n",
    "            'dropout': 0.1,\n",
    "            'padding': 'VALID',\n",
    "            'mean_poolsize': 7,   # 3\n",
    "            }\n",
    "    layer3 = {'layer': 'conv1d', \n",
    "            'num_filters': 64,\n",
    "            'filter_size': 3, # 1\n",
    "            'norm': 'batch',\n",
    "            'activation': 'leaky_relu',\n",
    "            'dropout': 0.5,\n",
    "            'padding': 'VALID'\n",
    "            }\n",
    "    layer4 = {'layer': 'dense', \n",
    "            'num_units': output_shape[1],\n",
    "            'activation': 'linear'\n",
    "            }\n",
    "\n",
    "    #from tfomics import build_network\n",
    "    model_layers = [layer1, layer2, layer3, layer4]\n",
    "    \n",
    "    # optimization parameters\n",
    "    optimization = {\"objective\": \"squared_error\",\n",
    "                  \"optimizer\": \"adam\",\n",
    "                  \"learning_rate\": 0.001, \n",
    "                  \"l2\": 1e-6,\n",
    "                  #\"l1\": 0.1, \n",
    "                  }\n",
    "    return model_layers, optimization\n",
    "\n",
    "\n",
    "# get shapes\n",
    "num_data, height, width, dim = sequence.shape\n",
    "input_shape=[None, height, width, dim]\n",
    "output_shape = norm_targets.shape\n",
    "\n",
    "model_layers, optimization = model(input_shape, output_shape)"
   ]
  },
  {
   "cell_type": "code",
   "execution_count": 29,
   "metadata": {
    "collapsed": false
   },
   "outputs": [
    {
     "name": "stdout",
     "output_type": "stream",
     "text": [
      "----------------------------------------------------------------------------\n",
      "Network architecture:\n",
      "----------------------------------------------------------------------------\n",
      "layer1: inputs\n",
      "(?, 41, 1, 4)\n",
      "layer2: conv1d_0\n",
      "(?, 21, 1, 32)\n",
      "layer3: conv1d_0_bias\n",
      "(?, 21, 1, 32)\n",
      "layer4: conv1d_0_active\n",
      "(?, 21, 1, 32)\n",
      "layer5: conv1d_0_dropout\n",
      "(?, 21, 1, 32)\n",
      "layer6: dense_0\n",
      "(?, 32)\n",
      "layer7: dense_0_bias\n",
      "(?, 32)\n",
      "layer8: dense_0_active\n",
      "(?, 32)\n",
      "layer9: dense_0_dropout\n",
      "(?, 32)\n",
      "layer10: dense_1\n",
      "(?, 1)\n",
      "layer11: dense_1_bias\n",
      "(?, 1)\n",
      "layer12: output\n",
      "(?, 1)\n",
      "----------------------------------------------------------------------------\n"
     ]
    }
   ],
   "source": [
    "def model(input_shape, output_shape):\n",
    "\n",
    "    # create model\n",
    "    layer1 = {'layer': 'input', #41\n",
    "            'input_shape': input_shape\n",
    "            }\n",
    "    layer2 = {'layer': 'conv1d', \n",
    "            'num_filters': 32, \n",
    "            'filter_size': 21, # 21\n",
    "            #'norm': 'batch',\n",
    "            'activation': 'leaky_relu',\n",
    "            'dropout': 0.1,\n",
    "            'padding': 'VALID',\n",
    "            #'pool_size': 7,   # 3\n",
    "            }\n",
    "    layer3 = {'layer': 'dense', \n",
    "            'num_units': 32,\n",
    "            #'norm': 'batch',\n",
    "            'activation': 'relu',\n",
    "            'dropout': 0.5\n",
    "            }  \n",
    "    layer4 = {'layer': 'dense', \n",
    "            'num_units': output_shape[1],\n",
    "            'activation': 'linear'\n",
    "            }\n",
    "\n",
    "    #from tfomics import build_network\n",
    "    model_layers = [layer1, layer2, layer3, layer4]\n",
    "    \n",
    "    # optimization parameters\n",
    "    optimization = {\"objective\": \"squared_error\",\n",
    "                  \"optimizer\": \"adam\",\n",
    "                  \"learning_rate\": 0.001, \n",
    "                  #\"l2\": 1e-6,\n",
    "                  #\"l1\": 0.1, \n",
    "                  }\n",
    "    return model_layers, optimization\n",
    "\n",
    "\n",
    "# get shapes\n",
    "num_data, height, width, dim = sequence.shape\n",
    "input_shape=[None, height, width, dim]\n",
    "output_shape = norm_targets.shape\n",
    "\n",
    "model_layers, optimization = model(input_shape, output_shape)\n",
    "\n",
    "# build neural network class\n",
    "nnmodel = nn.NeuralNet()\n",
    "nnmodel.build_layers(model_layers, optimization)\n",
    "nnmodel.inspect_layers()\n",
    "\n"
   ]
  },
  {
   "cell_type": "code",
   "execution_count": 19,
   "metadata": {
    "collapsed": true
   },
   "outputs": [],
   "source": [
    "def model(input_shape, output_shape):\n",
    "\n",
    "    # create model\n",
    "    layer1 = {'layer': 'input', #41\n",
    "            'input_shape': input_shape\n",
    "            }\n",
    "    layer2 = {'layer': 'conv1d_residual', \n",
    "            'num_filters': 32, \n",
    "            'filter_size': 9, # 21\n",
    "            'dropout_block': 0.1,\n",
    "            'dropout': 0.1,\n",
    "            'pool_size': 10,   # 3\n",
    "            }\n",
    "    layer3 = {'layer': 'conv1d', \n",
    "            'num_filters': 64,\n",
    "            'filter_size': 4, # 1\n",
    "            'norm': 'batch',\n",
    "            'activation': 'leaky_relu',\n",
    "            'dropout': 0.5,\n",
    "            'padding': 'VALID'\n",
    "            }\n",
    "    layer4 = {'layer': 'dense', \n",
    "            'num_units': output_shape[1],\n",
    "            'activation': 'linear'\n",
    "            }\n",
    "\n",
    "    #from tfomics import build_network\n",
    "    model_layers = [layer1, layer2, layer3, layer4]\n",
    "    \n",
    "    # optimization parameters\n",
    "    optimization = {\"objective\": \"squared_error\",\n",
    "                  \"optimizer\": \"adam\",\n",
    "                  \"learning_rate\": 0.001, \n",
    "                  #\"l2\": 1e-6,\n",
    "                  #\"l1\": 0.1, \n",
    "                  }\n",
    "    return model_layers, optimization\n",
    "\n",
    "\n",
    "# get shapes\n",
    "num_data, height, width, dim = sequence.shape\n",
    "input_shape=[None, height, width, dim]\n",
    "output_shape = norm_targets.shape\n",
    "\n",
    "model_layers, optimization = model(input_shape, output_shape)"
   ]
  },
  {
   "cell_type": "code",
   "execution_count": 36,
   "metadata": {
    "collapsed": false,
    "deletable": true,
    "editable": true,
    "scrolled": false
   },
   "outputs": [
    {
     "name": "stdout",
     "output_type": "stream",
     "text": [
      "----------------------------------------------------------------------------\n",
      "Network architecture:\n",
      "----------------------------------------------------------------------------\n",
      "layer1: inputs\n",
      "(?, 41, 1, 4)\n",
      "layer2: conv1d_0\n",
      "(?, 18, 1, 16)\n",
      "layer3: conv1d_0_bias\n",
      "(?, 18, 1, 16)\n",
      "layer4: conv1d_0_active\n",
      "(?, 18, 1, 16)\n",
      "layer5: dense_0\n",
      "(?, 32)\n",
      "layer6: dense_0_bias\n",
      "(?, 32)\n",
      "layer7: dense_0_active\n",
      "(?, 32)\n",
      "layer8: dense_0_dropout\n",
      "(?, 32)\n",
      "layer9: dense_1\n",
      "(?, 1)\n",
      "layer10: dense_1_bias\n",
      "(?, 1)\n",
      "layer11: output\n",
      "(?, 1)\n",
      "----------------------------------------------------------------------------\n"
     ]
    }
   ],
   "source": [
    "# set output file paths\n",
    "results_path = utils.make_directory(data_path, 'results')\n",
    "results_path = utils.make_directory(results_path, 'tfomics')\n",
    "output_name = 'test'\n",
    "filepath = os.path.join(results_path, output_name)\n",
    "\n",
    "# build neural network class\n",
    "nnmodel = nn.NeuralNet()\n",
    "nnmodel.build_layers(model_layers, optimization)\n",
    "nnmodel.inspect_layers()\n",
    "\n",
    "# compile neural trainer\n",
    "nntrainer = nn.NeuralTrainer(nnmodel, save='best', filepath=filepath)"
   ]
  },
  {
   "cell_type": "code",
   "execution_count": 37,
   "metadata": {
    "collapsed": false
   },
   "outputs": [],
   "source": [
    "sess = utils.initialize_session(nnmodel.placeholders)"
   ]
  },
  {
   "cell_type": "code",
   "execution_count": 38,
   "metadata": {
    "collapsed": false,
    "scrolled": true
   },
   "outputs": [
    {
     "name": "stdout",
     "output_type": "stream",
     "text": [
      "Epoch 1 out of 50 \n",
      "[==============================] 100.0% -- time=0s -- loss=0.81250 -- correlation=0.81162   \n",
      "  valid loss:\t\t0.71171\n",
      "  valid Pearson's R:\t0.55710+/-0.00000\n",
      "  valid rsquare:\t0.28970+/-0.00000\n",
      "  valid slope:\t\t0.98749+/-0.00000\n",
      "  lower cross-validation found\n",
      "  saving model to:  /Users/praveenanand/Documents/LabNoteBook/Peter_DeepNeural_RNABinding/Datasets/DeepBind/nbt3300-code/data/rnac/results/tfomics/test_best.ckpt\n",
      "Epoch 2 out of 50 \n",
      "[==============================] 100.0% -- time=0s -- loss=0.71611 -- correlation=0.71524   \n",
      "  valid loss:\t\t0.63485\n",
      "  valid Pearson's R:\t0.61231+/-0.00000\n",
      "  valid rsquare:\t0.37409+/-0.00000\n",
      "  valid slope:\t\t1.16512+/-0.00000\n",
      "  lower cross-validation found\n",
      "  saving model to:  /Users/praveenanand/Documents/LabNoteBook/Peter_DeepNeural_RNABinding/Datasets/DeepBind/nbt3300-code/data/rnac/results/tfomics/test_best.ckpt\n",
      "Epoch 3 out of 50 \n",
      "[==============================] 100.0% -- time=0s -- loss=0.66192 -- correlation=0.66103   \n",
      "  valid loss:\t\t0.62317\n",
      "  valid Pearson's R:\t0.63510+/-0.00000\n",
      "  valid rsquare:\t0.38660+/-0.00000\n",
      "  valid slope:\t\t1.16955+/-0.00000\n",
      "  lower cross-validation found\n",
      "  saving model to:  /Users/praveenanand/Documents/LabNoteBook/Peter_DeepNeural_RNABinding/Datasets/DeepBind/nbt3300-code/data/rnac/results/tfomics/test_best.ckpt\n",
      "Epoch 4 out of 50 \n",
      "[==============================] 100.0% -- time=0s -- loss=0.62023 -- correlation=0.61932   \n",
      "  valid loss:\t\t0.56381\n",
      "  valid Pearson's R:\t0.67358+/-0.00000\n",
      "  valid rsquare:\t0.43959+/-0.00000\n",
      "  valid slope:\t\t0.93575+/-0.00000\n",
      "  lower cross-validation found\n",
      "  saving model to:  /Users/praveenanand/Documents/LabNoteBook/Peter_DeepNeural_RNABinding/Datasets/DeepBind/nbt3300-code/data/rnac/results/tfomics/test_best.ckpt\n",
      "Epoch 5 out of 50 \n",
      "[==============================] 100.0% -- time=0s -- loss=0.58472 -- correlation=0.58379   \n",
      "  valid loss:\t\t0.52662\n",
      "  valid Pearson's R:\t0.68987+/-0.00000\n",
      "  valid rsquare:\t0.47480+/-0.00000\n",
      "  valid slope:\t\t1.00455+/-0.00000\n",
      "  lower cross-validation found\n",
      "  saving model to:  /Users/praveenanand/Documents/LabNoteBook/Peter_DeepNeural_RNABinding/Datasets/DeepBind/nbt3300-code/data/rnac/results/tfomics/test_best.ckpt\n",
      "Epoch 6 out of 50 \n",
      "[==============================] 100.0% -- time=0s -- loss=0.56135 -- correlation=0.56040   \n",
      "  valid loss:\t\t0.53633\n",
      "  valid Pearson's R:\t0.69237+/-0.00000\n",
      "  valid rsquare:\t0.47702+/-0.00000\n",
      "  valid slope:\t\t1.18771+/-0.00000\n",
      "Epoch 7 out of 50 \n",
      "[==============================] 100.0% -- time=0s -- loss=0.54617 -- correlation=0.54522   \n",
      "  valid loss:\t\t0.51605\n",
      "  valid Pearson's R:\t0.70844+/-0.00000\n",
      "  valid rsquare:\t0.48650+/-0.00000\n",
      "  valid slope:\t\t0.95188+/-0.00000\n",
      "  lower cross-validation found\n",
      "  saving model to:  /Users/praveenanand/Documents/LabNoteBook/Peter_DeepNeural_RNABinding/Datasets/DeepBind/nbt3300-code/data/rnac/results/tfomics/test_best.ckpt\n",
      "Epoch 8 out of 50 \n",
      "[==============================] 100.0% -- time=0s -- loss=0.53958 -- correlation=0.53861   \n",
      "  valid loss:\t\t0.50235\n",
      "  valid Pearson's R:\t0.70716+/-0.00000\n",
      "  valid rsquare:\t0.49967+/-0.00000\n",
      "  valid slope:\t\t1.03771+/-0.00000\n",
      "  lower cross-validation found\n",
      "  saving model to:  /Users/praveenanand/Documents/LabNoteBook/Peter_DeepNeural_RNABinding/Datasets/DeepBind/nbt3300-code/data/rnac/results/tfomics/test_best.ckpt\n",
      "Epoch 9 out of 50 \n",
      "[==============================] 100.0% -- time=0s -- loss=0.53071 -- correlation=0.52973   \n",
      "  valid loss:\t\t0.52088\n",
      "  valid Pearson's R:\t0.71610+/-0.00000\n",
      "  valid rsquare:\t0.48611+/-0.00000\n",
      "  valid slope:\t\t0.90205+/-0.00000\n",
      "Epoch 10 out of 50 \n",
      "[==============================] 100.0% -- time=0s -- loss=0.51999 -- correlation=0.51901   \n",
      "  valid loss:\t\t0.48575\n",
      "  valid Pearson's R:\t0.72093+/-0.00000\n",
      "  valid rsquare:\t0.51660+/-0.00000\n",
      "  valid slope:\t\t0.95559+/-0.00000\n",
      "  lower cross-validation found\n",
      "  saving model to:  /Users/praveenanand/Documents/LabNoteBook/Peter_DeepNeural_RNABinding/Datasets/DeepBind/nbt3300-code/data/rnac/results/tfomics/test_best.ckpt\n",
      "Epoch 11 out of 50 \n",
      "[==============================] 100.0% -- time=0s -- loss=0.51724 -- correlation=0.51625   \n",
      "  valid loss:\t\t0.47694\n",
      "  valid Pearson's R:\t0.72437+/-0.00000\n",
      "  valid rsquare:\t0.52445+/-0.00000\n",
      "  valid slope:\t\t1.00536+/-0.00000\n",
      "  lower cross-validation found\n",
      "  saving model to:  /Users/praveenanand/Documents/LabNoteBook/Peter_DeepNeural_RNABinding/Datasets/DeepBind/nbt3300-code/data/rnac/results/tfomics/test_best.ckpt\n",
      "Epoch 12 out of 50 \n",
      "[==============================] 100.0% -- time=0s -- loss=0.51580 -- correlation=0.51480   \n",
      "  valid loss:\t\t0.48407\n",
      "  valid Pearson's R:\t0.72626+/-0.00000\n",
      "  valid rsquare:\t0.51939+/-0.00000\n",
      "  valid slope:\t\t0.93960+/-0.00000\n",
      "Epoch 13 out of 50 \n",
      "[==============================] 100.0% -- time=0s -- loss=0.51060 -- correlation=0.50959   \n",
      "  valid loss:\t\t0.47349\n",
      "  valid Pearson's R:\t0.72761+/-0.00000\n",
      "  valid rsquare:\t0.52807+/-0.00000\n",
      "  valid slope:\t\t1.01946+/-0.00000\n",
      "  lower cross-validation found\n",
      "  saving model to:  /Users/praveenanand/Documents/LabNoteBook/Peter_DeepNeural_RNABinding/Datasets/DeepBind/nbt3300-code/data/rnac/results/tfomics/test_best.ckpt\n",
      "Epoch 14 out of 50 \n",
      "[==============================] 100.0% -- time=0s -- loss=0.50664 -- correlation=0.50563   \n",
      "  valid loss:\t\t0.47165\n",
      "  valid Pearson's R:\t0.72859+/-0.00000\n",
      "  valid rsquare:\t0.52970+/-0.00000\n",
      "  valid slope:\t\t0.99145+/-0.00000\n",
      "  lower cross-validation found\n",
      "  saving model to:  /Users/praveenanand/Documents/LabNoteBook/Peter_DeepNeural_RNABinding/Datasets/DeepBind/nbt3300-code/data/rnac/results/tfomics/test_best.ckpt\n",
      "Epoch 15 out of 50 \n",
      "[==============================] 100.0% -- time=0s -- loss=0.50420 -- correlation=0.50318   \n",
      "  valid loss:\t\t0.47772\n",
      "  valid Pearson's R:\t0.72843+/-0.00000\n",
      "  valid rsquare:\t0.52500+/-0.00000\n",
      "  valid slope:\t\t0.95119+/-0.00000\n",
      "Epoch 16 out of 50 \n",
      "[==============================] 100.0% -- time=0s -- loss=0.50348 -- correlation=0.50245   \n",
      "  valid loss:\t\t0.47116\n",
      "  valid Pearson's R:\t0.73123+/-0.00000\n",
      "  valid rsquare:\t0.53048+/-0.00000\n",
      "  valid slope:\t\t1.02310+/-0.00000\n",
      "  lower cross-validation found\n",
      "  saving model to:  /Users/praveenanand/Documents/LabNoteBook/Peter_DeepNeural_RNABinding/Datasets/DeepBind/nbt3300-code/data/rnac/results/tfomics/test_best.ckpt\n",
      "Epoch 17 out of 50 \n",
      "[==============================] 100.0% -- time=0s -- loss=0.49883 -- correlation=0.49780   \n",
      "  valid loss:\t\t0.46839\n",
      "  valid Pearson's R:\t0.73307+/-0.00000\n",
      "  valid rsquare:\t0.53448+/-0.00000\n",
      "  valid slope:\t\t1.05655+/-0.00000\n",
      "  lower cross-validation found\n",
      "  saving model to:  /Users/praveenanand/Documents/LabNoteBook/Peter_DeepNeural_RNABinding/Datasets/DeepBind/nbt3300-code/data/rnac/results/tfomics/test_best.ckpt\n",
      "Epoch 18 out of 50 \n",
      "[==============================] 100.0% -- time=0s -- loss=0.49834 -- correlation=0.49730   \n",
      "  valid loss:\t\t0.46829\n",
      "  valid Pearson's R:\t0.73315+/-0.00000\n",
      "  valid rsquare:\t0.53406+/-0.00000\n",
      "  valid slope:\t\t1.04414+/-0.00000\n",
      "  lower cross-validation found\n",
      "  saving model to:  /Users/praveenanand/Documents/LabNoteBook/Peter_DeepNeural_RNABinding/Datasets/DeepBind/nbt3300-code/data/rnac/results/tfomics/test_best.ckpt\n",
      "Epoch 19 out of 50 \n",
      "[==============================] 100.0% -- time=0s -- loss=0.49455 -- correlation=0.49351   \n",
      "  valid loss:\t\t0.47254\n",
      "  valid Pearson's R:\t0.73255+/-0.00000\n",
      "  valid rsquare:\t0.52884+/-0.00000\n",
      "  valid slope:\t\t0.99375+/-0.00000\n",
      "Epoch 20 out of 50 \n",
      "[==============================] 100.0% -- time=0s -- loss=0.49260 -- correlation=0.49155   \n",
      "  valid loss:\t\t0.47567\n",
      "  valid Pearson's R:\t0.73119+/-0.00000\n",
      "  valid rsquare:\t0.52682+/-0.00000\n",
      "  valid slope:\t\t0.95490+/-0.00000\n",
      "Epoch 21 out of 50 \n",
      "[==============================] 100.0% -- time=0s -- loss=0.49362 -- correlation=0.49257   \n",
      "  valid loss:\t\t0.45830\n",
      "  valid Pearson's R:\t0.73811+/-0.00000\n",
      "  valid rsquare:\t0.54425+/-0.00000\n",
      "  valid slope:\t\t0.95526+/-0.00000\n",
      "  lower cross-validation found\n",
      "  saving model to:  /Users/praveenanand/Documents/LabNoteBook/Peter_DeepNeural_RNABinding/Datasets/DeepBind/nbt3300-code/data/rnac/results/tfomics/test_best.ckpt\n",
      "Epoch 22 out of 50 \n",
      "[==============================] 100.0% -- time=0s -- loss=0.49336 -- correlation=0.49230   \n",
      "  valid loss:\t\t0.46320\n",
      "  valid Pearson's R:\t0.73444+/-0.00000\n",
      "  valid rsquare:\t0.53940+/-0.00000\n",
      "  valid slope:\t\t1.04920+/-0.00000\n",
      "Epoch 23 out of 50 \n",
      "[==============================] 100.0% -- time=0s -- loss=0.48827 -- correlation=0.48721   \n",
      "  valid loss:\t\t0.47013\n",
      "  valid Pearson's R:\t0.73432+/-0.00000\n",
      "  valid rsquare:\t0.53611+/-0.00000\n",
      "  valid slope:\t\t1.10532+/-0.00000\n",
      "Epoch 24 out of 50 \n",
      "[==============================] 100.0% -- time=0s -- loss=0.48530 -- correlation=0.48424   \n",
      "  valid loss:\t\t0.46974\n",
      "  valid Pearson's R:\t0.73869+/-0.00000\n",
      "  valid rsquare:\t0.54542+/-0.00000\n",
      "  valid slope:\t\t1.18792+/-0.00000\n",
      "Epoch 25 out of 50 \n",
      "[==============================] 100.0% -- time=0s -- loss=0.48637 -- correlation=0.48530   \n",
      "  valid loss:\t\t0.46540\n",
      "  valid Pearson's R:\t0.73683+/-0.00000\n",
      "  valid rsquare:\t0.53625+/-0.00000\n",
      "  valid slope:\t\t1.02050+/-0.00000\n",
      "Epoch 26 out of 50 \n",
      "[==============================] 100.0% -- time=0s -- loss=0.48859 -- correlation=0.48751   \n",
      "  valid loss:\t\t0.47573\n",
      "  valid Pearson's R:\t0.73310+/-0.00000\n",
      "  valid rsquare:\t0.53436+/-0.00000\n",
      "  valid slope:\t\t1.14508+/-0.00000\n",
      "Epoch 27 out of 50 \n",
      "[==============================] 100.0% -- time=0s -- loss=0.48495 -- correlation=0.48387   \n",
      "  valid loss:\t\t0.46581\n",
      "  valid Pearson's R:\t0.73874+/-0.00000\n",
      "  valid rsquare:\t0.53794+/-0.00000\n",
      "  valid slope:\t\t0.93726+/-0.00000\n",
      "Epoch 28 out of 50 \n",
      "[==============================] 100.0% -- time=0s -- loss=0.48841 -- correlation=0.48733   \n",
      "  valid loss:\t\t0.46864\n",
      "  valid Pearson's R:\t0.73831+/-0.00000\n",
      "  valid rsquare:\t0.53363+/-0.00000\n",
      "  valid slope:\t\t0.96125+/-0.00000\n",
      "Epoch 29 out of 50 \n",
      "[==============================] 100.0% -- time=0s -- loss=0.48192 -- correlation=0.48084   \n",
      "  valid loss:\t\t0.45848\n",
      "  valid Pearson's R:\t0.73783+/-0.00000\n",
      "  valid rsquare:\t0.54316+/-0.00000\n",
      "  valid slope:\t\t0.97991+/-0.00000\n",
      "Epoch 30 out of 50 \n",
      "[==============================] 100.0% -- time=0s -- loss=0.48549 -- correlation=0.48440   \n",
      "  valid loss:\t\t0.46240\n",
      "  valid Pearson's R:\t0.73941+/-0.00000\n",
      "  valid rsquare:\t0.54365+/-0.00000\n",
      "  valid slope:\t\t0.91524+/-0.00000\n",
      "Epoch 31 out of 50 \n",
      "[==============================] 100.0% -- time=0s -- loss=0.48298 -- correlation=0.48188   \n",
      "  valid loss:\t\t0.45436\n",
      "  valid Pearson's R:\t0.74076+/-0.00000\n",
      "  valid rsquare:\t0.54749+/-0.00000\n",
      "  valid slope:\t\t1.02962+/-0.00000\n",
      "  lower cross-validation found\n",
      "  saving model to:  /Users/praveenanand/Documents/LabNoteBook/Peter_DeepNeural_RNABinding/Datasets/DeepBind/nbt3300-code/data/rnac/results/tfomics/test_best.ckpt\n",
      "Epoch 32 out of 50 \n",
      "[==============================] 100.0% -- time=0s -- loss=0.48439 -- correlation=0.48329   \n",
      "  valid loss:\t\t0.45862\n",
      "  valid Pearson's R:\t0.74001+/-0.00000\n",
      "  valid rsquare:\t0.54703+/-0.00000\n",
      "  valid slope:\t\t1.09478+/-0.00000\n",
      "Epoch 33 out of 50 \n",
      "[==============================] 100.0% -- time=0s -- loss=0.47875 -- correlation=0.47764   \n",
      "  valid loss:\t\t0.47458\n",
      "  valid Pearson's R:\t0.73117+/-0.00000\n",
      "  valid rsquare:\t0.53175+/-0.00000\n",
      "  valid slope:\t\t1.10494+/-0.00000\n",
      "Epoch 34 out of 50 \n",
      "[==============================] 100.0% -- time=0s -- loss=0.47860 -- correlation=0.47749   \n",
      "  valid loss:\t\t0.45288\n",
      "  valid Pearson's R:\t0.74147+/-0.00000\n",
      "  valid rsquare:\t0.54880+/-0.00000\n",
      "  valid slope:\t\t1.01938+/-0.00000\n",
      "  lower cross-validation found\n",
      "  saving model to:  /Users/praveenanand/Documents/LabNoteBook/Peter_DeepNeural_RNABinding/Datasets/DeepBind/nbt3300-code/data/rnac/results/tfomics/test_best.ckpt\n",
      "Epoch 35 out of 50 \n",
      "[==============================] 100.0% -- time=0s -- loss=0.48083 -- correlation=0.47971   \n",
      "  valid loss:\t\t0.46721\n",
      "  valid Pearson's R:\t0.73652+/-0.00000\n",
      "  valid rsquare:\t0.53490+/-0.00000\n",
      "  valid slope:\t\t0.96630+/-0.00000\n",
      "Epoch 36 out of 50 \n",
      "[==============================] 100.0% -- time=0s -- loss=0.47961 -- correlation=0.47849   \n",
      "  valid loss:\t\t0.47200\n",
      "  valid Pearson's R:\t0.73149+/-0.00000\n",
      "  valid rsquare:\t0.53217+/-0.00000\n",
      "  valid slope:\t\t1.07605+/-0.00000\n",
      "Epoch 37 out of 50 \n",
      "[==============================] 100.0% -- time=0s -- loss=0.47466 -- correlation=0.47353   \n",
      "  valid loss:\t\t0.46066\n",
      "  valid Pearson's R:\t0.73604+/-0.00000\n",
      "  valid rsquare:\t0.54115+/-0.00000\n",
      "  valid slope:\t\t1.02235+/-0.00000\n",
      "Epoch 38 out of 50 \n",
      "[==============================] 100.0% -- time=0s -- loss=0.47523 -- correlation=0.47410   \n",
      "  valid loss:\t\t0.45885\n",
      "  valid Pearson's R:\t0.73849+/-0.00000\n",
      "  valid rsquare:\t0.54518+/-0.00000\n",
      "  valid slope:\t\t1.07290+/-0.00000\n",
      "Epoch 39 out of 50 \n",
      "[==============================] 100.0% -- time=0s -- loss=0.47439 -- correlation=0.47325   \n",
      "  valid loss:\t\t0.45155\n",
      "  valid Pearson's R:\t0.74171+/-0.00000\n",
      "  valid rsquare:\t0.55002+/-0.00000\n",
      "  valid slope:\t\t0.98999+/-0.00000\n",
      "  lower cross-validation found\n",
      "  saving model to:  /Users/praveenanand/Documents/LabNoteBook/Peter_DeepNeural_RNABinding/Datasets/DeepBind/nbt3300-code/data/rnac/results/tfomics/test_best.ckpt\n",
      "Epoch 40 out of 50 \n",
      "[==============================] 100.0% -- time=0s -- loss=0.47763 -- correlation=0.47649   \n",
      "  valid loss:\t\t0.45527\n",
      "  valid Pearson's R:\t0.74018+/-0.00000\n",
      "  valid rsquare:\t0.54698+/-0.00000\n",
      "  valid slope:\t\t1.03945+/-0.00000\n",
      "Epoch 41 out of 50 \n",
      "[==============================] 100.0% -- time=0s -- loss=0.47648 -- correlation=0.47534   \n",
      "  valid loss:\t\t0.46407\n",
      "  valid Pearson's R:\t0.73505+/-0.00000\n",
      "  valid rsquare:\t0.53950+/-0.00000\n",
      "  valid slope:\t\t0.94066+/-0.00000\n",
      "Epoch 42 out of 50 \n",
      "[==============================] 100.0% -- time=0s -- loss=0.47467 -- correlation=0.47352   \n",
      "  valid loss:\t\t0.45535\n",
      "  valid Pearson's R:\t0.74040+/-0.00000\n",
      "  valid rsquare:\t0.54812+/-0.00000\n",
      "  valid slope:\t\t1.06497+/-0.00000\n",
      "Epoch 43 out of 50 \n",
      "[==============================] 100.0% -- time=0s -- loss=0.47596 -- correlation=0.47480   \n",
      "  valid loss:\t\t0.45952\n",
      "  valid Pearson's R:\t0.73752+/-0.00000\n",
      "  valid rsquare:\t0.54327+/-0.00000\n",
      "  valid slope:\t\t1.05290+/-0.00000\n",
      "Epoch 44 out of 50 \n",
      "[==============================] 100.0% -- time=0s -- loss=0.46981 -- correlation=0.46866   \n",
      "  valid loss:\t\t0.47418\n",
      "  valid Pearson's R:\t0.73787+/-0.00000\n",
      "  valid rsquare:\t0.54161+/-0.00000\n",
      "  valid slope:\t\t1.19349+/-0.00000\n",
      "Epoch 45 out of 50 \n",
      "[==============================] 100.0% -- time=0s -- loss=0.47143 -- correlation=0.47027   \n",
      "  valid loss:\t\t0.45017\n",
      "  valid Pearson's R:\t0.74250+/-0.00000\n",
      "  valid rsquare:\t0.55127+/-0.00000\n",
      "  valid slope:\t\t0.99984+/-0.00000\n",
      "  lower cross-validation found\n",
      "  saving model to:  /Users/praveenanand/Documents/LabNoteBook/Peter_DeepNeural_RNABinding/Datasets/DeepBind/nbt3300-code/data/rnac/results/tfomics/test_best.ckpt\n",
      "Epoch 46 out of 50 \n",
      "[==============================] 100.0% -- time=0s -- loss=0.47273 -- correlation=0.47156   \n",
      "  valid loss:\t\t0.46704\n",
      "  valid Pearson's R:\t0.74026+/-0.00000\n",
      "  valid rsquare:\t0.53991+/-0.00000\n",
      "  valid slope:\t\t0.90776+/-0.00000\n",
      "Epoch 47 out of 50 \n",
      "[==============================] 100.0% -- time=0s -- loss=0.47001 -- correlation=0.46884   \n",
      "  valid loss:\t\t0.46998\n",
      "  valid Pearson's R:\t0.73349+/-0.00000\n",
      "  valid rsquare:\t0.53773+/-0.00000\n",
      "  valid slope:\t\t1.11937+/-0.00000\n",
      "Epoch 48 out of 50 \n",
      "[==============================] 100.0% -- time=0s -- loss=0.47012 -- correlation=0.46894   \n",
      "  valid loss:\t\t0.47185\n",
      "  valid Pearson's R:\t0.73892+/-0.00000\n",
      "  valid rsquare:\t0.54304+/-0.00000\n",
      "  valid slope:\t\t1.18526+/-0.00000\n",
      "Epoch 49 out of 50 \n",
      "[==============================] 100.0% -- time=0s -- loss=0.47493 -- correlation=0.47375   \n",
      "  valid loss:\t\t0.45626\n",
      "  valid Pearson's R:\t0.74127+/-0.00000\n",
      "  valid rsquare:\t0.54524+/-0.00000\n",
      "  valid slope:\t\t0.98732+/-0.00000\n",
      "Epoch 50 out of 50 \n",
      "[==============================] 100.0% -- time=0s -- loss=0.47175 -- correlation=0.47056   \n",
      "  valid loss:\t\t0.46676\n",
      "  valid Pearson's R:\t0.73432+/-0.00000\n",
      "  valid rsquare:\t0.53895+/-0.00000\n",
      "  valid slope:\t\t0.91826+/-0.00000\n",
      "  saving model to:  /Users/praveenanand/Documents/LabNoteBook/Peter_DeepNeural_RNABinding/Datasets/DeepBind/nbt3300-code/data/rnac/results/tfomics/test_last.ckpt\n"
     ]
    }
   ],
   "source": [
    "train = {'inputs': sequence, 'targets': norm_targets}\n",
    "valid = {'inputs': test_sequence, 'targets': norm_test_targets}\n",
    "#test = {'inputs': X_test, 'targets': y_test}\n",
    "data = {'train': train, 'valid': valid}\n",
    "fit.train_minibatch(sess, nntrainer, data, batch_size=100, num_epochs=50, \n",
    "                      patience=20, verbose=2, shuffle=True, save_all=False)"
   ]
  },
  {
   "cell_type": "code",
   "execution_count": 23,
   "metadata": {
    "collapsed": false
   },
   "outputs": [
    {
     "name": "stdout",
     "output_type": "stream",
     "text": [
      "loading model from:  /Users/praveenanand/Documents/LabNoteBook/Peter_DeepNeural_RNABinding/Datasets/DeepBind/nbt3300-code/data/rnac/results/tfomics/test_best.ckpt\n",
      "  test  loss:\t\t0.56919\n",
      "  test  Pearson's R:\t0.71096+/-0.00000\n",
      "  test  rsquare:\t0.47002+/-0.00000\n",
      "  test  slope:\t\t1.40507+/-0.00000\n"
     ]
    }
   ],
   "source": [
    "nntrainer.set_best_parameters(sess)\n",
    "\n",
    "test = {'inputs': test_sequence, 'targets': norm_test_targets}\n",
    "loss, mean_vals, std_vals = nntrainer.test_model(sess, test, batch_size=128, name='test', verbose=1)"
   ]
  },
  {
   "cell_type": "code",
   "execution_count": 73,
   "metadata": {
    "collapsed": false
   },
   "outputs": [
    {
     "data": {
      "image/png": "[encoded data removed]",
      "text/plain": [
       "<matplotlib.figure.Figure at 0x11b900d50>"
      ]
     },
     "metadata": {},
     "output_type": "display_data"
    }
   ],
   "source": [
    "W = nnmodel.get_parameters(sess, layer='conv1d_0')[0]\n",
    "W = np.squeeze(W.transpose([3, 2, 0, 1]))\n",
    "fig, plt = visualize.plot_filter_logos(W, normalize=True, figsize=(100,50), height=25, \n",
    "                            nt_width=10, norm=0, alphabet='rna')"
   ]
  },
  {
   "cell_type": "code",
   "execution_count": 24,
   "metadata": {
    "collapsed": false
   },
   "outputs": [],
   "source": [
    "predictions = nntrainer.get_activations(sess, test, layer='output')"
   ]
  },
  {
   "cell_type": "code",
   "execution_count": 25,
   "metadata": {
    "collapsed": false
   },
   "outputs": [
    {
     "data": {
      "text/plain": [
       "<matplotlib.collections.PathCollection at 0x135b58e90>"
      ]
     },
     "execution_count": 25,
     "metadata": {},
     "output_type": "execute_result"
    },
    {
     "name": "stderr",
     "output_type": "stream",
     "text": [
      "/usr/local/lib/python2.7/site-packages/matplotlib/figure.py:1742: UserWarning: This figure includes Axes that are not compatible with tight_layout, so its results might be incorrect.\n",
      "  warnings.warn(\"This figure includes Axes that are not \"\n"
     ]
    },
    {
     "data": {
      "image/png": "[encoded data removed]",
      "text/plain": [
       "<matplotlib.figure.Figure at 0x144c84290>"
      ]
     },
     "metadata": {},
     "output_type": "display_data"
    }
   ],
   "source": [
    "plt.scatter(predictions, norm_test_targets)"
   ]
  },
  {
   "cell_type": "code",
   "execution_count": 26,
   "metadata": {
    "collapsed": false
   },
   "outputs": [
    {
     "data": {
      "text/plain": [
       "array([[ 6.16261721],\n",
       "       [ 5.84332895],\n",
       "       [ 5.08116722],\n",
       "       ..., \n",
       "       [-0.70454901],\n",
       "       [-0.70462769],\n",
       "       [-0.70691603]], dtype=float32)"
      ]
     },
     "execution_count": 26,
     "metadata": {},
     "output_type": "execute_result"
    }
   ],
   "source": [
    "max_indices = np.argsort(predictions[:,0])[::-1]\n",
    "predictions[max_indices]"
   ]
  },
  {
   "cell_type": "code",
   "execution_count": 27,
   "metadata": {
    "collapsed": false
   },
   "outputs": [
    {
     "data": {
      "text/plain": [
       "<matplotlib.figure.Figure at 0x13f04a350>"
      ]
     },
     "metadata": {},
     "output_type": "display_data"
    },
    {
     "data": {
      "image/png": "[encoded data removed]",
      "text/plain": [
       "<matplotlib.figure.Figure at 0x141a85f90>"
      ]
     },
     "metadata": {},
     "output_type": "display_data"
    },
    {
     "data": {
      "text/plain": [
       "<matplotlib.figure.Figure at 0x139ca2750>"
      ]
     },
     "metadata": {},
     "output_type": "display_data"
    },
    {
     "data": {
      "image/png": "[encoded data removed]",
      "text/plain": [
       "<matplotlib.figure.Figure at 0x134ad5bd0>"
      ]
     },
     "metadata": {},
     "output_type": "display_data"
    },
    {
     "data": {
      "text/plain": [
       "<matplotlib.figure.Figure at 0x138282f90>"
      ]
     },
     "metadata": {},
     "output_type": "display_data"
    },
    {
     "data": {
      "image/png": "[encoded data removed]",
      "text/plain": [
       "<matplotlib.figure.Figure at 0x137702350>"
      ]
     },
     "metadata": {},
     "output_type": "display_data"
    },
    {
     "data": {
      "text/plain": [
       "<matplotlib.figure.Figure at 0x1346dfcd0>"
      ]
     },
     "metadata": {},
     "output_type": "display_data"
    },
    {
     "data": {
      "image/png": "[encoded data removed]",
      "text/plain": [
       "<matplotlib.figure.Figure at 0x13a025bd0>"
      ]
     },
     "metadata": {},
     "output_type": "display_data"
    },
    {
     "data": {
      "text/plain": [
       "<matplotlib.figure.Figure at 0x138b188d0>"
      ]
     },
     "metadata": {},
     "output_type": "display_data"
    },
    {
     "data": {
      "image/png": "[encoded data removed]",
      "text/plain": [
       "<matplotlib.figure.Figure at 0x134c6dfd0>"
      ]
     },
     "metadata": {},
     "output_type": "display_data"
    }
   ],
   "source": [
    "num_plots = 5\n",
    "\n",
    "for i, index in enumerate(max_indices[:5]):\n",
    "    # sequence to perform saliency analysis\n",
    "    \n",
    "    X = np.expand_dims(test_sequence[index], axis=0)\n",
    "\n",
    "    # parameters for saliency analysis\n",
    "    params = {'genome_model': model, \n",
    "              'input_shape': input_shape, \n",
    "              'output_shape': output_shape, \n",
    "              'model_path': filepath+'_best.ckpt',\n",
    "              'optimization': optimization\n",
    "             }\n",
    "\n",
    "    # guided backprop saliency\n",
    "    #guided_saliency = saliency.guided_backprop(X, layer='output', class_index=0, params=params)\n",
    "\n",
    "    # stochastic guided backprop saliency\n",
    "    guided_saliency = saliency.stochastic_guided_backprop(X, layer='output', class_index=None, params=params,\n",
    "                                                             num_average=200, threshold=0.0, stochastic_val=0.5)\n",
    "\n",
    "\n",
    "    # plot saliency comparison\n",
    "    plt.figure()\n",
    "    visualize.plot_seq_pos_saliency(np.squeeze(X).T, np.squeeze(guided_saliency[0]).T, alphabet='rna')    \n",
    "    "
   ]
  },
  {
   "cell_type": "code",
   "execution_count": null,
   "metadata": {
    "collapsed": true
   },
   "outputs": [],
   "source": []
  },
  {
   "cell_type": "code",
   "execution_count": null,
   "metadata": {
    "collapsed": true
   },
   "outputs": [],
   "source": []
  },
  {
   "cell_type": "code",
   "execution_count": 52,
   "metadata": {
    "collapsed": false
   },
   "outputs": [
    {
     "data": {
      "text/plain": [
       "(-0.5, 819.5, 99.5, -0.5)"
      ]
     },
     "execution_count": 52,
     "metadata": {},
     "output_type": "execute_result"
    },
    {
     "data": {
      "image/png": "[encoded data removed]",
      "text/plain": [
       "<matplotlib.figure.Figure at 0x124cd1dd0>"
      ]
     },
     "metadata": {},
     "output_type": "display_data"
    }
   ],
   "source": [
    "\n",
    "# sequence to perform saliency analysis\n",
    "X = np.expand_dims(test_sequence[index], axis=0)\n",
    "\n",
    "# parameters for saliency analysis\n",
    "params = {'genome_model': model, \n",
    "          'input_shape': input_shape, \n",
    "          'output_shape': output_shape, \n",
    "          'model_path': filepath+'_best.ckpt',\n",
    "          'optimization': optimization\n",
    "         }\n",
    "\n",
    "# backprop saliency\n",
    "backprop_saliency = saliency.backprop(X, layer='output', class_index=0, params=params)\n",
    "\n",
    "# guided backprop saliency\n",
    "guided_saliency = saliency.guided_backprop(X, layer='output', class_index=0, params=params)\n",
    "\n",
    "# stochastic guided backprop saliency\n",
    "stochastic_saliency = saliency.stochastic_guided_backprop(X, layer='output', class_index=0, params=params,\n",
    "                                                         num_average=200, threshold=12.0, stochastic_val=0.5)\n",
    "\n",
    "# plot saliency comparison\n",
    "fig, ax = plt.subplots(nrows=4, ncols=1, sharex=True, sharey=True, figsize=(15, 3));\n",
    "plt.subplot(4,1,1)\n",
    "visualize.plot_pos_saliency(np.squeeze(backprop_saliency[0]).T, alphabet='rna')    \n",
    "plt.ylabel(' backprop', fontsize=6)\n",
    "plt.subplot(4,1,2)\n",
    "visualize.plot_pos_saliency(np.squeeze(guided_saliency[0]).T, alphabet='rna')    \n",
    "plt.ylabel(' guided', fontsize=6)\n",
    "plt.subplot(4,1,3)\n",
    "visualize.plot_pos_saliency(np.squeeze(stochastic_saliency[0]).T, alphabet='rna')    \n",
    "plt.ylabel(' stochastic', fontsize=6)\n",
    "plt.subplot(4,1,4)\n",
    "visualize.plot_pos_saliency(np.squeeze(X).T, alphabet='rna')    \n",
    "plt.axis('off')"
   ]
  },
  {
   "cell_type": "code",
   "execution_count": null,
   "metadata": {
    "collapsed": false
   },
   "outputs": [],
   "source": []
  },
  {
   "cell_type": "code",
   "execution_count": null,
   "metadata": {
    "collapsed": true
   },
   "outputs": [],
   "source": []
  }
 ],
 "metadata": {
  "anaconda-cloud": {},
  "kernelspec": {
   "display_name": "Python 2",
   "language": "python",
   "name": "python2"
  },
  "language_info": {
   "codemirror_mode": {
    "name": "ipython",
    "version": 2
   },
   "file_extension": ".py",
   "mimetype": "text/x-python",
   "name": "python",
   "nbconvert_exporter": "python",
   "pygments_lexer": "ipython2",
   "version": "2.7.13"
  }
 },
 "nbformat": 4,
 "nbformat_minor": 0
}
