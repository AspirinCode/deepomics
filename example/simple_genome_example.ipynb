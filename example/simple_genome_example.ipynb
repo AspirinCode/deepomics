{
 "cells": [
  {
   "cell_type": "code",
   "execution_count": 15,
   "metadata": {
    "collapsed": false
   },
   "outputs": [],
   "source": [
    "dropout_list = [.5, .7]\n",
    "if .3 in dropout_list:\n",
    "    print('true')"
   ]
  },
  {
   "cell_type": "code",
   "execution_count": null,
   "metadata": {
    "collapsed": false
   },
   "outputs": [],
   "source": [
    "from __future__ import print_function \n",
    "import os, sys\n",
    "import numpy as np\n",
    "from six.moves import cPickle\n",
    "from collections import OrderedDict\n",
    "\n",
    "import tensorflow as tf\n",
    "\n",
    "sys.path.append('..')\n",
    "from tfomics import neuralnetwork as nn\n",
    "from tfomics import utils, learn\n",
    "from model_zoo import simple_genome_model"
   ]
  },
  {
   "cell_type": "code",
   "execution_count": null,
   "metadata": {
    "collapsed": false
   },
   "outputs": [],
   "source": [
    "\n",
    "def load_data(filepath):\n",
    "    # load training set\n",
    "    print(\"loading data from: \" + filepath)\n",
    "    f = open(filepath, 'rb')\n",
    "    print(\"loading train data\")\n",
    "    train = cPickle.load(f)\n",
    "    #train = cPickle.load(f, encoding='latin1')\n",
    "    print(\"loading cross-validation data\")\n",
    "    cross_validation = cPickle.load(f)\n",
    "    #cross_validation = cPickle.load(f, encoding='latin1')\n",
    "    print(\"loading test data\")\n",
    "    test = cPickle.load(f)\n",
    "    #test = cPickle.load(f, encoding='latin1')\n",
    "    f.close()\n",
    "\n",
    "    X_train = train[0].transpose((0,2,1))\n",
    "    y_train = train[1]\n",
    "    X_valid = cross_validation[0].transpose((0,2,1))\n",
    "    y_valid = cross_validation[1]\n",
    "    X_test = test[0].transpose((0,2,1))\n",
    "    y_test = test[1]\n",
    "    \n",
    "    X_train = X_train.reshape(X_train.shape + (1,)) \n",
    "    X_train = X_train.transpose([0,1,3,2]).astype(np.float32)\n",
    "    y_train = y_train.astype(np.int32)\n",
    "\n",
    "    X_valid = X_valid.reshape(X_valid.shape + (1,)) \n",
    "    X_valid = X_valid.transpose([0,1,3,2]).astype(np.float32)\n",
    "    y_valid = y_valid.astype(np.int32)\n",
    "\n",
    "\n",
    "    X_test = X_test.reshape(X_test.shape + (1,)) \n",
    "    X_test = X_test.transpose([0,1,3,2]).astype(np.float32)\n",
    "    y_test = y_test.astype(np.int32)\n",
    "\n",
    "    return X_train, y_train, X_valid, y_valid, X_test, y_test\n",
    "\n",
    "\n",
    "# load data\n",
    "filename = 'Unlocalized_N=100000_S=200_M=50_G=20_data.pickle'\n",
    "data_path = '/media/peter/storage/SequenceMotif'\n",
    "#data_path = '/Users/juliankimura/Desktop/tensorflow/data'\n",
    "filepath = os.path.join(data_path,filename)\n",
    "X_train, y_train, X_valid, y_valid, X_test, y_test = load_data(filepath)"
   ]
  },
  {
   "cell_type": "code",
   "execution_count": null,
   "metadata": {
    "collapsed": false
   },
   "outputs": [],
   "source": [
    "X_train.shape"
   ]
  },
  {
   "cell_type": "code",
   "execution_count": null,
   "metadata": {
    "collapsed": false,
    "scrolled": false
   },
   "outputs": [],
   "source": [
    "# get shapes\n",
    "num_data, seq_length, _, dim = X_train.shape\n",
    "input_shape=[None, seq_length, 1, dim]\n",
    "num_labels = y_train.shape[1]   # number of labels (output units)\n",
    "\n",
    "# load model\n",
    "net, placeholders, optimization = simple_genome_model.model(input_shape, num_labels)\n",
    "\n",
    "# build neural network class\n",
    "nnmodel = nn.NeuralNet(net, placeholders)\n",
    "nnmodel.inspect_layers()\n",
    "\n",
    "# compile neural trainer\n",
    "save_name = 'test'\n",
    "save_path = utils.make_directory(data_path, 'results')\n",
    "save_path = utils.make_directory(save_path, 'simple_genome')\n",
    "filepath = os.path.join(save_path, save_name)\n",
    "nntrainer = nn.NeuralTrainer(nnmodel, optimization, save='best', filepath=filepath)"
   ]
  },
  {
   "cell_type": "code",
   "execution_count": null,
   "metadata": {
    "collapsed": false,
    "scrolled": true
   },
   "outputs": [],
   "source": [
    "train = {'inputs': X_train, 'targets': y_train, 'keep_prob': 0.8, 'is_training': True}\n",
    "valid = {'inputs': X_valid, 'targets': y_valid, 'keep_prob': 1, 'is_training': False}\n",
    "data = {'train': train, 'valid': valid}\n",
    "learn.train_minibatch(nntrainer, data, batch_size=128, num_epochs=500, \n",
    "                        patience=10, verbose=1, shuffle=True)"
   ]
  },
  {
   "cell_type": "code",
   "execution_count": null,
   "metadata": {
    "collapsed": false
   },
   "outputs": [],
   "source": [
    "test = {'inputs': X_test, 'targets': y_test, 'keep_prob': 1, 'is_training': False}\n",
    "test_loss = nntrainer.test_model(test, batch_size=512)"
   ]
  },
  {
   "cell_type": "code",
   "execution_count": null,
   "metadata": {
    "collapsed": true
   },
   "outputs": [],
   "source": [
    "nntrainer.close_sess()"
   ]
  }
 ],
 "metadata": {
  "anaconda-cloud": {},
  "kernelspec": {
   "display_name": "Python [conda root]",
   "language": "python",
   "name": "conda-root-py"
  },
  "language_info": {
   "codemirror_mode": {
    "name": "ipython",
    "version": 2
   },
   "file_extension": ".py",
   "mimetype": "text/x-python",
   "name": "python",
   "nbconvert_exporter": "python",
   "pygments_lexer": "ipython2",
   "version": "2.7.12"
  }
 },
 "nbformat": 4,
 "nbformat_minor": 1
}
