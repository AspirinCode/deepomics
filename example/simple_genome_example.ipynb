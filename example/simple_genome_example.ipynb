{
 "cells": [
  {
   "cell_type": "code",
   "execution_count": 1,
   "metadata": {
    "collapsed": false
   },
   "outputs": [],
   "source": [
    "from __future__ import print_function \n",
    "import os, sys\n",
    "import numpy as np\n",
    "from six.moves import cPickle\n",
    "from collections import OrderedDict\n",
    "\n",
    "import tensorflow as tf\n",
    "\n",
    "sys.path.append('..')\n",
    "from tfomics import neuralnetwork as nn\n",
    "from tfomics import utils, learn\n",
    "from model_zoo import simple_genome_model"
   ]
  },
  {
   "cell_type": "code",
   "execution_count": 2,
   "metadata": {
    "collapsed": false
   },
   "outputs": [
    {
     "name": "stdout",
     "output_type": "stream",
     "text": [
      "loading data from: /home/peter/Code/tensorflow/data/Localized_N=100000_S=200_M=50_G=20_data.pickle\n",
      "loading train data\n",
      "loading cross-validation data\n",
      "loading test data\n"
     ]
    }
   ],
   "source": [
    "\n",
    "def load_data(filepath):\n",
    "    # load training set\n",
    "    print(\"loading data from: \" + filepath)\n",
    "    f = open(filepath, 'rb')\n",
    "    print(\"loading train data\")\n",
    "    train = cPickle.load(f)\n",
    "    #train = cPickle.load(f, encoding='latin1')\n",
    "    print(\"loading cross-validation data\")\n",
    "    cross_validation = cPickle.load(f)\n",
    "    #cross_validation = cPickle.load(f, encoding='latin1')\n",
    "    print(\"loading test data\")\n",
    "    test = cPickle.load(f)\n",
    "    #test = cPickle.load(f, encoding='latin1')\n",
    "    f.close()\n",
    "\n",
    "    X_train = train[0].transpose((0,2,1))\n",
    "    y_train = train[1]\n",
    "    X_valid = cross_validation[0].transpose((0,2,1))\n",
    "    y_valid = cross_validation[1]\n",
    "    X_test = test[0].transpose((0,2,1))\n",
    "    y_test = test[1]\n",
    "    \n",
    "    X_train = X_train.reshape(X_train.shape + (1,)) \n",
    "    X_train = X_train.transpose([0,1,3,2]).astype(np.float32)\n",
    "    y_train = y_train.astype(np.int32)\n",
    "\n",
    "    X_valid = X_valid.reshape(X_valid.shape + (1,)) \n",
    "    X_valid = X_valid.transpose([0,1,3,2]).astype(np.float32)\n",
    "    y_valid = y_valid.astype(np.int32)\n",
    "\n",
    "\n",
    "    X_test = X_test.reshape(X_test.shape + (1,)) \n",
    "    X_test = X_test.transpose([0,1,3,2]).astype(np.float32)\n",
    "    y_test = y_test.astype(np.int32)\n",
    "\n",
    "    return X_train, y_train, X_valid, y_valid, X_test, y_test\n",
    "\n",
    "\n",
    "# load data\n",
    "filename = 'Localized_N=100000_S=200_M=50_G=20_data.pickle'\n",
    "data_path = '/home/peter/Code/tensorflow/data'\n",
    "#data_path = '/Users/juliankimura/Desktop/tensorflow/data'\n",
    "filepath = os.path.join(data_path,filename)\n",
    "X_train, y_train, X_valid, y_valid, X_test, y_test = load_data(filepath)"
   ]
  },
  {
   "cell_type": "code",
   "execution_count": null,
   "metadata": {
    "collapsed": false
   },
   "outputs": [],
   "source": [
    "net"
   ]
  },
  {
   "cell_type": "code",
   "execution_count": 3,
   "metadata": {
    "collapsed": false,
    "scrolled": false
   },
   "outputs": [
    {
     "name": "stdout",
     "output_type": "stream",
     "text": [
      "----------------------------------------------------------------------------\n",
      "Network architecture:\n",
      "----------------------------------------------------------------------------\n",
      "layer1: input\n",
      "(?, 200, 1, 4)\n",
      "layer2: conv1\n",
      "(?, 200, 1, 25)\n",
      "layer3: conv1_batch\n",
      "(?, 200, 1, 25)\n",
      "layer4: conv1_active\n",
      "(?, 200, 1, 25)\n",
      "layer5: conv1_pool\n",
      "(?, 20, 1, 25)\n",
      "layer6: resid1_1resid\n",
      "(?, 20, 1, 25)\n",
      "layer7: resid1_1resid_norm\n",
      "(?, 20, 1, 25)\n",
      "layer8: resid1_1resid_active\n",
      "(?, 20, 1, 25)\n",
      "layer9: resid1_2resid\n",
      "(?, 20, 1, 25)\n",
      "layer10: resid1_2resid_norm\n",
      "(?, 20, 1, 25)\n",
      "layer11: resid1_resid_sum\n",
      "(?, 20, 1, 25)\n",
      "layer12: resid1_resid\n",
      "(?, 20, 1, 25)\n",
      "layer13: resid1_dropout\n",
      "(?, 20, 1, 25)\n",
      "layer14: conv2\n",
      "(?, 15, 1, 50)\n",
      "layer15: conv2_batch\n",
      "(?, 15, 1, 50)\n",
      "layer16: conv2_active\n",
      "(?, 15, 1, 50)\n",
      "layer17: conv2_pool\n",
      "(?, 3, 1, 50)\n",
      "layer18: conv2_dropout\n",
      "(?, 3, 1, 50)\n",
      "layer19: dense1\n",
      "(?, 20)\n",
      "layer20: dense1_bias\n",
      "(?, 20)\n",
      "layer21: dense1_active\n",
      "(?, 20)\n",
      "layer22: output\n",
      "(?, 20)\n",
      "----------------------------------------------------------------------------\n"
     ]
    }
   ],
   "source": [
    "# get shapes\n",
    "num_data, seq_length, _, dim = X_train.shape\n",
    "input_shape=[None, seq_length, 1, dim]\n",
    "num_labels = y_train.shape[1]   # number of labels (output units)\n",
    "\n",
    "# load model\n",
    "net, placeholders, optimization = simple_genome_model.model(input_shape, num_labels)\n",
    "\n",
    "# build neural network class\n",
    "nnmodel = nn.NeuralNet(net, placeholders)\n",
    "nnmodel.inspect_layers()\n",
    "\n",
    "# compile neural trainer\n",
    "save_name = 'test'\n",
    "save_path = utils.make_directory('../results', 'simple_genome')\n",
    "filepath = os.path.join(save_path, save_name)\n",
    "nntrainer = nn.NeuralTrainer(nnmodel, optimization, save='best', filepath=filepath)"
   ]
  },
  {
   "cell_type": "code",
   "execution_count": 4,
   "metadata": {
    "collapsed": false,
    "scrolled": true
   },
   "outputs": [
    {
     "name": "stdout",
     "output_type": "stream",
     "text": [
      "Epoch 1 out of 500 \n",
      "  valid loss:\t\t0.69414\n",
      "  valid accuracy:\t0.95000+/-0.02840\n",
      "  valid auc-roc:\t0.50160+/-0.05129\n",
      "  valid auc-pr:\t\t0.05276+/-0.03168\n",
      "  lower cross-validation found\n",
      "  saving model to:  ../results/simple_genome/test_best.ckpt\n",
      "Epoch 2 out of 500 \n",
      "  valid loss:\t\t0.69403\n",
      "  valid accuracy:\t0.95000+/-0.02840\n",
      "  valid auc-roc:\t0.50154+/-0.05021\n",
      "  valid auc-pr:\t\t0.05272+/-0.03137\n",
      "  lower cross-validation found\n",
      "  saving model to:  ../results/simple_genome/test_best.ckpt\n",
      "Epoch 3 out of 500 \n",
      "  valid loss:\t\t0.69395\n",
      "  valid accuracy:\t0.95000+/-0.02840\n",
      "  valid auc-roc:\t0.50158+/-0.04960\n",
      "  valid auc-pr:\t\t0.05269+/-0.03120\n",
      "  lower cross-validation found\n",
      "  saving model to:  ../results/simple_genome/test_best.ckpt\n",
      "Epoch 4 out of 500 \n",
      "  valid loss:\t\t0.69388\n",
      "  valid accuracy:\t0.95000+/-0.02840\n",
      "  valid auc-roc:\t0.50208+/-0.04671\n",
      "  valid auc-pr:\t\t0.05264+/-0.03106\n",
      "  lower cross-validation found\n",
      "  saving model to:  ../results/simple_genome/test_best.ckpt\n",
      "Epoch 5 out of 500 \n",
      "  valid loss:\t\t0.69379\n",
      "  valid accuracy:\t0.95000+/-0.02840\n",
      "  valid auc-roc:\t0.50179+/-0.04536\n",
      "  valid auc-pr:\t\t0.05261+/-0.03094\n",
      "  lower cross-validation found\n",
      "  saving model to:  ../results/simple_genome/test_best.ckpt\n",
      "Epoch 6 out of 500 \n"
     ]
    },
    {
     "ename": "KeyboardInterrupt",
     "evalue": "",
     "output_type": "error",
     "traceback": [
      "\u001b[0;31m---------------------------------------------------------------------------\u001b[0m",
      "\u001b[0;31mKeyboardInterrupt\u001b[0m                         Traceback (most recent call last)",
      "\u001b[0;32m<ipython-input-4-73c34dccc63b>\u001b[0m in \u001b[0;36m<module>\u001b[0;34m()\u001b[0m\n\u001b[1;32m      3\u001b[0m \u001b[0mdata\u001b[0m \u001b[0;34m=\u001b[0m \u001b[0;34m{\u001b[0m\u001b[0;34m'train'\u001b[0m\u001b[0;34m:\u001b[0m \u001b[0mtrain\u001b[0m\u001b[0;34m,\u001b[0m \u001b[0;34m'valid'\u001b[0m\u001b[0;34m:\u001b[0m \u001b[0mvalid\u001b[0m\u001b[0;34m}\u001b[0m\u001b[0;34m\u001b[0m\u001b[0m\n\u001b[1;32m      4\u001b[0m learn.train_minibatch(nntrainer, data, batch_size=128, num_epochs=500, \n\u001b[0;32m----> 5\u001b[0;31m                         patience=10, verbose=1, shuffle=True)\n\u001b[0m",
      "\u001b[0;32m/home/peter/Code/tensorflow/tfomics/tfomics/learn.pyc\u001b[0m in \u001b[0;36mtrain_minibatch\u001b[0;34m(nntrainer, data, batch_size, num_epochs, patience, verbose, shuffle)\u001b[0m\n\u001b[1;32m     27\u001b[0m                                                                                         \u001b[0mbatch_size\u001b[0m\u001b[0;34m=\u001b[0m\u001b[0mbatch_size\u001b[0m\u001b[0;34m,\u001b[0m\u001b[0;34m\u001b[0m\u001b[0m\n\u001b[1;32m     28\u001b[0m                                                                                         \u001b[0mverbose\u001b[0m\u001b[0;34m=\u001b[0m\u001b[0mverbose\u001b[0m\u001b[0;34m,\u001b[0m\u001b[0;34m\u001b[0m\u001b[0m\n\u001b[0;32m---> 29\u001b[0;31m \t\t\t\t\t\t\t\t\t\t\tshuffle=shuffle)\n\u001b[0m\u001b[1;32m     30\u001b[0m \u001b[0;34m\u001b[0m\u001b[0m\n\u001b[1;32m     31\u001b[0m                 \u001b[0;31m# test current model with cross-validation data and store results\u001b[0m\u001b[0;34m\u001b[0m\u001b[0;34m\u001b[0m\u001b[0m\n",
      "\u001b[0;32m/home/peter/Code/tensorflow/tfomics/tfomics/neuralnetwork.pyc\u001b[0m in \u001b[0;36mtrain_epoch\u001b[0;34m(self, feed_X, batch_size, verbose, shuffle)\u001b[0m\n\u001b[1;32m    180\u001b[0m                 \u001b[0;32mfor\u001b[0m \u001b[0mi\u001b[0m \u001b[0;32min\u001b[0m \u001b[0mrange\u001b[0m\u001b[0;34m(\u001b[0m\u001b[0mnum_batches\u001b[0m\u001b[0;34m)\u001b[0m\u001b[0;34m:\u001b[0m\u001b[0;34m\u001b[0m\u001b[0m\n\u001b[1;32m    181\u001b[0m                         \u001b[0mfeed_dict\u001b[0m \u001b[0;34m=\u001b[0m \u001b[0mbatch_generator\u001b[0m\u001b[0;34m.\u001b[0m\u001b[0mnext_minibatch\u001b[0m\u001b[0;34m(\u001b[0m\u001b[0mfeed_X\u001b[0m\u001b[0;34m)\u001b[0m\u001b[0;34m\u001b[0m\u001b[0m\n\u001b[0;32m--> 182\u001b[0;31m                         \u001b[0mresults\u001b[0m \u001b[0;34m=\u001b[0m \u001b[0mself\u001b[0m\u001b[0;34m.\u001b[0m\u001b[0msess\u001b[0m\u001b[0;34m.\u001b[0m\u001b[0mrun\u001b[0m\u001b[0;34m(\u001b[0m\u001b[0;34m[\u001b[0m\u001b[0mself\u001b[0m\u001b[0;34m.\u001b[0m\u001b[0mtrain_step\u001b[0m\u001b[0;34m,\u001b[0m \u001b[0mself\u001b[0m\u001b[0;34m.\u001b[0m\u001b[0mloss\u001b[0m\u001b[0;34m,\u001b[0m \u001b[0mself\u001b[0m\u001b[0;34m.\u001b[0m\u001b[0mpredictions\u001b[0m\u001b[0;34m]\u001b[0m\u001b[0;34m,\u001b[0m \u001b[0mfeed_dict\u001b[0m\u001b[0;34m=\u001b[0m\u001b[0mfeed_dict\u001b[0m\u001b[0;34m)\u001b[0m\u001b[0;34m\u001b[0m\u001b[0m\n\u001b[0m\u001b[1;32m    183\u001b[0m                         \u001b[0mvalue\u001b[0m \u001b[0;34m+=\u001b[0m \u001b[0mself\u001b[0m\u001b[0;34m.\u001b[0m\u001b[0mtrain_metric\u001b[0m\u001b[0;34m(\u001b[0m\u001b[0mresults\u001b[0m\u001b[0;34m[\u001b[0m\u001b[0;36m2\u001b[0m\u001b[0;34m]\u001b[0m\u001b[0;34m,\u001b[0m \u001b[0mfeed_dict\u001b[0m\u001b[0;34m[\u001b[0m\u001b[0mself\u001b[0m\u001b[0;34m.\u001b[0m\u001b[0mtargets\u001b[0m\u001b[0;34m]\u001b[0m\u001b[0;34m)\u001b[0m\u001b[0;34m\u001b[0m\u001b[0m\n\u001b[1;32m    184\u001b[0m                         \u001b[0mperformance\u001b[0m\u001b[0;34m.\u001b[0m\u001b[0madd_loss\u001b[0m\u001b[0;34m(\u001b[0m\u001b[0mresults\u001b[0m\u001b[0;34m[\u001b[0m\u001b[0;36m1\u001b[0m\u001b[0;34m]\u001b[0m\u001b[0;34m)\u001b[0m\u001b[0;34m\u001b[0m\u001b[0m\n",
      "\u001b[0;32m/home/peter/anaconda2/lib/python2.7/site-packages/tensorflow/python/client/session.pyc\u001b[0m in \u001b[0;36mrun\u001b[0;34m(self, fetches, feed_dict, options, run_metadata)\u001b[0m\n\u001b[1;32m    764\u001b[0m     \u001b[0;32mtry\u001b[0m\u001b[0;34m:\u001b[0m\u001b[0;34m\u001b[0m\u001b[0m\n\u001b[1;32m    765\u001b[0m       result = self._run(None, fetches, feed_dict, options_ptr,\n\u001b[0;32m--> 766\u001b[0;31m                          run_metadata_ptr)\n\u001b[0m\u001b[1;32m    767\u001b[0m       \u001b[0;32mif\u001b[0m \u001b[0mrun_metadata\u001b[0m\u001b[0;34m:\u001b[0m\u001b[0;34m\u001b[0m\u001b[0m\n\u001b[1;32m    768\u001b[0m         \u001b[0mproto_data\u001b[0m \u001b[0;34m=\u001b[0m \u001b[0mtf_session\u001b[0m\u001b[0;34m.\u001b[0m\u001b[0mTF_GetBuffer\u001b[0m\u001b[0;34m(\u001b[0m\u001b[0mrun_metadata_ptr\u001b[0m\u001b[0;34m)\u001b[0m\u001b[0;34m\u001b[0m\u001b[0m\n",
      "\u001b[0;32m/home/peter/anaconda2/lib/python2.7/site-packages/tensorflow/python/client/session.pyc\u001b[0m in \u001b[0;36m_run\u001b[0;34m(self, handle, fetches, feed_dict, options, run_metadata)\u001b[0m\n\u001b[1;32m    962\u001b[0m     \u001b[0;32mif\u001b[0m \u001b[0mfinal_fetches\u001b[0m \u001b[0;32mor\u001b[0m \u001b[0mfinal_targets\u001b[0m\u001b[0;34m:\u001b[0m\u001b[0;34m\u001b[0m\u001b[0m\n\u001b[1;32m    963\u001b[0m       results = self._do_run(handle, final_targets, final_fetches,\n\u001b[0;32m--> 964\u001b[0;31m                              feed_dict_string, options, run_metadata)\n\u001b[0m\u001b[1;32m    965\u001b[0m     \u001b[0;32melse\u001b[0m\u001b[0;34m:\u001b[0m\u001b[0;34m\u001b[0m\u001b[0m\n\u001b[1;32m    966\u001b[0m       \u001b[0mresults\u001b[0m \u001b[0;34m=\u001b[0m \u001b[0;34m[\u001b[0m\u001b[0;34m]\u001b[0m\u001b[0;34m\u001b[0m\u001b[0m\n",
      "\u001b[0;32m/home/peter/anaconda2/lib/python2.7/site-packages/tensorflow/python/client/session.pyc\u001b[0m in \u001b[0;36m_do_run\u001b[0;34m(self, handle, target_list, fetch_list, feed_dict, options, run_metadata)\u001b[0m\n\u001b[1;32m   1012\u001b[0m     \u001b[0;32mif\u001b[0m \u001b[0mhandle\u001b[0m \u001b[0;32mis\u001b[0m \u001b[0mNone\u001b[0m\u001b[0;34m:\u001b[0m\u001b[0;34m\u001b[0m\u001b[0m\n\u001b[1;32m   1013\u001b[0m       return self._do_call(_run_fn, self._session, feed_dict, fetch_list,\n\u001b[0;32m-> 1014\u001b[0;31m                            target_list, options, run_metadata)\n\u001b[0m\u001b[1;32m   1015\u001b[0m     \u001b[0;32melse\u001b[0m\u001b[0;34m:\u001b[0m\u001b[0;34m\u001b[0m\u001b[0m\n\u001b[1;32m   1016\u001b[0m       return self._do_call(_prun_fn, self._session, handle, feed_dict,\n",
      "\u001b[0;32m/home/peter/anaconda2/lib/python2.7/site-packages/tensorflow/python/client/session.pyc\u001b[0m in \u001b[0;36m_do_call\u001b[0;34m(self, fn, *args)\u001b[0m\n\u001b[1;32m   1019\u001b[0m   \u001b[0;32mdef\u001b[0m \u001b[0m_do_call\u001b[0m\u001b[0;34m(\u001b[0m\u001b[0mself\u001b[0m\u001b[0;34m,\u001b[0m \u001b[0mfn\u001b[0m\u001b[0;34m,\u001b[0m \u001b[0;34m*\u001b[0m\u001b[0margs\u001b[0m\u001b[0;34m)\u001b[0m\u001b[0;34m:\u001b[0m\u001b[0;34m\u001b[0m\u001b[0m\n\u001b[1;32m   1020\u001b[0m     \u001b[0;32mtry\u001b[0m\u001b[0;34m:\u001b[0m\u001b[0;34m\u001b[0m\u001b[0m\n\u001b[0;32m-> 1021\u001b[0;31m       \u001b[0;32mreturn\u001b[0m \u001b[0mfn\u001b[0m\u001b[0;34m(\u001b[0m\u001b[0;34m*\u001b[0m\u001b[0margs\u001b[0m\u001b[0;34m)\u001b[0m\u001b[0;34m\u001b[0m\u001b[0m\n\u001b[0m\u001b[1;32m   1022\u001b[0m     \u001b[0;32mexcept\u001b[0m \u001b[0merrors\u001b[0m\u001b[0;34m.\u001b[0m\u001b[0mOpError\u001b[0m \u001b[0;32mas\u001b[0m \u001b[0me\u001b[0m\u001b[0;34m:\u001b[0m\u001b[0;34m\u001b[0m\u001b[0m\n\u001b[1;32m   1023\u001b[0m       \u001b[0mmessage\u001b[0m \u001b[0;34m=\u001b[0m \u001b[0mcompat\u001b[0m\u001b[0;34m.\u001b[0m\u001b[0mas_text\u001b[0m\u001b[0;34m(\u001b[0m\u001b[0me\u001b[0m\u001b[0;34m.\u001b[0m\u001b[0mmessage\u001b[0m\u001b[0;34m)\u001b[0m\u001b[0;34m\u001b[0m\u001b[0m\n",
      "\u001b[0;32m/home/peter/anaconda2/lib/python2.7/site-packages/tensorflow/python/client/session.pyc\u001b[0m in \u001b[0;36m_run_fn\u001b[0;34m(session, feed_dict, fetch_list, target_list, options, run_metadata)\u001b[0m\n\u001b[1;32m   1001\u001b[0m         return tf_session.TF_Run(session, options,\n\u001b[1;32m   1002\u001b[0m                                  \u001b[0mfeed_dict\u001b[0m\u001b[0;34m,\u001b[0m \u001b[0mfetch_list\u001b[0m\u001b[0;34m,\u001b[0m \u001b[0mtarget_list\u001b[0m\u001b[0;34m,\u001b[0m\u001b[0;34m\u001b[0m\u001b[0m\n\u001b[0;32m-> 1003\u001b[0;31m                                  status, run_metadata)\n\u001b[0m\u001b[1;32m   1004\u001b[0m \u001b[0;34m\u001b[0m\u001b[0m\n\u001b[1;32m   1005\u001b[0m     \u001b[0;32mdef\u001b[0m \u001b[0m_prun_fn\u001b[0m\u001b[0;34m(\u001b[0m\u001b[0msession\u001b[0m\u001b[0;34m,\u001b[0m \u001b[0mhandle\u001b[0m\u001b[0;34m,\u001b[0m \u001b[0mfeed_dict\u001b[0m\u001b[0;34m,\u001b[0m \u001b[0mfetch_list\u001b[0m\u001b[0;34m)\u001b[0m\u001b[0;34m:\u001b[0m\u001b[0;34m\u001b[0m\u001b[0m\n",
      "\u001b[0;31mKeyboardInterrupt\u001b[0m: "
     ]
    }
   ],
   "source": [
    "train = {'inputs': X_train, 'targets': y_train, 'keep_prob': 0.8, 'is_training': True}\n",
    "valid = {'inputs': X_valid, 'targets': y_valid, 'keep_prob': 1, 'is_training': False}\n",
    "data = {'train': train, 'valid': valid}\n",
    "learn.train_minibatch(nntrainer, data, batch_size=128, num_epochs=500, \n",
    "                        patience=10, verbose=1, shuffle=True)"
   ]
  },
  {
   "cell_type": "code",
   "execution_count": null,
   "metadata": {
    "collapsed": false
   },
   "outputs": [],
   "source": [
    "test = {'inputs': X_test, 'targets': y_test, 'keep_prob': 1, 'is_training': False}\n",
    "test_loss = nntrainer.test_model(test, batch_size=512)"
   ]
  },
  {
   "cell_type": "code",
   "execution_count": null,
   "metadata": {
    "collapsed": true
   },
   "outputs": [],
   "source": [
    "nntrainer.close_sess()"
   ]
  }
 ],
 "metadata": {
  "anaconda-cloud": {},
  "kernelspec": {
   "display_name": "Python [conda root]",
   "language": "python",
   "name": "conda-root-py"
  },
  "language_info": {
   "codemirror_mode": {
    "name": "ipython",
    "version": 2
   },
   "file_extension": ".py",
   "mimetype": "text/x-python",
   "name": "python",
   "nbconvert_exporter": "python",
   "pygments_lexer": "ipython2",
   "version": "2.7.12"
  }
 },
 "nbformat": 4,
 "nbformat_minor": 1
}
