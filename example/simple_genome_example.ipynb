{
 "cells": [
  {
   "cell_type": "code",
   "execution_count": 1,
   "metadata": {
    "collapsed": false
   },
   "outputs": [],
   "source": [
    "from __future__ import print_function \n",
    "import os, sys\n",
    "import numpy as np\n",
    "from six.moves import cPickle\n",
    "from collections import OrderedDict\n",
    "\n",
    "import tensorflow as tf\n",
    "\n",
    "sys.path.append('..')\n",
    "from tfomics import layers, utils, init, learn\n",
    "from tfomics import neuralnetwork as nn\n",
    "from model_zoo import simple_genome_model"
   ]
  },
  {
   "cell_type": "code",
   "execution_count": 2,
   "metadata": {
    "collapsed": false
   },
   "outputs": [
    {
     "name": "stdout",
     "output_type": "stream",
     "text": [
      "loading data from: /home/peter/Code/tensorflow/data/Localized_N=100000_S=200_M=50_G=20_data.pickle\n",
      "loading train data\n",
      "loading cross-validation data\n",
      "loading test data\n"
     ]
    }
   ],
   "source": [
    "\n",
    "def load_data(filepath):\n",
    "    # load training set\n",
    "    print(\"loading data from: \" + filepath)\n",
    "    f = open(filepath, 'rb')\n",
    "    print(\"loading train data\")\n",
    "    train = cPickle.load(f)\n",
    "    print(\"loading cross-validation data\")\n",
    "    cross_validation = cPickle.load(f)\n",
    "    print(\"loading test data\")\n",
    "    test = cPickle.load(f)\n",
    "    f.close()\n",
    "\n",
    "    X_train = train[0].transpose((0,2,1))\n",
    "    y_train = train[1]\n",
    "    X_valid = cross_validation[0].transpose((0,2,1))\n",
    "    y_valid = cross_validation[1]\n",
    "    X_test = test[0].transpose((0,2,1))\n",
    "    y_test = test[1]\n",
    "    \n",
    "    X_train = X_train.reshape(X_train.shape + (1,)) \n",
    "    X_train = X_train.transpose([0,1,3,2]).astype(np.float32)\n",
    "    y_train = y_train.astype(np.int32)\n",
    "\n",
    "    X_valid = X_valid.reshape(X_valid.shape + (1,)) \n",
    "    X_valid = X_valid.transpose([0,1,3,2]).astype(np.float32)\n",
    "    y_valid = y_valid.astype(np.int32)\n",
    "\n",
    "\n",
    "    X_test = X_test.reshape(X_test.shape + (1,)) \n",
    "    X_test = X_test.transpose([0,1,3,2]).astype(np.float32)\n",
    "    y_test = y_test.astype(np.int32)\n",
    "\n",
    "    return X_train, y_train, X_valid, y_valid, X_test, y_test\n",
    "\n",
    "\n",
    "# load data\n",
    "filename = 'Localized_N=100000_S=200_M=50_G=20_data.pickle'\n",
    "data_path = '/home/peter/Code/tensorflow/data'\n",
    "filepath = os.path.join(data_path,filename)\n",
    "X_train, y_train, X_valid, y_valid, X_test, y_test = load_data(filepath)"
   ]
  },
  {
   "cell_type": "code",
   "execution_count": 3,
   "metadata": {
    "collapsed": false
   },
   "outputs": [
    {
     "name": "stdout",
     "output_type": "stream",
     "text": [
      "----------------------------------------------------------------------------\n",
      "Network architecture:\n",
      "----------------------------------------------------------------------------\n",
      "layer1: input\n",
      "(?, 200, 1, 4)\n",
      "layer2: conv1\n",
      "(?, 200, 1, 25)\n",
      "layer3: conv1_batch\n",
      "(?, 200, 1, 25)\n",
      "layer4: conv1_active\n",
      "(?, 200, 1, 25)\n",
      "layer5: conv1_pool\n",
      "(?, 20, 1, 25)\n",
      "layer6: resid1_1resid\n",
      "(?, 20, 1, 25)\n",
      "layer7: resid1_1resid_norm\n",
      "(?, 20, 1, 25)\n",
      "layer8: resid1_1resid_active\n",
      "(?, 20, 1, 25)\n",
      "layer9: resid1_2resid\n",
      "(?, 20, 1, 25)\n",
      "layer10: resid1_2resid_norm\n",
      "(?, 20, 1, 25)\n",
      "layer11: resid1_residual\n",
      "(?, 20, 1, 25)\n",
      "layer12: resid1_resid\n",
      "(?, 20, 1, 25)\n",
      "layer13: conv2\n",
      "(?, 15, 1, 50)\n",
      "layer14: conv2_batch\n",
      "(?, 15, 1, 50)\n",
      "layer15: conv2_active\n",
      "(?, 15, 1, 50)\n",
      "layer16: conv2_pool\n",
      "(?, 3, 1, 50)\n",
      "layer17: conv2_dropout\n",
      "(?, 3, 1, 50)\n",
      "layer18: dense1\n",
      "(?, 20)\n",
      "layer19: dense1_bias\n",
      "(?, 20)\n",
      "layer20: dense1_active\n",
      "(?, 20)\n",
      "layer21: output\n",
      "(?, 20)\n",
      "----------------------------------------------------------------------------\n",
      "making directory: results/simple_genome\n"
     ]
    }
   ],
   "source": [
    "# get shapes\n",
    "num_data, seq_length, _, dim = X_train.shape\n",
    "input_shape=[None, seq_length, 1, dim]\n",
    "num_labels = y_train.shape[1]   # number of labels (output units)\n",
    "\n",
    "# load model\n",
    "net, placeholders, optimization = simple_genome_model.model(input_shape, num_labels)\n",
    "\n",
    "# build neural network class\n",
    "nnmodel = nn.NeuralNet(net, placeholders['inputs'])\n",
    "nnmodel.inspect_layers()\n",
    "\n",
    "# compile neural trainer\n",
    "save_name = 'test'\n",
    "save_path = utils.make_directory('results', 'simple_genome')\n",
    "filepath = os.path.join(save_path, save_name)\n",
    "nntrainer = nn.NeuralTrainer(nnmodel, placeholders, optimization, save='best', filepath=filepath)\n"
   ]
  },
  {
   "cell_type": "code",
   "execution_count": 4,
   "metadata": {
    "collapsed": true
   },
   "outputs": [],
   "source": [
    "# run session\n",
    "sess = tf.Session()\n",
    "\n",
    "# initialize variables\n",
    "sess.run(tf.initialize_all_variables())"
   ]
  },
  {
   "cell_type": "code",
   "execution_count": 5,
   "metadata": {
    "collapsed": false,
    "scrolled": true
   },
   "outputs": [
    {
     "name": "stdout",
     "output_type": "stream",
     "text": [
      "  valid loss:\t\t0.16027\n",
      "  valid accuracy:\t0.95211+/-0.02677\n",
      "  valid auc-roc:\t0.74303+/-0.13027\n",
      "  valid auc-pr:\t\t0.23430+/-0.23014\n",
      "lower cross-validation found\n",
      "saving model to:  results/simple_genome/test_best.ckpt\n",
      "  valid loss:\t\t0.12542\n",
      "  valid accuracy:\t0.96000+/-0.02461\n",
      "  valid auc-roc:\t0.83833+/-0.11724\n",
      "  valid auc-pr:\t\t0.39409+/-0.32730\n",
      "lower cross-validation found\n",
      "saving model to:  results/simple_genome/test_best.ckpt\n",
      "  valid loss:\t\t0.09489\n",
      "  valid accuracy:\t0.96787+/-0.02016\n",
      "  valid auc-roc:\t0.90831+/-0.09582\n",
      "  valid auc-pr:\t\t0.54771+/-0.32471\n",
      "lower cross-validation found\n",
      "saving model to:  results/simple_genome/test_best.ckpt\n",
      "  valid loss:\t\t0.07030\n",
      "  valid accuracy:\t0.97566+/-0.01636\n",
      "  valid auc-roc:\t0.94478+/-0.07905\n",
      "  valid auc-pr:\t\t0.68378+/-0.31480\n",
      "lower cross-validation found\n",
      "saving model to:  results/simple_genome/test_best.ckpt\n",
      "  valid loss:\t\t0.05535\n",
      "  valid accuracy:\t0.98057+/-0.01472\n",
      "  valid auc-roc:\t0.96275+/-0.05863\n",
      "  valid auc-pr:\t\t0.75592+/-0.29986\n",
      "lower cross-validation found\n",
      "saving model to:  results/simple_genome/test_best.ckpt\n",
      "  valid loss:\t\t0.04538\n",
      "  valid accuracy:\t0.98430+/-0.01251\n",
      "  valid auc-roc:\t0.97435+/-0.04540\n",
      "  valid auc-pr:\t\t0.80722+/-0.28004\n",
      "lower cross-validation found\n",
      "saving model to:  results/simple_genome/test_best.ckpt\n",
      "  valid loss:\t\t0.03819\n",
      "  valid accuracy:\t0.98681+/-0.01065\n",
      "  valid auc-roc:\t0.98146+/-0.03512\n",
      "  valid auc-pr:\t\t0.84341+/-0.25757\n",
      "lower cross-validation found\n",
      "saving model to:  results/simple_genome/test_best.ckpt\n",
      "  valid loss:\t\t0.03322\n",
      "  valid accuracy:\t0.98883+/-0.00934\n",
      "  valid auc-roc:\t0.98615+/-0.02577\n",
      "  valid auc-pr:\t\t0.86492+/-0.24701\n",
      "lower cross-validation found\n",
      "saving model to:  results/simple_genome/test_best.ckpt\n",
      "  valid loss:\t\t0.02986\n",
      "  valid accuracy:\t0.99021+/-0.00792\n",
      "  valid auc-roc:\t0.98977+/-0.01813\n",
      "  valid auc-pr:\t\t0.88244+/-0.22511\n",
      "lower cross-validation found\n",
      "saving model to:  results/simple_genome/test_best.ckpt\n",
      "  valid loss:\t\t0.02738\n",
      "  valid accuracy:\t0.99116+/-0.00768\n",
      "  valid auc-roc:\t0.99207+/-0.01312\n",
      "  valid auc-pr:\t\t0.89388+/-0.20961\n",
      "lower cross-validation found\n",
      "saving model to:  results/simple_genome/test_best.ckpt\n",
      "  valid loss:\t\t0.02623\n",
      "  valid accuracy:\t0.99136+/-0.00713\n",
      "  valid auc-roc:\t0.99333+/-0.01045\n",
      "  valid auc-pr:\t\t0.90009+/-0.20052\n",
      "lower cross-validation found\n",
      "saving model to:  results/simple_genome/test_best.ckpt\n",
      "  valid loss:\t\t0.02431\n",
      "  valid accuracy:\t0.99217+/-0.00649\n",
      "  valid auc-roc:\t0.99449+/-0.00796\n",
      "  valid auc-pr:\t\t0.90904+/-0.18520\n",
      "lower cross-validation found\n",
      "saving model to:  results/simple_genome/test_best.ckpt\n",
      "  valid loss:\t\t0.02300\n",
      "  valid accuracy:\t0.99256+/-0.00626\n",
      "  valid auc-roc:\t0.99547+/-0.00609\n",
      "  valid auc-pr:\t\t0.91735+/-0.16771\n",
      "lower cross-validation found\n",
      "saving model to:  results/simple_genome/test_best.ckpt\n",
      "  valid loss:\t\t0.02281\n",
      "  valid accuracy:\t0.99270+/-0.00613\n",
      "  valid auc-roc:\t0.99578+/-0.00532\n",
      "  valid auc-pr:\t\t0.91839+/-0.16740\n",
      "lower cross-validation found\n",
      "saving model to:  results/simple_genome/test_best.ckpt\n",
      "  valid loss:\t\t0.02155\n",
      "  valid accuracy:\t0.99310+/-0.00566\n",
      "  valid auc-roc:\t0.99669+/-0.00389\n",
      "  valid auc-pr:\t\t0.92759+/-0.14706\n",
      "lower cross-validation found\n",
      "saving model to:  results/simple_genome/test_best.ckpt\n"
     ]
    },
    {
     "ename": "KeyboardInterrupt",
     "evalue": "",
     "output_type": "error",
     "traceback": [
      "\u001b[1;31m---------------------------------------------------------------------------\u001b[0m",
      "\u001b[1;31mKeyboardInterrupt\u001b[0m                         Traceback (most recent call last)",
      "\u001b[1;32m<ipython-input-5-7f68b4895e05>\u001b[0m in \u001b[0;36m<module>\u001b[1;34m()\u001b[0m\n\u001b[0;32m      3\u001b[0m \u001b[0mdata\u001b[0m \u001b[1;33m=\u001b[0m \u001b[1;33m{\u001b[0m\u001b[1;34m'train'\u001b[0m\u001b[1;33m:\u001b[0m \u001b[0mX\u001b[0m\u001b[1;33m,\u001b[0m \u001b[1;34m'valid'\u001b[0m\u001b[1;33m:\u001b[0m \u001b[0mX2\u001b[0m\u001b[1;33m}\u001b[0m\u001b[1;33m\u001b[0m\u001b[0m\n\u001b[0;32m      4\u001b[0m learn.train_minibatch(sess, nntrainer, data, batch_size=128, num_epochs=500, \n\u001b[1;32m----> 5\u001b[1;33m                         patience=10, verbose=0, shuffle=True)\n\u001b[0m",
      "\u001b[1;32m/home/peter/Code/tensorflow/tfomics/tfomics/learn.pyc\u001b[0m in \u001b[0;36mtrain_minibatch\u001b[1;34m(sess, nntrainer, data, batch_size, num_epochs, patience, verbose, shuffle)\u001b[0m\n\u001b[0;32m     24\u001b[0m                                                                                         \u001b[0mbatch_size\u001b[0m\u001b[1;33m=\u001b[0m\u001b[0mbatch_size\u001b[0m\u001b[1;33m,\u001b[0m\u001b[1;33m\u001b[0m\u001b[0m\n\u001b[0;32m     25\u001b[0m                                                                                         \u001b[0mverbose\u001b[0m\u001b[1;33m=\u001b[0m\u001b[0mverbose\u001b[0m\u001b[1;33m,\u001b[0m\u001b[1;33m\u001b[0m\u001b[0m\n\u001b[1;32m---> 26\u001b[1;33m \t\t\t\t\t\t\t\t\t\t\tshuffle=shuffle)\n\u001b[0m\u001b[0;32m     27\u001b[0m                 \u001b[0mnntrainer\u001b[0m\u001b[1;33m.\u001b[0m\u001b[0madd_loss\u001b[0m\u001b[1;33m(\u001b[0m\u001b[0mtrain_loss\u001b[0m\u001b[1;33m,\u001b[0m \u001b[1;34m'train'\u001b[0m\u001b[1;33m)\u001b[0m\u001b[1;33m\u001b[0m\u001b[0m\n\u001b[0;32m     28\u001b[0m \u001b[1;33m\u001b[0m\u001b[0m\n",
      "\u001b[1;32m/home/peter/Code/tensorflow/tfomics/tfomics/neuralnetwork.pyc\u001b[0m in \u001b[0;36mtrain_epoch\u001b[1;34m(self, sess, feed_X, batch_size, verbose, shuffle)\u001b[0m\n\u001b[0;32m    134\u001b[0m                 \u001b[1;32mfor\u001b[0m \u001b[0mi\u001b[0m \u001b[1;32min\u001b[0m \u001b[0mrange\u001b[0m\u001b[1;33m(\u001b[0m\u001b[0mnum_batches\u001b[0m\u001b[1;33m)\u001b[0m\u001b[1;33m:\u001b[0m\u001b[1;33m\u001b[0m\u001b[0m\n\u001b[0;32m    135\u001b[0m                         \u001b[0mfeed_dict\u001b[0m \u001b[1;33m=\u001b[0m \u001b[0mbatch_generator\u001b[0m\u001b[1;33m.\u001b[0m\u001b[0mnext_minibatch\u001b[0m\u001b[1;33m(\u001b[0m\u001b[0mfeed_X\u001b[0m\u001b[1;33m)\u001b[0m\u001b[1;33m\u001b[0m\u001b[0m\n\u001b[1;32m--> 136\u001b[1;33m                         \u001b[0mresults\u001b[0m \u001b[1;33m=\u001b[0m \u001b[0msess\u001b[0m\u001b[1;33m.\u001b[0m\u001b[0mrun\u001b[0m\u001b[1;33m(\u001b[0m\u001b[1;33m[\u001b[0m\u001b[0mself\u001b[0m\u001b[1;33m.\u001b[0m\u001b[0mtrain_step\u001b[0m\u001b[1;33m,\u001b[0m \u001b[0mself\u001b[0m\u001b[1;33m.\u001b[0m\u001b[0mloss\u001b[0m\u001b[1;33m,\u001b[0m \u001b[0mself\u001b[0m\u001b[1;33m.\u001b[0m\u001b[0mpredictions\u001b[0m\u001b[1;33m]\u001b[0m\u001b[1;33m,\u001b[0m \u001b[0mfeed_dict\u001b[0m\u001b[1;33m=\u001b[0m\u001b[0mfeed_dict\u001b[0m\u001b[1;33m)\u001b[0m\u001b[1;33m\u001b[0m\u001b[0m\n\u001b[0m\u001b[0;32m    137\u001b[0m                         \u001b[0mvalue\u001b[0m \u001b[1;33m+=\u001b[0m \u001b[0mself\u001b[0m\u001b[1;33m.\u001b[0m\u001b[0mtrain_metric\u001b[0m\u001b[1;33m(\u001b[0m\u001b[0mresults\u001b[0m\u001b[1;33m[\u001b[0m\u001b[1;36m2\u001b[0m\u001b[1;33m]\u001b[0m\u001b[1;33m,\u001b[0m \u001b[0mfeed_dict\u001b[0m\u001b[1;33m[\u001b[0m\u001b[0mself\u001b[0m\u001b[1;33m.\u001b[0m\u001b[0mtargets\u001b[0m\u001b[1;33m]\u001b[0m\u001b[1;33m)\u001b[0m\u001b[1;33m\u001b[0m\u001b[0m\n\u001b[0;32m    138\u001b[0m                         \u001b[0mperformance\u001b[0m\u001b[1;33m.\u001b[0m\u001b[0madd_loss\u001b[0m\u001b[1;33m(\u001b[0m\u001b[0mresults\u001b[0m\u001b[1;33m[\u001b[0m\u001b[1;36m1\u001b[0m\u001b[1;33m]\u001b[0m\u001b[1;33m)\u001b[0m\u001b[1;33m\u001b[0m\u001b[0m\n",
      "\u001b[1;32m/home/peter/anaconda2/lib/python2.7/site-packages/tensorflow/python/client/session.pyc\u001b[0m in \u001b[0;36mrun\u001b[1;34m(self, fetches, feed_dict, options, run_metadata)\u001b[0m\n\u001b[0;32m    708\u001b[0m     \u001b[1;32mtry\u001b[0m\u001b[1;33m:\u001b[0m\u001b[1;33m\u001b[0m\u001b[0m\n\u001b[0;32m    709\u001b[0m       result = self._run(None, fetches, feed_dict, options_ptr,\n\u001b[1;32m--> 710\u001b[1;33m                          run_metadata_ptr)\n\u001b[0m\u001b[0;32m    711\u001b[0m       \u001b[1;32mif\u001b[0m \u001b[0mrun_metadata\u001b[0m\u001b[1;33m:\u001b[0m\u001b[1;33m\u001b[0m\u001b[0m\n\u001b[0;32m    712\u001b[0m         \u001b[0mproto_data\u001b[0m \u001b[1;33m=\u001b[0m \u001b[0mtf_session\u001b[0m\u001b[1;33m.\u001b[0m\u001b[0mTF_GetBuffer\u001b[0m\u001b[1;33m(\u001b[0m\u001b[0mrun_metadata_ptr\u001b[0m\u001b[1;33m)\u001b[0m\u001b[1;33m\u001b[0m\u001b[0m\n",
      "\u001b[1;32m/home/peter/anaconda2/lib/python2.7/site-packages/tensorflow/python/client/session.pyc\u001b[0m in \u001b[0;36m_run\u001b[1;34m(self, handle, fetches, feed_dict, options, run_metadata)\u001b[0m\n\u001b[0;32m    906\u001b[0m     \u001b[1;32mif\u001b[0m \u001b[0mfinal_fetches\u001b[0m \u001b[1;32mor\u001b[0m \u001b[0mfinal_targets\u001b[0m\u001b[1;33m:\u001b[0m\u001b[1;33m\u001b[0m\u001b[0m\n\u001b[0;32m    907\u001b[0m       results = self._do_run(handle, final_targets, final_fetches,\n\u001b[1;32m--> 908\u001b[1;33m                              feed_dict_string, options, run_metadata)\n\u001b[0m\u001b[0;32m    909\u001b[0m     \u001b[1;32melse\u001b[0m\u001b[1;33m:\u001b[0m\u001b[1;33m\u001b[0m\u001b[0m\n\u001b[0;32m    910\u001b[0m       \u001b[0mresults\u001b[0m \u001b[1;33m=\u001b[0m \u001b[1;33m[\u001b[0m\u001b[1;33m]\u001b[0m\u001b[1;33m\u001b[0m\u001b[0m\n",
      "\u001b[1;32m/home/peter/anaconda2/lib/python2.7/site-packages/tensorflow/python/client/session.pyc\u001b[0m in \u001b[0;36m_do_run\u001b[1;34m(self, handle, target_list, fetch_list, feed_dict, options, run_metadata)\u001b[0m\n\u001b[0;32m    956\u001b[0m     \u001b[1;32mif\u001b[0m \u001b[0mhandle\u001b[0m \u001b[1;32mis\u001b[0m \u001b[0mNone\u001b[0m\u001b[1;33m:\u001b[0m\u001b[1;33m\u001b[0m\u001b[0m\n\u001b[0;32m    957\u001b[0m       return self._do_call(_run_fn, self._session, feed_dict, fetch_list,\n\u001b[1;32m--> 958\u001b[1;33m                            target_list, options, run_metadata)\n\u001b[0m\u001b[0;32m    959\u001b[0m     \u001b[1;32melse\u001b[0m\u001b[1;33m:\u001b[0m\u001b[1;33m\u001b[0m\u001b[0m\n\u001b[0;32m    960\u001b[0m       return self._do_call(_prun_fn, self._session, handle, feed_dict,\n",
      "\u001b[1;32m/home/peter/anaconda2/lib/python2.7/site-packages/tensorflow/python/client/session.pyc\u001b[0m in \u001b[0;36m_do_call\u001b[1;34m(self, fn, *args)\u001b[0m\n\u001b[0;32m    963\u001b[0m   \u001b[1;32mdef\u001b[0m \u001b[0m_do_call\u001b[0m\u001b[1;33m(\u001b[0m\u001b[0mself\u001b[0m\u001b[1;33m,\u001b[0m \u001b[0mfn\u001b[0m\u001b[1;33m,\u001b[0m \u001b[1;33m*\u001b[0m\u001b[0margs\u001b[0m\u001b[1;33m)\u001b[0m\u001b[1;33m:\u001b[0m\u001b[1;33m\u001b[0m\u001b[0m\n\u001b[0;32m    964\u001b[0m     \u001b[1;32mtry\u001b[0m\u001b[1;33m:\u001b[0m\u001b[1;33m\u001b[0m\u001b[0m\n\u001b[1;32m--> 965\u001b[1;33m       \u001b[1;32mreturn\u001b[0m \u001b[0mfn\u001b[0m\u001b[1;33m(\u001b[0m\u001b[1;33m*\u001b[0m\u001b[0margs\u001b[0m\u001b[1;33m)\u001b[0m\u001b[1;33m\u001b[0m\u001b[0m\n\u001b[0m\u001b[0;32m    966\u001b[0m     \u001b[1;32mexcept\u001b[0m \u001b[0merrors\u001b[0m\u001b[1;33m.\u001b[0m\u001b[0mOpError\u001b[0m \u001b[1;32mas\u001b[0m \u001b[0me\u001b[0m\u001b[1;33m:\u001b[0m\u001b[1;33m\u001b[0m\u001b[0m\n\u001b[0;32m    967\u001b[0m       \u001b[0mmessage\u001b[0m \u001b[1;33m=\u001b[0m \u001b[0mcompat\u001b[0m\u001b[1;33m.\u001b[0m\u001b[0mas_text\u001b[0m\u001b[1;33m(\u001b[0m\u001b[0me\u001b[0m\u001b[1;33m.\u001b[0m\u001b[0mmessage\u001b[0m\u001b[1;33m)\u001b[0m\u001b[1;33m\u001b[0m\u001b[0m\n",
      "\u001b[1;32m/home/peter/anaconda2/lib/python2.7/site-packages/tensorflow/python/client/session.pyc\u001b[0m in \u001b[0;36m_run_fn\u001b[1;34m(session, feed_dict, fetch_list, target_list, options, run_metadata)\u001b[0m\n\u001b[0;32m    945\u001b[0m         return tf_session.TF_Run(session, options,\n\u001b[0;32m    946\u001b[0m                                  \u001b[0mfeed_dict\u001b[0m\u001b[1;33m,\u001b[0m \u001b[0mfetch_list\u001b[0m\u001b[1;33m,\u001b[0m \u001b[0mtarget_list\u001b[0m\u001b[1;33m,\u001b[0m\u001b[1;33m\u001b[0m\u001b[0m\n\u001b[1;32m--> 947\u001b[1;33m                                  status, run_metadata)\n\u001b[0m\u001b[0;32m    948\u001b[0m \u001b[1;33m\u001b[0m\u001b[0m\n\u001b[0;32m    949\u001b[0m     \u001b[1;32mdef\u001b[0m \u001b[0m_prun_fn\u001b[0m\u001b[1;33m(\u001b[0m\u001b[0msession\u001b[0m\u001b[1;33m,\u001b[0m \u001b[0mhandle\u001b[0m\u001b[1;33m,\u001b[0m \u001b[0mfeed_dict\u001b[0m\u001b[1;33m,\u001b[0m \u001b[0mfetch_list\u001b[0m\u001b[1;33m)\u001b[0m\u001b[1;33m:\u001b[0m\u001b[1;33m\u001b[0m\u001b[0m\n",
      "\u001b[1;31mKeyboardInterrupt\u001b[0m: "
     ]
    }
   ],
   "source": [
    "X = {'inputs': X_train, 'targets': y_train, 'keep_prob': 0.8, 'is_training': True}\n",
    "X2 = {'inputs': X_valid, 'targets': y_valid, 'keep_prob': 1, 'is_training': False}\n",
    "data = {'train': X, 'valid': X2}\n",
    "learn.train_minibatch(sess, nntrainer, data, batch_size=128, num_epochs=500, \n",
    "                        patience=10, verbose=0, shuffle=True)"
   ]
  },
  {
   "cell_type": "code",
   "execution_count": 6,
   "metadata": {
    "collapsed": false
   },
   "outputs": [
    {
     "name": "stdout",
     "output_type": "stream",
     "text": [
      "  test  loss:\t\t0.02098\n",
      "  test  accuracy:\t0.99330+/-0.00520\n",
      "  test  auc-roc:\t0.99667+/-0.00375\n",
      "  test  auc-pr:\t\t0.92824+/-0.14988\n"
     ]
    },
    {
     "data": {
      "text/plain": [
       "0.020981990856428941"
      ]
     },
     "execution_count": 6,
     "metadata": {},
     "output_type": "execute_result"
    }
   ],
   "source": [
    "X = {'inputs': X_test, 'targets': y_test, 'keep_prob': 1, 'is_training': False}\n",
    "nntrainer.test_model(sess, X, batch_size=512)"
   ]
  },
  {
   "cell_type": "code",
   "execution_count": null,
   "metadata": {
    "collapsed": false
   },
   "outputs": [],
   "source": [
    "\n"
   ]
  }
 ],
 "metadata": {
  "anaconda-cloud": {},
  "kernelspec": {
   "display_name": "Python 2",
   "language": "python",
   "name": "python2"
  },
  "language_info": {
   "codemirror_mode": {
    "name": "ipython",
    "version": 2
   },
   "file_extension": ".py",
   "mimetype": "text/x-python",
   "name": "python",
   "nbconvert_exporter": "python",
   "pygments_lexer": "ipython2",
   "version": "2.7.12"
  }
 },
 "nbformat": 4,
 "nbformat_minor": 1
}
