{
 "cells": [
  {
   "cell_type": "code",
   "execution_count": 1,
   "metadata": {
    "collapsed": false,
    "deletable": true,
    "editable": true
   },
   "outputs": [],
   "source": [
    "from __future__ import print_function \n",
    "import os, sys, h5py\n",
    "import numpy as np\n",
    "from six.moves import cPickle\n",
    "from collections import OrderedDict\n",
    "\n",
    "import tensorflow as tf\n",
    "sys.path.append('..')\n",
    "from tfomics import neuralnetwork as nn\n",
    "from tfomics import utils, fit, init, visualize, saliency\n",
    "import matplotlib.pyplot as plt\n",
    "%matplotlib inline"
   ]
  },
  {
   "cell_type": "code",
   "execution_count": 26,
   "metadata": {
    "collapsed": false,
    "deletable": true,
    "editable": true
   },
   "outputs": [
    {
     "data": {
      "text/plain": [
       "(108293, 41, 1, 4)"
      ]
     },
     "execution_count": 26,
     "metadata": {},
     "output_type": "execute_result"
    }
   ],
   "source": [
    "def load_RNAcompete_dataset(filepath, split_ratio=0.9):\n",
    "    trainmat = h5py.File(filepath, 'r')\n",
    "    X_train = np.array(trainmat['setA_seq']).astype(np.float32)\n",
    "    y_train = np.array(trainmat['setA_targets']).astype(np.float32)\n",
    "\n",
    "    X_test = np.array(trainmat['setB_seq']).astype(np.float32)\n",
    "    y_test = np.array(trainmat['setB_targets']).astype(np.float32)\n",
    "\n",
    "    X_train = np.expand_dims(X_train, axis=3)\n",
    "    X_test = np.expand_dims(X_test, axis=3)\n",
    "\n",
    "    num_data = X_train.shape[0]\n",
    "    split_index = int(split_ratio*num_data)\n",
    "    shuffle = np.random.permutation(num_data)\n",
    "\n",
    "    X_valid = X_train[shuffle[split_index:]]\n",
    "    y_valid = y_train[shuffle[split_index:],:]\n",
    "\n",
    "    X_train = X_train[shuffle[:split_index]]\n",
    "    y_train = y_train[shuffle[:split_index],:]\n",
    "\n",
    "    train = (X_train.transpose([0,2, 3,1]), y_train)\n",
    "    valid = (X_valid.transpose([0,2, 3,1]), y_valid)\n",
    "    test = (X_test.transpose([0,2, 3,1]), y_test)\n",
    "\n",
    "    return train, valid, test\n",
    "data_path = '/media/peter/storage/DeepBind/rnac/'\n",
    "filepath = os.path.join(data_path, 'rnac_SetAB_with_nan.hdf5')\n",
    "train_all, valid_all, test_all = load_RNAcompete_dataset(filepath, split_ratio=0.9)\n",
    "\n",
    "train_all[0].shape\n"
   ]
  },
  {
   "cell_type": "code",
   "execution_count": 27,
   "metadata": {
    "collapsed": false,
    "deletable": true,
    "editable": true
   },
   "outputs": [
    {
     "data": {
      "image/png": "[encoded data removed]",
      "text/plain": [
       "<matplotlib.figure.Figure at 0x7fe56cc11210>"
      ]
     },
     "metadata": {},
     "output_type": "display_data"
    }
   ],
   "source": [
    "def process_data(train, valid, test, class_index, method=1, significance=3):\n",
    "    \n",
    "    def normalize_data(data, method):\n",
    "        if method == 0:\n",
    "            # standard-normal transformation\n",
    "            mu = np.mean(data)\n",
    "            sigma = np.std(data)\n",
    "            data_norm = (data-mu)/sigma      \n",
    "            params = [mu, sigma]\n",
    "        elif method == 1:\n",
    "            # log-standard-normal transformation\n",
    "            MIN = np.min(data)\n",
    "            data = np.log(data-MIN+1)\n",
    "            mu = np.mean(data)\n",
    "            sigma = np.std(data)\n",
    "            data_norm = (data-mu)/sigma      \n",
    "            params = [MIN, mu, sigma]\n",
    "        elif method == 2:    \n",
    "            MIN = np.min(data)\n",
    "            data,_ = stats.boxcox(data - MIN + 10)#, lmbda=.5)\n",
    "            mu = np.mean(data)\n",
    "            sigma = np.std(data)\n",
    "            data_norm = (data-mu)/sigma      \n",
    "            params = [MIN, mu, sigma]\n",
    "            #data_norm[data_norm<0] = 0\n",
    "        return data_norm, params\n",
    "\n",
    "    def clip_data(data, significance, method):\n",
    "        std = np.std(data)\n",
    "        if method == 0:\n",
    "            index = np.where(data > std*significance*6)[0]\n",
    "            data[index] = std*significance*5\n",
    "        index = np.where((data > -std*significance))[0]\n",
    "        data = data[index]\n",
    "        return data, index\n",
    "        \n",
    "    #Y_train = train[1][:,class_index]\n",
    "    #Y_valid = valid[1][:,class_index]\n",
    "    #Y_test = test[1][:,class_index]\n",
    "\n",
    "    Y_train = np.expand_dims(train[1][:,class_index],axis=1)\n",
    "    Y_valid = np.expand_dims(valid[1][:,class_index],axis=1)\n",
    "    Y_test = np.expand_dims(test[1][:,class_index],axis=1)\n",
    "    \n",
    "    train_index = np.where(np.isnan(Y_train) == False)[0]\n",
    "    valid_index = np.where(np.isnan(Y_valid) == False)[0]\n",
    "    test_index = np.where(np.isnan(Y_test) == False)[0]\n",
    "\n",
    "    Y_train, params_train = normalize_data(Y_train[train_index], method)                 \n",
    "    Y_valid, params_valid = normalize_data(Y_valid[valid_index], method)                 \n",
    "    Y_test, params_test = normalize_data(Y_test[test_index], method)                 \n",
    "    X_train = train[0][train_index]\n",
    "    X_valid = valid[0][valid_index]\n",
    "    X_test = test[0][test_index]\n",
    "                         \n",
    "    if significance > 0:                     \n",
    "        Y_train, train_index = clip_data(Y_train, significance, method)\n",
    "        Y_valid, valid_index = clip_data(Y_valid, significance, method)\n",
    "        Y_test, test_index = clip_data(Y_test, significance, method)\n",
    "        X_train = X_train[train_index]\n",
    "        X_valid = X_valid[valid_index]\n",
    "        X_test = X_test[test_index]\n",
    "\n",
    "    train = (X_train, Y_train)\n",
    "    valid = (X_valid, Y_valid)\n",
    "    test = (X_test, Y_test)\n",
    "\n",
    "    return train, valid, test, params_train, params_valid, params_test\n",
    "                     \n",
    "              \n",
    "# RBM28 = 189\n",
    "# RBFOX1 = 69\n",
    "# PUM = 1\n",
    "# 83 = ASD-1\n",
    "# MBNL = 178\n",
    "# srsf7 = 216\n",
    "# HUR = 17\n",
    "# 181\n",
    "class_index = 69\n",
    "train, valid, test, params_train, params_valid, params_test = \\\n",
    "        process_data(train_all, valid_all, test_all, class_index=class_index, method=1, significance=0)\n",
    "\n",
    "    \n",
    "num_train, dim, seq_length, other = train[0].shape\n",
    "input_shape = (None, dim, seq_length, other)\n",
    "output_shape = train[1].shape\n",
    "\n",
    "plt.hist(train[1],bins=50);"
   ]
  },
  {
   "cell_type": "code",
   "execution_count": 28,
   "metadata": {
    "collapsed": false,
    "deletable": true,
    "editable": true
   },
   "outputs": [],
   "source": [
    "def model(input_shape, output_shape):\n",
    "\n",
    "    # create model\n",
    "    layer1 = {'layer': 'input', #41\n",
    "            'input_shape': input_shape\n",
    "            }\n",
    "    layer2 = {'layer': 'conv1d', \n",
    "            'num_filters': 32, \n",
    "            'filter_size': 21, # 21\n",
    "            'norm': 'batch',\n",
    "            'activation': 'leaky_relu',\n",
    "            'dropout': 0.1,\n",
    "            'padding': 'VALID',\n",
    "            'mean_poolsize': 7,   # 3\n",
    "            }\n",
    "    layer3 = {'layer': 'conv1d', \n",
    "            'num_filters': 64,\n",
    "            'filter_size': 3, # 1\n",
    "            'norm': 'batch',\n",
    "            'activation': 'leaky_relu',\n",
    "            'dropout': 0.5,\n",
    "            'padding': 'VALID'\n",
    "            }\n",
    "    layer4 = {'layer': 'dense', \n",
    "            'num_units': output_shape[1],\n",
    "            'activation': 'linear'\n",
    "            }\n",
    "\n",
    "    #from tfomics import build_network\n",
    "    model_layers = [layer1, layer2, layer3, layer4]\n",
    "    \n",
    "    # optimization parameters\n",
    "    optimization = {\"objective\": \"squared_error\",\n",
    "                  \"optimizer\": \"adam\",\n",
    "                  \"learning_rate\": 0.001, \n",
    "                  \"l2\": 1e-6,\n",
    "                  #\"l1\": 0.1, \n",
    "                  }\n",
    "    return model_layers, optimization\n",
    "\n",
    "\n",
    "# get shapes\n",
    "num_data, height, width, dim = train[0].shape\n",
    "input_shape=[None, height, width, dim]\n",
    "output_shape = train[1].shape\n",
    "\n",
    "model_layers, optimization = model(input_shape, output_shape)"
   ]
  },
  {
   "cell_type": "code",
   "execution_count": 29,
   "metadata": {
    "collapsed": false,
    "deletable": true,
    "editable": true,
    "scrolled": false
   },
   "outputs": [
    {
     "name": "stdout",
     "output_type": "stream",
     "text": [
      "----------------------------------------------------------------------------\n",
      "Network architecture:\n",
      "----------------------------------------------------------------------------\n",
      "layer1: inputs\n",
      "(?, 41, 1, 4)\n",
      "layer2: conv1d_0\n",
      "(?, 21, 1, 32)\n",
      "layer3: conv1d_0_batch\n",
      "(?, 21, 1, 32)\n",
      "layer4: conv1d_0_active\n",
      "(?, 21, 1, 32)\n",
      "layer5: conv1d_0_dropout\n",
      "(?, 21, 1, 32)\n",
      "layer6: conv1d_1\n",
      "(?, 19, 1, 64)\n",
      "layer7: conv1d_1_batch\n",
      "(?, 19, 1, 64)\n",
      "layer8: conv1d_1_active\n",
      "(?, 19, 1, 64)\n",
      "layer9: conv1d_1_dropout\n",
      "(?, 19, 1, 64)\n",
      "layer10: dense_0\n",
      "(?, 1)\n",
      "layer11: dense_0_bias\n",
      "(?, 1)\n",
      "layer12: output\n",
      "(?, 1)\n",
      "----------------------------------------------------------------------------\n"
     ]
    }
   ],
   "source": [
    "# set output file paths\n",
    "results_path = utils.make_directory(data_path, 'results')\n",
    "results_path = utils.make_directory(results_path, 'tfomics')\n",
    "output_name = 'test'\n",
    "filepath = os.path.join(results_path, output_name)\n",
    "\n",
    "# build neural network class\n",
    "nnmodel = nn.NeuralNet()\n",
    "nnmodel.build_layers(model_layers, optimization)\n",
    "nnmodel.inspect_layers()\n",
    "\n",
    "# compile neural trainer\n",
    "nntrainer = nn.NeuralTrainer(nnmodel, save='best', filepath=filepath)"
   ]
  },
  {
   "cell_type": "code",
   "execution_count": 30,
   "metadata": {
    "collapsed": false,
    "deletable": true,
    "editable": true
   },
   "outputs": [],
   "source": [
    "sess = utils.initialize_session(nnmodel.placeholders)"
   ]
  },
  {
   "cell_type": "code",
   "execution_count": 31,
   "metadata": {
    "collapsed": false,
    "deletable": true,
    "editable": true,
    "scrolled": false
   },
   "outputs": [
    {
     "name": "stdout",
     "output_type": "stream",
     "text": [
      "Epoch 1 out of 50 \n",
      "[==============================] 100.0% -- time=0s -- loss=1.12862 -- correlation=1.12842   \n",
      "  valid loss:\t\t0.88512\n",
      "  valid Pearson's R:\t0.36572+/-0.00000\n",
      "  valid rsquare:\t0.11488+/-0.00000\n",
      "  valid slope:\t\t0.98841+/-0.00000\n",
      "  lower cross-validation found\n",
      "  saving model to:  /media/peter/storage/DeepBind/rnac/results/tfomics/test_best.ckpt\n",
      "Epoch 2 out of 50 \n",
      "[==============================] 100.0% -- time=0s -- loss=0.89397 -- correlation=0.89378   \n",
      "  valid loss:\t\t0.80664\n",
      "  valid Pearson's R:\t0.44319+/-0.00000\n",
      "  valid rsquare:\t0.19499+/-0.00000\n",
      "  valid slope:\t\t1.09971+/-0.00000\n",
      "  lower cross-validation found\n",
      "  saving model to:  /media/peter/storage/DeepBind/rnac/results/tfomics/test_best.ckpt\n",
      "Epoch 3 out of 50 \n",
      "[==============================] 100.0% -- time=0s -- loss=0.82978 -- correlation=0.82958   \n",
      "  valid loss:\t\t0.76500\n",
      "  valid Pearson's R:\t0.49159+/-0.00000\n",
      "  valid rsquare:\t0.23894+/-0.00000\n",
      "  valid slope:\t\t1.14644+/-0.00000\n",
      "  lower cross-validation found\n",
      "  saving model to:  /media/peter/storage/DeepBind/rnac/results/tfomics/test_best.ckpt\n",
      "Epoch 4 out of 50 \n",
      "[==============================] 100.0% -- time=0s -- loss=0.76772 -- correlation=0.76752   \n",
      "  valid loss:\t\t0.71195\n",
      "  valid Pearson's R:\t0.55988+/-0.00000\n",
      "  valid rsquare:\t0.29638+/-0.00000\n",
      "  valid slope:\t\t1.20053+/-0.00000\n",
      "  lower cross-validation found\n",
      "  saving model to:  /media/peter/storage/DeepBind/rnac/results/tfomics/test_best.ckpt\n",
      "Epoch 5 out of 50 \n",
      "[==============================] 100.0% -- time=0s -- loss=0.70280 -- correlation=0.70259   \n",
      "  valid loss:\t\t0.64900\n",
      "  valid Pearson's R:\t0.61604+/-0.00000\n",
      "  valid rsquare:\t0.36379+/-0.00000\n",
      "  valid slope:\t\t1.22999+/-0.00000\n",
      "  lower cross-validation found\n",
      "  saving model to:  /media/peter/storage/DeepBind/rnac/results/tfomics/test_best.ckpt\n",
      "Epoch 6 out of 50 \n",
      "[==============================] 100.0% -- time=0s -- loss=0.64967 -- correlation=0.64945   \n",
      "  valid loss:\t\t0.60947\n",
      "  valid Pearson's R:\t0.65051+/-0.00000\n",
      "  valid rsquare:\t0.40083+/-0.00000\n",
      "  valid slope:\t\t1.18984+/-0.00000\n",
      "  lower cross-validation found\n",
      "  saving model to:  /media/peter/storage/DeepBind/rnac/results/tfomics/test_best.ckpt\n",
      "Epoch 7 out of 50 \n",
      "[==============================] 100.0% -- time=0s -- loss=0.60567 -- correlation=0.60544   \n",
      "  valid loss:\t\t0.55089\n",
      "  valid Pearson's R:\t0.68225+/-0.00000\n",
      "  valid rsquare:\t0.45587+/-0.00000\n",
      "  valid slope:\t\t1.13724+/-0.00000\n",
      "  lower cross-validation found\n",
      "  saving model to:  /media/peter/storage/DeepBind/rnac/results/tfomics/test_best.ckpt\n",
      "Epoch 8 out of 50 \n",
      "[==============================] 100.0% -- time=0s -- loss=0.57049 -- correlation=0.57024   \n",
      "  valid loss:\t\t0.52674\n",
      "  valid Pearson's R:\t0.69790+/-0.00000\n",
      "  valid rsquare:\t0.48454+/-0.00000\n",
      "  valid slope:\t\t1.17890+/-0.00000\n",
      "  lower cross-validation found\n",
      "  saving model to:  /media/peter/storage/DeepBind/rnac/results/tfomics/test_best.ckpt\n",
      "Epoch 9 out of 50 \n",
      "[==============================] 100.0% -- time=0s -- loss=0.55144 -- correlation=0.55118   \n",
      "  valid loss:\t\t0.51900\n",
      "  valid Pearson's R:\t0.70522+/-0.00000\n",
      "  valid rsquare:\t0.48525+/-0.00000\n",
      "  valid slope:\t\t1.10118+/-0.00000\n",
      "  lower cross-validation found\n",
      "  saving model to:  /media/peter/storage/DeepBind/rnac/results/tfomics/test_best.ckpt\n",
      "Epoch 10 out of 50 \n",
      "[==============================] 100.0% -- time=0s -- loss=0.54096 -- correlation=0.54069   \n",
      "  valid loss:\t\t0.51596\n",
      "  valid Pearson's R:\t0.71425+/-0.00000\n",
      "  valid rsquare:\t0.50214+/-0.00000\n",
      "  valid slope:\t\t1.23303+/-0.00000\n",
      "  lower cross-validation found\n",
      "  saving model to:  /media/peter/storage/DeepBind/rnac/results/tfomics/test_best.ckpt\n",
      "Epoch 11 out of 50 \n",
      "[==============================] 100.0% -- time=0s -- loss=0.53407 -- correlation=0.53379   \n",
      "  valid loss:\t\t0.50597\n",
      "  valid Pearson's R:\t0.71057+/-0.00000\n",
      "  valid rsquare:\t0.49426+/-0.00000\n",
      "  valid slope:\t\t0.99086+/-0.00000\n",
      "  lower cross-validation found\n",
      "  saving model to:  /media/peter/storage/DeepBind/rnac/results/tfomics/test_best.ckpt\n",
      "Epoch 12 out of 50 \n",
      "[==============================] 100.0% -- time=0s -- loss=0.52294 -- correlation=0.52265   \n",
      "  valid loss:\t\t0.49980\n",
      "  valid Pearson's R:\t0.71955+/-0.00000\n",
      "  valid rsquare:\t0.51280+/-0.00000\n",
      "  valid slope:\t\t1.18434+/-0.00000\n",
      "  lower cross-validation found\n",
      "  saving model to:  /media/peter/storage/DeepBind/rnac/results/tfomics/test_best.ckpt\n",
      "Epoch 13 out of 50 \n",
      "[==============================] 100.0% -- time=0s -- loss=0.51867 -- correlation=0.51837   \n",
      "  valid loss:\t\t0.48590\n",
      "  valid Pearson's R:\t0.71974+/-0.00000\n",
      "  valid rsquare:\t0.51521+/-0.00000\n",
      "  valid slope:\t\t1.04386+/-0.00000\n",
      "  lower cross-validation found\n",
      "  saving model to:  /media/peter/storage/DeepBind/rnac/results/tfomics/test_best.ckpt\n",
      "Epoch 14 out of 50 \n",
      "[==============================] 100.0% -- time=0s -- loss=0.51722 -- correlation=0.51691   \n",
      "  valid loss:\t\t0.49509\n",
      "  valid Pearson's R:\t0.72015+/-0.00000\n",
      "  valid rsquare:\t0.51285+/-0.00000\n",
      "  valid slope:\t\t1.13988+/-0.00000\n",
      "Epoch 15 out of 50 \n",
      "[==============================] 100.0% -- time=0s -- loss=0.51080 -- correlation=0.51048   \n",
      "  valid loss:\t\t0.49128\n",
      "  valid Pearson's R:\t0.71897+/-0.00000\n",
      "  valid rsquare:\t0.50918+/-0.00000\n",
      "  valid slope:\t\t1.02198+/-0.00000\n",
      "Epoch 16 out of 50 \n",
      "[==============================] 100.0% -- time=0s -- loss=0.50775 -- correlation=0.50742   \n",
      "  valid loss:\t\t0.49616\n",
      "  valid Pearson's R:\t0.72132+/-0.00000\n",
      "  valid rsquare:\t0.50653+/-0.00000\n",
      "  valid slope:\t\t1.07491+/-0.00000\n",
      "Epoch 17 out of 50 \n",
      "[==============================] 100.0% -- time=0s -- loss=0.50599 -- correlation=0.50565   \n",
      "  valid loss:\t\t0.47815\n",
      "  valid Pearson's R:\t0.72444+/-0.00000\n",
      "  valid rsquare:\t0.52357+/-0.00000\n",
      "  valid slope:\t\t1.05621+/-0.00000\n",
      "  lower cross-validation found\n",
      "  saving model to:  /media/peter/storage/DeepBind/rnac/results/tfomics/test_best.ckpt\n",
      "Epoch 18 out of 50 \n",
      "[==============================] 100.0% -- time=0s -- loss=0.50222 -- correlation=0.50187   \n",
      "  valid loss:\t\t0.48452\n",
      "  valid Pearson's R:\t0.72214+/-0.00000\n",
      "  valid rsquare:\t0.51727+/-0.00000\n",
      "  valid slope:\t\t1.05781+/-0.00000\n",
      "Epoch 19 out of 50 \n",
      "[==============================] 100.0% -- time=0s -- loss=0.50221 -- correlation=0.50185   \n",
      "  valid loss:\t\t0.47728\n",
      "  valid Pearson's R:\t0.72549+/-0.00000\n",
      "  valid rsquare:\t0.52596+/-0.00000\n",
      "  valid slope:\t\t1.08149+/-0.00000\n",
      "  lower cross-validation found\n",
      "  saving model to:  /media/peter/storage/DeepBind/rnac/results/tfomics/test_best.ckpt\n",
      "Epoch 20 out of 50 \n",
      "[==============================] 100.0% -- time=0s -- loss=0.49836 -- correlation=0.49799   \n",
      "  valid loss:\t\t0.49006\n",
      "  valid Pearson's R:\t0.72409+/-0.00000\n",
      "  valid rsquare:\t0.51253+/-0.00000\n",
      "  valid slope:\t\t1.07208+/-0.00000\n",
      "Epoch 21 out of 50 \n",
      "[==============================] 100.0% -- time=0s -- loss=0.49616 -- correlation=0.49579   \n",
      "  valid loss:\t\t0.47960\n",
      "  valid Pearson's R:\t0.72633+/-0.00000\n",
      "  valid rsquare:\t0.52408+/-0.00000\n",
      "  valid slope:\t\t1.08755+/-0.00000\n",
      "Epoch 22 out of 50 \n",
      "[==============================] 100.0% -- time=0s -- loss=0.49607 -- correlation=0.49569   \n",
      "  valid loss:\t\t0.47822\n",
      "  valid Pearson's R:\t0.72706+/-0.00000\n",
      "  valid rsquare:\t0.52578+/-0.00000\n",
      "  valid slope:\t\t1.09179+/-0.00000\n",
      "Epoch 23 out of 50 \n",
      "[==============================] 100.0% -- time=0s -- loss=0.49192 -- correlation=0.49153   \n",
      "  valid loss:\t\t0.48409\n",
      "  valid Pearson's R:\t0.72335+/-0.00000\n",
      "  valid rsquare:\t0.52166+/-0.00000\n",
      "  valid slope:\t\t1.11407+/-0.00000\n",
      "Epoch 24 out of 50 \n",
      "[==============================] 100.0% -- time=0s -- loss=0.48967 -- correlation=0.48926   \n",
      "  valid loss:\t\t0.47689\n",
      "  valid Pearson's R:\t0.72705+/-0.00000\n",
      "  valid rsquare:\t0.52735+/-0.00000\n",
      "  valid slope:\t\t1.09454+/-0.00000\n",
      "  lower cross-validation found\n",
      "  saving model to:  /media/peter/storage/DeepBind/rnac/results/tfomics/test_best.ckpt\n",
      "Epoch 25 out of 50 \n",
      "[==============================] 100.0% -- time=0s -- loss=0.48855 -- correlation=0.48814   \n",
      "  valid loss:\t\t0.47898\n",
      "  valid Pearson's R:\t0.72602+/-0.00000\n",
      "  valid rsquare:\t0.52222+/-0.00000\n",
      "  valid slope:\t\t1.04295+/-0.00000\n",
      "Epoch 26 out of 50 \n",
      "[==============================] 100.0% -- time=0s -- loss=0.49263 -- correlation=0.49221   \n",
      "  valid loss:\t\t0.48007\n",
      "  valid Pearson's R:\t0.72577+/-0.00000\n",
      "  valid rsquare:\t0.52093+/-0.00000\n",
      "  valid slope:\t\t1.03766+/-0.00000\n",
      "Epoch 27 out of 50 \n",
      "[==============================] 100.0% -- time=0s -- loss=0.48639 -- correlation=0.48595   \n",
      "  valid loss:\t\t0.51008\n",
      "  valid Pearson's R:\t0.72207+/-0.00000\n",
      "  valid rsquare:\t0.49067+/-0.00000\n",
      "  valid slope:\t\t1.03028+/-0.00000\n",
      "Epoch 28 out of 50 \n",
      "[==============================] 100.0% -- time=0s -- loss=0.48546 -- correlation=0.48501   \n",
      "  valid loss:\t\t0.48146\n",
      "  valid Pearson's R:\t0.72457+/-0.00000\n",
      "  valid rsquare:\t0.51922+/-0.00000\n",
      "  valid slope:\t\t0.97491+/-0.00000\n",
      "Epoch 29 out of 50 \n",
      "[==============================] 100.0% -- time=0s -- loss=0.48905 -- correlation=0.48859   \n",
      "  valid loss:\t\t0.49858\n",
      "  valid Pearson's R:\t0.72418+/-0.00000\n",
      "  valid rsquare:\t0.50178+/-0.00000\n",
      "  valid slope:\t\t0.99345+/-0.00000\n",
      "Epoch 30 out of 50 \n",
      "[==============================] 100.0% -- time=0s -- loss=0.48701 -- correlation=0.48655   \n",
      "  valid loss:\t\t0.48046\n",
      "  valid Pearson's R:\t0.72772+/-0.00000\n",
      "  valid rsquare:\t0.52295+/-0.00000\n",
      "  valid slope:\t\t1.08276+/-0.00000\n",
      "Epoch 31 out of 50 \n",
      "[==============================] 100.0% -- time=0s -- loss=0.48879 -- correlation=0.48831   \n",
      "  valid loss:\t\t0.47829\n",
      "  valid Pearson's R:\t0.72726+/-0.00000\n",
      "  valid rsquare:\t0.52310+/-0.00000\n",
      "  valid slope:\t\t1.04631+/-0.00000\n",
      "Epoch 32 out of 50 \n",
      "[==============================] 100.0% -- time=0s -- loss=0.48207 -- correlation=0.48159   \n",
      "  valid loss:\t\t0.47158\n",
      "  valid Pearson's R:\t0.72902+/-0.00000\n",
      "  valid rsquare:\t0.53145+/-0.00000\n",
      "  valid slope:\t\t1.07601+/-0.00000\n",
      "  lower cross-validation found\n",
      "  saving model to:  /media/peter/storage/DeepBind/rnac/results/tfomics/test_best.ckpt\n",
      "Epoch 33 out of 50 \n",
      "[==============================] 100.0% -- time=0s -- loss=0.48477 -- correlation=0.48428   \n",
      "  valid loss:\t\t0.48473\n",
      "  valid Pearson's R:\t0.73010+/-0.00000\n",
      "  valid rsquare:\t0.51566+/-0.00000\n",
      "  valid slope:\t\t1.00168+/-0.00000\n",
      "Epoch 34 out of 50 \n",
      "[==============================] 100.0% -- time=0s -- loss=0.48223 -- correlation=0.48173   \n",
      "  valid loss:\t\t0.49451\n",
      "  valid Pearson's R:\t0.72524+/-0.00000\n",
      "  valid rsquare:\t0.50902+/-0.00000\n",
      "  valid slope:\t\t1.08540+/-0.00000\n",
      "Epoch 35 out of 50 \n",
      "[==============================] 100.0% -- time=0s -- loss=0.48364 -- correlation=0.48313   \n",
      "  valid loss:\t\t0.48700\n",
      "  valid Pearson's R:\t0.72777+/-0.00000\n",
      "  valid rsquare:\t0.51413+/-0.00000\n",
      "  valid slope:\t\t0.96410+/-0.00000\n",
      "Epoch 36 out of 50 \n",
      "[==============================] 100.0% -- time=0s -- loss=0.48136 -- correlation=0.48084   \n",
      "  valid loss:\t\t0.47130\n",
      "  valid Pearson's R:\t0.73340+/-0.00000\n",
      "  valid rsquare:\t0.53595+/-0.00000\n",
      "  valid slope:\t\t1.12725+/-0.00000\n",
      "  lower cross-validation found\n",
      "  saving model to:  /media/peter/storage/DeepBind/rnac/results/tfomics/test_best.ckpt\n",
      "Epoch 37 out of 50 \n",
      "[==============================] 100.0% -- time=0s -- loss=0.48314 -- correlation=0.48261   \n",
      "  valid loss:\t\t0.49234\n",
      "  valid Pearson's R:\t0.73072+/-0.00000\n",
      "  valid rsquare:\t0.51114+/-0.00000\n",
      "  valid slope:\t\t1.08390+/-0.00000\n",
      "Epoch 38 out of 50 \n",
      "[==============================] 100.0% -- time=0s -- loss=0.47812 -- correlation=0.47758   \n",
      "  valid loss:\t\t0.49002\n",
      "  valid Pearson's R:\t0.73026+/-0.00000\n",
      "  valid rsquare:\t0.51092+/-0.00000\n",
      "  valid slope:\t\t1.03266+/-0.00000\n",
      "Epoch 39 out of 50 \n",
      "[==============================] 100.0% -- time=0s -- loss=0.47663 -- correlation=0.47608   \n",
      "  valid loss:\t\t0.47281\n",
      "  valid Pearson's R:\t0.73193+/-0.00000\n",
      "  valid rsquare:\t0.53028+/-0.00000\n",
      "  valid slope:\t\t1.07613+/-0.00000\n",
      "Epoch 40 out of 50 \n",
      "[==============================] 100.0% -- time=0s -- loss=0.47951 -- correlation=0.47896   \n",
      "  valid loss:\t\t0.49483\n",
      "  valid Pearson's R:\t0.72858+/-0.00000\n",
      "  valid rsquare:\t0.51558+/-0.00000\n",
      "  valid slope:\t\t1.16155+/-0.00000\n",
      "Epoch 41 out of 50 \n",
      "[==============================] 100.0% -- time=0s -- loss=0.48043 -- correlation=0.47986   \n",
      "  valid loss:\t\t0.47622\n",
      "  valid Pearson's R:\t0.73013+/-0.00000\n",
      "  valid rsquare:\t0.52819+/-0.00000\n",
      "  valid slope:\t\t1.09468+/-0.00000\n",
      "Epoch 42 out of 50 \n",
      "[==============================] 100.0% -- time=0s -- loss=0.47737 -- correlation=0.47680   \n",
      "  valid loss:\t\t0.47137\n",
      "  valid Pearson's R:\t0.73275+/-0.00000\n",
      "  valid rsquare:\t0.53110+/-0.00000\n",
      "  valid slope:\t\t1.06557+/-0.00000\n",
      "Epoch 43 out of 50 \n",
      "[==============================] 100.0% -- time=0s -- loss=0.47722 -- correlation=0.47663   \n",
      "  valid loss:\t\t0.47737\n",
      "  valid Pearson's R:\t0.72933+/-0.00000\n",
      "  valid rsquare:\t0.52345+/-0.00000\n",
      "  valid slope:\t\t1.02581+/-0.00000\n",
      "Epoch 44 out of 50 \n",
      "[==============================] 100.0% -- time=0s -- loss=0.47645 -- correlation=0.47585   \n",
      "  valid loss:\t\t0.47744\n",
      "  valid Pearson's R:\t0.73393+/-0.00000\n",
      "  valid rsquare:\t0.52833+/-0.00000\n",
      "  valid slope:\t\t1.11113+/-0.00000\n",
      "Epoch 45 out of 50 \n",
      "[==============================] 100.0% -- time=0s -- loss=0.47294 -- correlation=0.47234   \n",
      "  valid loss:\t\t0.47267\n",
      "  valid Pearson's R:\t0.73024+/-0.00000\n",
      "  valid rsquare:\t0.53016+/-0.00000\n",
      "  valid slope:\t\t1.07143+/-0.00000\n",
      "Epoch 46 out of 50 \n",
      "[==============================] 100.0% -- time=0s -- loss=0.47601 -- correlation=0.47539   \n",
      "  valid loss:\t\t0.46641\n",
      "  valid Pearson's R:\t0.73130+/-0.00000\n",
      "  valid rsquare:\t0.53478+/-0.00000\n",
      "  valid slope:\t\t1.03720+/-0.00000\n",
      "  lower cross-validation found\n",
      "  saving model to:  /media/peter/storage/DeepBind/rnac/results/tfomics/test_best.ckpt\n",
      "Epoch 47 out of 50 \n",
      "[==============================] 100.0% -- time=0s -- loss=0.47805 -- correlation=0.47742   \n",
      "  valid loss:\t\t0.48127\n",
      "  valid Pearson's R:\t0.73210+/-0.00000\n",
      "  valid rsquare:\t0.52081+/-0.00000\n",
      "  valid slope:\t\t1.05794+/-0.00000\n",
      "Epoch 48 out of 50 \n",
      "[==============================] 100.0% -- time=0s -- loss=0.47238 -- correlation=0.47175   \n",
      "  valid loss:\t\t0.47967\n",
      "  valid Pearson's R:\t0.73070+/-0.00000\n",
      "  valid rsquare:\t0.52336+/-0.00000\n",
      "  valid slope:\t\t1.07436+/-0.00000\n",
      "Epoch 49 out of 50 \n",
      "[==============================] 100.0% -- time=0s -- loss=0.47611 -- correlation=0.47547   \n",
      "  valid loss:\t\t0.47412\n",
      "  valid Pearson's R:\t0.73236+/-0.00000\n",
      "  valid rsquare:\t0.52993+/-0.00000\n",
      "  valid slope:\t\t1.08885+/-0.00000\n",
      "Epoch 50 out of 50 \n",
      "[==============================] 100.0% -- time=0s -- loss=0.47359 -- correlation=0.47294   \n",
      "  valid loss:\t\t0.48929\n",
      "  valid Pearson's R:\t0.73168+/-0.00000\n",
      "  valid rsquare:\t0.51700+/-0.00000\n",
      "  valid slope:\t\t1.11782+/-0.00000\n",
      "  saving model to:  /media/peter/storage/DeepBind/rnac/results/tfomics/test_last.ckpt\n"
     ]
    }
   ],
   "source": [
    "train_batch = {'inputs': train[0], 'targets': train[1]}\n",
    "valid_batch = {'inputs': valid[0], 'targets': valid[1]}\n",
    "#test = {'inputs': X_test, 'targets': y_test}\n",
    "data = {'train': train_batch, 'valid': valid_batch}\n",
    "fit.train_minibatch(sess, nntrainer, data, batch_size=100, num_epochs=50, \n",
    "                      patience=20, verbose=2, shuffle=True, save_all=False)"
   ]
  },
  {
   "cell_type": "code",
   "execution_count": 21,
   "metadata": {
    "collapsed": false,
    "deletable": true,
    "editable": true
   },
   "outputs": [
    {
     "name": "stdout",
     "output_type": "stream",
     "text": [
      "loading model from:  /Users/praveenanand/Documents/LabNoteBook/Peter_DeepNeural_RNABinding/Datasets/DeepBind/nbt3300-code/data/rnac/results/tfomics/test_best.ckpt\n",
      "  test  loss:\t\t0.50177\n",
      "  test  Pearson's R:\t0.70834+/-0.00000\n",
      "  test  rsquare:\t0.50175+/-0.00000\n",
      "  test  slope:\t\t0.93215+/-0.00000\n"
     ]
    }
   ],
   "source": [
    "nntrainer.set_best_parameters(sess)\n",
    "\n",
    "test = {'inputs': test_sequence, 'targets': norm_test_targets}\n",
    "loss, mean_vals, std_vals = nntrainer.test_model(sess, test, batch_size=128, name='test', verbose=1)"
   ]
  },
  {
   "cell_type": "code",
   "execution_count": 22,
   "metadata": {
    "collapsed": false,
    "deletable": true,
    "editable": true
   },
   "outputs": [
    {
     "data": {
      "image/png": "[encoded data removed]",
      "text/plain": [
       "<matplotlib.figure.Figure at 0x14776bd50>"
      ]
     },
     "metadata": {},
     "output_type": "display_data"
    }
   ],
   "source": [
    "W = nnmodel.get_parameters(sess, layer='conv1d_0')[0]\n",
    "W = np.squeeze(W.transpose([3, 2, 0, 1]))\n",
    "fig, plt = visualize.plot_filter_logos(W, normalize=True, figsize=(100,50), height=25, \n",
    "                            nt_width=10, norm=0, alphabet='rna')"
   ]
  },
  {
   "cell_type": "code",
   "execution_count": 23,
   "metadata": {
    "collapsed": false,
    "deletable": true,
    "editable": true
   },
   "outputs": [],
   "source": [
    "predictions = nntrainer.get_activations(sess, test, layer='output')"
   ]
  },
  {
   "cell_type": "code",
   "execution_count": 24,
   "metadata": {
    "collapsed": false,
    "deletable": true,
    "editable": true
   },
   "outputs": [
    {
     "data": {
      "text/plain": [
       "<matplotlib.collections.PathCollection at 0x1438a1e10>"
      ]
     },
     "execution_count": 24,
     "metadata": {},
     "output_type": "execute_result"
    },
    {
     "data": {
      "image/png": "[encoded data removed]",
      "text/plain": [
       "<matplotlib.figure.Figure at 0x14885ffd0>"
      ]
     },
     "metadata": {},
     "output_type": "display_data"
    }
   ],
   "source": [
    "plt.scatter(predictions, norm_test_targets)"
   ]
  },
  {
   "cell_type": "code",
   "execution_count": 25,
   "metadata": {
    "collapsed": false,
    "deletable": true,
    "editable": true
   },
   "outputs": [
    {
     "data": {
      "text/plain": [
       "array([[ 13.23156357],\n",
       "       [  9.11865997],\n",
       "       [  9.11865997],\n",
       "       ..., \n",
       "       [ -0.66619956],\n",
       "       [ -0.67033774],\n",
       "       [ -0.67811853]], dtype=float32)"
      ]
     },
     "execution_count": 25,
     "metadata": {},
     "output_type": "execute_result"
    }
   ],
   "source": [
    "max_indices = np.argsort(predictions[:,0])[::-1]\n",
    "predictions[max_indices]"
   ]
  },
  {
   "cell_type": "code",
   "execution_count": 26,
   "metadata": {
    "collapsed": false,
    "deletable": true,
    "editable": true
   },
   "outputs": [
    {
     "data": {
      "text/plain": [
       "<matplotlib.figure.Figure at 0x144516ad0>"
      ]
     },
     "metadata": {},
     "output_type": "display_data"
    },
    {
     "data": {
      "image/png": "[encoded data removed]",
      "text/plain": [
       "<matplotlib.figure.Figure at 0x142c96450>"
      ]
     },
     "metadata": {},
     "output_type": "display_data"
    },
    {
     "data": {
      "text/plain": [
       "<matplotlib.figure.Figure at 0x142dc9990>"
      ]
     },
     "metadata": {},
     "output_type": "display_data"
    },
    {
     "data": {
      "image/png": "[encoded data removed]",
      "text/plain": [
       "<matplotlib.figure.Figure at 0x147696450>"
      ]
     },
     "metadata": {},
     "output_type": "display_data"
    },
    {
     "data": {
      "text/plain": [
       "<matplotlib.figure.Figure at 0x1472db890>"
      ]
     },
     "metadata": {},
     "output_type": "display_data"
    },
    {
     "data": {
      "image/png": "[encoded data removed]",
      "text/plain": [
       "<matplotlib.figure.Figure at 0x143ed9d50>"
      ]
     },
     "metadata": {},
     "output_type": "display_data"
    },
    {
     "data": {
      "text/plain": [
       "<matplotlib.figure.Figure at 0x142e9ba50>"
      ]
     },
     "metadata": {},
     "output_type": "display_data"
    },
    {
     "data": {
      "image/png": "[encoded data removed]",
      "text/plain": [
       "<matplotlib.figure.Figure at 0x144537fd0>"
      ]
     },
     "metadata": {},
     "output_type": "display_data"
    },
    {
     "data": {
      "text/plain": [
       "<matplotlib.figure.Figure at 0x143a3b610>"
      ]
     },
     "metadata": {},
     "output_type": "display_data"
    },
    {
     "data": {
      "image/png": "[encoded data removed]",
      "text/plain": [
       "<matplotlib.figure.Figure at 0x14332bd50>"
      ]
     },
     "metadata": {},
     "output_type": "display_data"
    }
   ],
   "source": [
    "num_plots = 5\n",
    "\n",
    "for i, index in enumerate(max_indices[:5]):\n",
    "    # sequence to perform saliency analysis\n",
    "    \n",
    "    X = np.expand_dims(test_sequence[index], axis=0)\n",
    "\n",
    "    # parameters for saliency analysis\n",
    "    params = {'genome_model': model, \n",
    "              'input_shape': input_shape, \n",
    "              'output_shape': output_shape, \n",
    "              'model_path': filepath+'_best.ckpt',\n",
    "              'optimization': optimization\n",
    "             }\n",
    "\n",
    "    # guided backprop saliency\n",
    "    #guided_saliency = saliency.guided_backprop(X, layer='output', class_index=0, params=params)\n",
    "\n",
    "    # stochastic guided backprop saliency\n",
    "    guided_saliency = saliency.stochastic_guided_backprop(X, layer='output', class_index=None, params=params,\n",
    "                                                             num_average=200, threshold=0.0, stochastic_val=0.5)\n",
    "\n",
    "\n",
    "    # plot saliency comparison\n",
    "    plt.figure()\n",
    "    visualize.plot_seq_pos_saliency(np.squeeze(X).T, np.squeeze(guided_saliency[0]).T, alphabet='rna')    \n",
    "    "
   ]
  },
  {
   "cell_type": "code",
   "execution_count": null,
   "metadata": {
    "collapsed": true,
    "deletable": true,
    "editable": true
   },
   "outputs": [],
   "source": []
  },
  {
   "cell_type": "code",
   "execution_count": null,
   "metadata": {
    "collapsed": true,
    "deletable": true,
    "editable": true
   },
   "outputs": [],
   "source": []
  },
  {
   "cell_type": "code",
   "execution_count": 52,
   "metadata": {
    "collapsed": false,
    "deletable": true,
    "editable": true
   },
   "outputs": [
    {
     "data": {
      "text/plain": [
       "(-0.5, 819.5, 99.5, -0.5)"
      ]
     },
     "execution_count": 52,
     "metadata": {},
     "output_type": "execute_result"
    },
    {
     "data": {
      "image/png": "[encoded data removed]",
      "text/plain": [
       "<matplotlib.figure.Figure at 0x124cd1dd0>"
      ]
     },
     "metadata": {},
     "output_type": "display_data"
    }
   ],
   "source": [
    "\n",
    "# sequence to perform saliency analysis\n",
    "X = np.expand_dims(test_sequence[index], axis=0)\n",
    "\n",
    "# parameters for saliency analysis\n",
    "params = {'genome_model': model, \n",
    "          'input_shape': input_shape, \n",
    "          'output_shape': output_shape, \n",
    "          'model_path': filepath+'_best.ckpt',\n",
    "          'optimization': optimization\n",
    "         }\n",
    "\n",
    "# backprop saliency\n",
    "backprop_saliency = saliency.backprop(X, layer='output', class_index=0, params=params)\n",
    "\n",
    "# guided backprop saliency\n",
    "guided_saliency = saliency.guided_backprop(X, layer='output', class_index=0, params=params)\n",
    "\n",
    "# stochastic guided backprop saliency\n",
    "stochastic_saliency = saliency.stochastic_guided_backprop(X, layer='output', class_index=0, params=params,\n",
    "                                                         num_average=200, threshold=12.0, stochastic_val=0.5)\n",
    "\n",
    "# plot saliency comparison\n",
    "fig, ax = plt.subplots(nrows=4, ncols=1, sharex=True, sharey=True, figsize=(15, 3));\n",
    "plt.subplot(4,1,1)\n",
    "visualize.plot_pos_saliency(np.squeeze(backprop_saliency[0]).T, alphabet='rna')    \n",
    "plt.ylabel(' backprop', fontsize=6)\n",
    "plt.subplot(4,1,2)\n",
    "visualize.plot_pos_saliency(np.squeeze(guided_saliency[0]).T, alphabet='rna')    \n",
    "plt.ylabel(' guided', fontsize=6)\n",
    "plt.subplot(4,1,3)\n",
    "visualize.plot_pos_saliency(np.squeeze(stochastic_saliency[0]).T, alphabet='rna')    \n",
    "plt.ylabel(' stochastic', fontsize=6)\n",
    "plt.subplot(4,1,4)\n",
    "visualize.plot_pos_saliency(np.squeeze(X).T, alphabet='rna')    \n",
    "plt.axis('off')"
   ]
  },
  {
   "cell_type": "code",
   "execution_count": null,
   "metadata": {
    "collapsed": false,
    "deletable": true,
    "editable": true
   },
   "outputs": [],
   "source": []
  },
  {
   "cell_type": "code",
   "execution_count": null,
   "metadata": {
    "collapsed": true,
    "deletable": true,
    "editable": true
   },
   "outputs": [],
   "source": []
  }
 ],
 "metadata": {
  "anaconda-cloud": {},
  "kernelspec": {
   "display_name": "Python 2",
   "language": "python",
   "name": "python2"
  },
  "language_info": {
   "codemirror_mode": {
    "name": "ipython",
    "version": 2
   },
   "file_extension": ".py",
   "mimetype": "text/x-python",
   "name": "python",
   "nbconvert_exporter": "python",
   "pygments_lexer": "ipython2",
   "version": "2.7.13"
  }
 },
 "nbformat": 4,
 "nbformat_minor": 0
}
